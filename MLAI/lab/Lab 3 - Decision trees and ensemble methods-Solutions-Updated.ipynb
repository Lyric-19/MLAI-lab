{
 "cells": [
  {
   "cell_type": "markdown",
   "metadata": {},
   "source": [
    "# Decision trees and ensemble methods\n",
    "\n",
    "A [decision tree](https://en.wikipedia.org/wiki/Decision_tree_learning) can be thought of as a sequence of **hierarchical if-else statements** that test feature values to predict a class.\n",
    "\n",
    "\n",
    "In this notebook we will explore the use of [scikit-learn](https://scikit-learn.org/stable/) for Decision Trees. This first example will allow us to understand some of the parameters in a decision tree. \n",
    "\n",
    "\n",
    "## Decision trees with scikit-learn\n",
    "\n",
    "We will build a classifier that will be able to detect spam from the text in an email. The dataset that we will use is from the [UCI Machine Learning Repository](http://archive.ics.uci.edu/ml/index.php), where UCI stands for University of California Irvine. The UCI repository is and has been a valuable resource in Machine Learning. It contains datasets for classification, regression, clustering and several other machine learning problems. These datasets are open source and they have been uploaded by contributors of many research articles. \n",
    "\n",
    "The particular dataset that we will use wil be referred to is the [Spambase Dataset](http://archive.ics.uci.edu/ml/datasets/Spambase). A detailed description is in the previous link. The dataset contains 57 features related to word frequency, character frequency, and others related to capital letters. The description of the features and labels in the dataset is available [here](http://archive.ics.uci.edu/ml/machine-learning-databases/spambase/spambase.names). The output label indicated whether an email was considered 'ham' or 'spam', so it is a binary label. \n",
    "\n",
    "We will use Decision tree as our predictive model. But first, we get the data and the names of the attributes"
   ]
  },
  {
   "cell_type": "code",
   "execution_count": 1,
   "metadata": {},
   "outputs": [],
   "source": [
    "import pandas as pd\n",
    "import numpy as np\n",
    "spam_data = pd.read_csv('https://raw.githubusercontent.com/maalvarezl/MLAI/master/Labs/datasets/spambase.data', header=None)\n",
    "spam_names_list = pd.read_csv('https://raw.githubusercontent.com/maalvarezl/MLAI/master/Labs/datasets/spambase.data.names', header=None)\n",
    "number_names = np.shape(spam_names_list)[0]\n",
    "spam_names = ['None']*number_names\n",
    "for i in range(number_names):\n",
    "    local = spam_names_list[0][i]\n",
    "    colon_pos = local.find(':')\n",
    "    spam_names[i] = local[:colon_pos]\n",
    "spam_data.columns = spam_names\n",
    "X = spam_data.iloc[:, 0:57]\n",
    "y = spam_data.iloc[:, 57]"
   ]
  },
  {
   "cell_type": "code",
   "execution_count": 2,
   "metadata": {},
   "outputs": [
    {
     "data": {
      "text/html": [
       "<div>\n",
       "<style scoped>\n",
       "    .dataframe tbody tr th:only-of-type {\n",
       "        vertical-align: middle;\n",
       "    }\n",
       "\n",
       "    .dataframe tbody tr th {\n",
       "        vertical-align: top;\n",
       "    }\n",
       "\n",
       "    .dataframe thead th {\n",
       "        text-align: right;\n",
       "    }\n",
       "</style>\n",
       "<table border=\"1\" class=\"dataframe\">\n",
       "  <thead>\n",
       "    <tr style=\"text-align: right;\">\n",
       "      <th></th>\n",
       "      <th>word_freq_make</th>\n",
       "      <th>word_freq_address</th>\n",
       "      <th>word_freq_all</th>\n",
       "      <th>word_freq_3d</th>\n",
       "      <th>word_freq_our</th>\n",
       "      <th>word_freq_over</th>\n",
       "      <th>word_freq_remove</th>\n",
       "      <th>word_freq_internet</th>\n",
       "      <th>word_freq_order</th>\n",
       "      <th>word_freq_mail</th>\n",
       "      <th>...</th>\n",
       "      <th>char_freq_;</th>\n",
       "      <th>char_freq_(</th>\n",
       "      <th>char_freq_[</th>\n",
       "      <th>char_freq_!</th>\n",
       "      <th>char_freq_$</th>\n",
       "      <th>char_freq_#</th>\n",
       "      <th>capital_run_length_average</th>\n",
       "      <th>capital_run_length_longest</th>\n",
       "      <th>capital_run_length_total</th>\n",
       "      <th>spam_ham</th>\n",
       "    </tr>\n",
       "  </thead>\n",
       "  <tbody>\n",
       "    <tr>\n",
       "      <th>count</th>\n",
       "      <td>4601.000000</td>\n",
       "      <td>4601.000000</td>\n",
       "      <td>4601.000000</td>\n",
       "      <td>4601.000000</td>\n",
       "      <td>4601.000000</td>\n",
       "      <td>4601.000000</td>\n",
       "      <td>4601.000000</td>\n",
       "      <td>4601.000000</td>\n",
       "      <td>4601.000000</td>\n",
       "      <td>4601.000000</td>\n",
       "      <td>...</td>\n",
       "      <td>4601.000000</td>\n",
       "      <td>4601.000000</td>\n",
       "      <td>4601.000000</td>\n",
       "      <td>4601.000000</td>\n",
       "      <td>4601.000000</td>\n",
       "      <td>4601.000000</td>\n",
       "      <td>4601.000000</td>\n",
       "      <td>4601.000000</td>\n",
       "      <td>4601.000000</td>\n",
       "      <td>4601.000000</td>\n",
       "    </tr>\n",
       "    <tr>\n",
       "      <th>mean</th>\n",
       "      <td>0.104553</td>\n",
       "      <td>0.213015</td>\n",
       "      <td>0.280656</td>\n",
       "      <td>0.065425</td>\n",
       "      <td>0.312223</td>\n",
       "      <td>0.095901</td>\n",
       "      <td>0.114208</td>\n",
       "      <td>0.105295</td>\n",
       "      <td>0.090067</td>\n",
       "      <td>0.239413</td>\n",
       "      <td>...</td>\n",
       "      <td>0.038575</td>\n",
       "      <td>0.139030</td>\n",
       "      <td>0.016976</td>\n",
       "      <td>0.269071</td>\n",
       "      <td>0.075811</td>\n",
       "      <td>0.044238</td>\n",
       "      <td>5.191515</td>\n",
       "      <td>52.172789</td>\n",
       "      <td>283.289285</td>\n",
       "      <td>0.394045</td>\n",
       "    </tr>\n",
       "    <tr>\n",
       "      <th>std</th>\n",
       "      <td>0.305358</td>\n",
       "      <td>1.290575</td>\n",
       "      <td>0.504143</td>\n",
       "      <td>1.395151</td>\n",
       "      <td>0.672513</td>\n",
       "      <td>0.273824</td>\n",
       "      <td>0.391441</td>\n",
       "      <td>0.401071</td>\n",
       "      <td>0.278616</td>\n",
       "      <td>0.644755</td>\n",
       "      <td>...</td>\n",
       "      <td>0.243471</td>\n",
       "      <td>0.270355</td>\n",
       "      <td>0.109394</td>\n",
       "      <td>0.815672</td>\n",
       "      <td>0.245882</td>\n",
       "      <td>0.429342</td>\n",
       "      <td>31.729449</td>\n",
       "      <td>194.891310</td>\n",
       "      <td>606.347851</td>\n",
       "      <td>0.488698</td>\n",
       "    </tr>\n",
       "    <tr>\n",
       "      <th>min</th>\n",
       "      <td>0.000000</td>\n",
       "      <td>0.000000</td>\n",
       "      <td>0.000000</td>\n",
       "      <td>0.000000</td>\n",
       "      <td>0.000000</td>\n",
       "      <td>0.000000</td>\n",
       "      <td>0.000000</td>\n",
       "      <td>0.000000</td>\n",
       "      <td>0.000000</td>\n",
       "      <td>0.000000</td>\n",
       "      <td>...</td>\n",
       "      <td>0.000000</td>\n",
       "      <td>0.000000</td>\n",
       "      <td>0.000000</td>\n",
       "      <td>0.000000</td>\n",
       "      <td>0.000000</td>\n",
       "      <td>0.000000</td>\n",
       "      <td>1.000000</td>\n",
       "      <td>1.000000</td>\n",
       "      <td>1.000000</td>\n",
       "      <td>0.000000</td>\n",
       "    </tr>\n",
       "    <tr>\n",
       "      <th>25%</th>\n",
       "      <td>0.000000</td>\n",
       "      <td>0.000000</td>\n",
       "      <td>0.000000</td>\n",
       "      <td>0.000000</td>\n",
       "      <td>0.000000</td>\n",
       "      <td>0.000000</td>\n",
       "      <td>0.000000</td>\n",
       "      <td>0.000000</td>\n",
       "      <td>0.000000</td>\n",
       "      <td>0.000000</td>\n",
       "      <td>...</td>\n",
       "      <td>0.000000</td>\n",
       "      <td>0.000000</td>\n",
       "      <td>0.000000</td>\n",
       "      <td>0.000000</td>\n",
       "      <td>0.000000</td>\n",
       "      <td>0.000000</td>\n",
       "      <td>1.588000</td>\n",
       "      <td>6.000000</td>\n",
       "      <td>35.000000</td>\n",
       "      <td>0.000000</td>\n",
       "    </tr>\n",
       "    <tr>\n",
       "      <th>50%</th>\n",
       "      <td>0.000000</td>\n",
       "      <td>0.000000</td>\n",
       "      <td>0.000000</td>\n",
       "      <td>0.000000</td>\n",
       "      <td>0.000000</td>\n",
       "      <td>0.000000</td>\n",
       "      <td>0.000000</td>\n",
       "      <td>0.000000</td>\n",
       "      <td>0.000000</td>\n",
       "      <td>0.000000</td>\n",
       "      <td>...</td>\n",
       "      <td>0.000000</td>\n",
       "      <td>0.065000</td>\n",
       "      <td>0.000000</td>\n",
       "      <td>0.000000</td>\n",
       "      <td>0.000000</td>\n",
       "      <td>0.000000</td>\n",
       "      <td>2.276000</td>\n",
       "      <td>15.000000</td>\n",
       "      <td>95.000000</td>\n",
       "      <td>0.000000</td>\n",
       "    </tr>\n",
       "    <tr>\n",
       "      <th>75%</th>\n",
       "      <td>0.000000</td>\n",
       "      <td>0.000000</td>\n",
       "      <td>0.420000</td>\n",
       "      <td>0.000000</td>\n",
       "      <td>0.380000</td>\n",
       "      <td>0.000000</td>\n",
       "      <td>0.000000</td>\n",
       "      <td>0.000000</td>\n",
       "      <td>0.000000</td>\n",
       "      <td>0.160000</td>\n",
       "      <td>...</td>\n",
       "      <td>0.000000</td>\n",
       "      <td>0.188000</td>\n",
       "      <td>0.000000</td>\n",
       "      <td>0.315000</td>\n",
       "      <td>0.052000</td>\n",
       "      <td>0.000000</td>\n",
       "      <td>3.706000</td>\n",
       "      <td>43.000000</td>\n",
       "      <td>266.000000</td>\n",
       "      <td>1.000000</td>\n",
       "    </tr>\n",
       "    <tr>\n",
       "      <th>max</th>\n",
       "      <td>4.540000</td>\n",
       "      <td>14.280000</td>\n",
       "      <td>5.100000</td>\n",
       "      <td>42.810000</td>\n",
       "      <td>10.000000</td>\n",
       "      <td>5.880000</td>\n",
       "      <td>7.270000</td>\n",
       "      <td>11.110000</td>\n",
       "      <td>5.260000</td>\n",
       "      <td>18.180000</td>\n",
       "      <td>...</td>\n",
       "      <td>4.385000</td>\n",
       "      <td>9.752000</td>\n",
       "      <td>4.081000</td>\n",
       "      <td>32.478000</td>\n",
       "      <td>6.003000</td>\n",
       "      <td>19.829000</td>\n",
       "      <td>1102.500000</td>\n",
       "      <td>9989.000000</td>\n",
       "      <td>15841.000000</td>\n",
       "      <td>1.000000</td>\n",
       "    </tr>\n",
       "  </tbody>\n",
       "</table>\n",
       "<p>8 rows × 58 columns</p>\n",
       "</div>"
      ],
      "text/plain": [
       "       word_freq_make  word_freq_address  word_freq_all  word_freq_3d  \\\n",
       "count     4601.000000        4601.000000    4601.000000   4601.000000   \n",
       "mean         0.104553           0.213015       0.280656      0.065425   \n",
       "std          0.305358           1.290575       0.504143      1.395151   \n",
       "min          0.000000           0.000000       0.000000      0.000000   \n",
       "25%          0.000000           0.000000       0.000000      0.000000   \n",
       "50%          0.000000           0.000000       0.000000      0.000000   \n",
       "75%          0.000000           0.000000       0.420000      0.000000   \n",
       "max          4.540000          14.280000       5.100000     42.810000   \n",
       "\n",
       "       word_freq_our  word_freq_over  word_freq_remove  word_freq_internet  \\\n",
       "count    4601.000000     4601.000000       4601.000000         4601.000000   \n",
       "mean        0.312223        0.095901          0.114208            0.105295   \n",
       "std         0.672513        0.273824          0.391441            0.401071   \n",
       "min         0.000000        0.000000          0.000000            0.000000   \n",
       "25%         0.000000        0.000000          0.000000            0.000000   \n",
       "50%         0.000000        0.000000          0.000000            0.000000   \n",
       "75%         0.380000        0.000000          0.000000            0.000000   \n",
       "max        10.000000        5.880000          7.270000           11.110000   \n",
       "\n",
       "       word_freq_order  word_freq_mail  ...  char_freq_;  char_freq_(  \\\n",
       "count      4601.000000     4601.000000  ...  4601.000000  4601.000000   \n",
       "mean          0.090067        0.239413  ...     0.038575     0.139030   \n",
       "std           0.278616        0.644755  ...     0.243471     0.270355   \n",
       "min           0.000000        0.000000  ...     0.000000     0.000000   \n",
       "25%           0.000000        0.000000  ...     0.000000     0.000000   \n",
       "50%           0.000000        0.000000  ...     0.000000     0.065000   \n",
       "75%           0.000000        0.160000  ...     0.000000     0.188000   \n",
       "max           5.260000       18.180000  ...     4.385000     9.752000   \n",
       "\n",
       "       char_freq_[  char_freq_!  char_freq_$  char_freq_#  \\\n",
       "count  4601.000000  4601.000000  4601.000000  4601.000000   \n",
       "mean      0.016976     0.269071     0.075811     0.044238   \n",
       "std       0.109394     0.815672     0.245882     0.429342   \n",
       "min       0.000000     0.000000     0.000000     0.000000   \n",
       "25%       0.000000     0.000000     0.000000     0.000000   \n",
       "50%       0.000000     0.000000     0.000000     0.000000   \n",
       "75%       0.000000     0.315000     0.052000     0.000000   \n",
       "max       4.081000    32.478000     6.003000    19.829000   \n",
       "\n",
       "       capital_run_length_average  capital_run_length_longest  \\\n",
       "count                 4601.000000                 4601.000000   \n",
       "mean                     5.191515                   52.172789   \n",
       "std                     31.729449                  194.891310   \n",
       "min                      1.000000                    1.000000   \n",
       "25%                      1.588000                    6.000000   \n",
       "50%                      2.276000                   15.000000   \n",
       "75%                      3.706000                   43.000000   \n",
       "max                   1102.500000                 9989.000000   \n",
       "\n",
       "       capital_run_length_total     spam_ham  \n",
       "count               4601.000000  4601.000000  \n",
       "mean                 283.289285     0.394045  \n",
       "std                  606.347851     0.488698  \n",
       "min                    1.000000     0.000000  \n",
       "25%                   35.000000     0.000000  \n",
       "50%                   95.000000     0.000000  \n",
       "75%                  266.000000     1.000000  \n",
       "max                15841.000000     1.000000  \n",
       "\n",
       "[8 rows x 58 columns]"
      ]
     },
     "execution_count": 2,
     "metadata": {},
     "output_type": "execute_result"
    }
   ],
   "source": [
    "spam_data.describe()"
   ]
  },
  {
   "cell_type": "markdown",
   "metadata": {},
   "source": [
    "We now use the whole dataset to build a decision tree classifier. "
   ]
  },
  {
   "cell_type": "code",
   "execution_count": 3,
   "metadata": {},
   "outputs": [],
   "source": [
    "from sklearn import tree\n",
    "clf = tree.DecisionTreeClassifier(criterion='entropy', max_depth=3)\n",
    "clf = clf.fit(X, y)"
   ]
  },
  {
   "cell_type": "code",
   "execution_count": 4,
   "metadata": {},
   "outputs": [
    {
     "data": {
      "text/plain": [
       "DecisionTreeClassifier(criterion='entropy', max_depth=3)"
      ]
     },
     "execution_count": 4,
     "metadata": {},
     "output_type": "execute_result"
    }
   ],
   "source": [
    "clf"
   ]
  },
  {
   "cell_type": "markdown",
   "metadata": {},
   "source": [
    "**WARNING:** to visualize the tree, we can use the [Graphviz](http://www.graphviz.org/) package and use the exporter [export_graphviz](https://scikit-learn.org/stable/modules/generated/sklearn.tree.export_graphviz.html#sklearn.tree.export_graphviz). First, we need to install the package. An easy way to do it is to use `conda`\n",
    "\n",
    "`conda install python-graphviz`\n",
    "\n",
    "If you are running the Notebook in Binder, you do not need to worry about installing graphviz.\n",
    "\n",
    "We will export the tree as a pdf file spam.pdf"
   ]
  },
  {
   "cell_type": "code",
   "execution_count": 5,
   "metadata": {},
   "outputs": [
    {
     "data": {
      "text/plain": [
       "'spam.pdf'"
      ]
     },
     "execution_count": 5,
     "metadata": {},
     "output_type": "execute_result"
    }
   ],
   "source": [
    "import graphviz \n",
    "dot_data = tree.export_graphviz(clf, out_file=None) \n",
    "graph = graphviz.Source(dot_data) \n",
    "graph.render(\"spam\")"
   ]
  },
  {
   "cell_type": "markdown",
   "metadata": {},
   "source": [
    "We can use the [export_graphviz](https://scikit-learn.org/stable/modules/generated/sklearn.tree.export_graphviz.html#sklearn.tree.export_graphviz) to customize several aspects of the tree. For example, if you look at the .pdf file generated, the names of the features are assigned by default by refering to the column index in `X`. It is possible to assign the names of the features directly. Likewise for the labels `y`. "
   ]
  },
  {
   "cell_type": "code",
   "execution_count": 6,
   "metadata": {},
   "outputs": [],
   "source": [
    "dot_data = tree.export_graphviz(clf, out_file=None, \n",
    "                      feature_names=spam_names[0:57],  \n",
    "                      class_names=['ham', 'spam'],  \n",
    "                      filled=True, rounded=True,  \n",
    "                      special_characters=True)  \n",
    "graph = graphviz.Source(dot_data)  "
   ]
  },
  {
   "cell_type": "markdown",
   "metadata": {},
   "source": [
    "Instead of printing a new .pdf file, we can render the graph inline"
   ]
  },
  {
   "cell_type": "code",
   "execution_count": 7,
   "metadata": {},
   "outputs": [
    {
     "data": {
      "image/svg+xml": "<?xml version=\"1.0\" encoding=\"UTF-8\" standalone=\"no\"?>\n<!DOCTYPE svg PUBLIC \"-//W3C//DTD SVG 1.1//EN\"\n \"http://www.w3.org/Graphics/SVG/1.1/DTD/svg11.dtd\">\n<!-- Generated by graphviz version 2.49.1 (20210923.0004)\n -->\n<!-- Title: Tree Pages: 1 -->\n<svg width=\"1062pt\" height=\"433pt\"\n viewBox=\"0.00 0.00 1061.50 433.00\" xmlns=\"http://www.w3.org/2000/svg\" xmlns:xlink=\"http://www.w3.org/1999/xlink\">\n<g id=\"graph0\" class=\"graph\" transform=\"scale(1 1) rotate(0) translate(4 429)\">\n<title>Tree</title>\n<polygon fill=\"white\" stroke=\"transparent\" points=\"-4,4 -4,-429 1057.5,-429 1057.5,4 -4,4\"/>\n<!-- 0 -->\n<g id=\"node1\" class=\"node\">\n<title>0</title>\n<path fill=\"#f6d3ba\" stroke=\"black\" d=\"M602,-425C602,-425 482,-425 482,-425 476,-425 470,-419 470,-413 470,-413 470,-354 470,-354 470,-348 476,-342 482,-342 482,-342 602,-342 602,-342 608,-342 614,-348 614,-354 614,-354 614,-413 614,-413 614,-419 608,-425 602,-425\"/>\n<text text-anchor=\"start\" x=\"479\" y=\"-409.8\" font-family=\"Helvetica,sans-Serif\" font-size=\"14.00\">char_freq_$ ≤ 0.056</text>\n<text text-anchor=\"start\" x=\"493\" y=\"-394.8\" font-family=\"Helvetica,sans-Serif\" font-size=\"14.00\">entropy = 0.967</text>\n<text text-anchor=\"start\" x=\"492\" y=\"-379.8\" font-family=\"Helvetica,sans-Serif\" font-size=\"14.00\">samples = 4601</text>\n<text text-anchor=\"start\" x=\"478\" y=\"-364.8\" font-family=\"Helvetica,sans-Serif\" font-size=\"14.00\">value = [2788, 1813]</text>\n<text text-anchor=\"start\" x=\"504\" y=\"-349.8\" font-family=\"Helvetica,sans-Serif\" font-size=\"14.00\">class = ham</text>\n</g>\n<!-- 1 -->\n<g id=\"node2\" class=\"node\">\n<title>1</title>\n<path fill=\"#eda876\" stroke=\"black\" d=\"M532,-306C532,-306 372,-306 372,-306 366,-306 360,-300 360,-294 360,-294 360,-235 360,-235 360,-229 366,-223 372,-223 372,-223 532,-223 532,-223 538,-223 544,-229 544,-235 544,-235 544,-294 544,-294 544,-300 538,-306 532,-306\"/>\n<text text-anchor=\"start\" x=\"368\" y=\"-290.8\" font-family=\"Helvetica,sans-Serif\" font-size=\"14.00\">word_freq_remove ≤ 0.055</text>\n<text text-anchor=\"start\" x=\"403\" y=\"-275.8\" font-family=\"Helvetica,sans-Serif\" font-size=\"14.00\">entropy = 0.787</text>\n<text text-anchor=\"start\" x=\"402\" y=\"-260.8\" font-family=\"Helvetica,sans-Serif\" font-size=\"14.00\">samples = 3471</text>\n<text text-anchor=\"start\" x=\"392\" y=\"-245.8\" font-family=\"Helvetica,sans-Serif\" font-size=\"14.00\">value = [2655, 816]</text>\n<text text-anchor=\"start\" x=\"414\" y=\"-230.8\" font-family=\"Helvetica,sans-Serif\" font-size=\"14.00\">class = ham</text>\n</g>\n<!-- 0&#45;&gt;1 -->\n<g id=\"edge1\" class=\"edge\">\n<title>0&#45;&gt;1</title>\n<path fill=\"none\" stroke=\"black\" d=\"M510.77,-341.91C503.86,-332.92 496.47,-323.32 489.35,-314.05\"/>\n<polygon fill=\"black\" stroke=\"black\" points=\"492.04,-311.81 483.17,-306.02 486.49,-316.08 492.04,-311.81\"/>\n<text text-anchor=\"middle\" x=\"479.94\" y=\"-327.11\" font-family=\"Helvetica,sans-Serif\" font-size=\"14.00\">True</text>\n</g>\n<!-- 8 -->\n<g id=\"node9\" class=\"node\">\n<title>8</title>\n<path fill=\"#53aae8\" stroke=\"black\" d=\"M713.5,-306C713.5,-306 600.5,-306 600.5,-306 594.5,-306 588.5,-300 588.5,-294 588.5,-294 588.5,-235 588.5,-235 588.5,-229 594.5,-223 600.5,-223 600.5,-223 713.5,-223 713.5,-223 719.5,-223 725.5,-229 725.5,-235 725.5,-235 725.5,-294 725.5,-294 725.5,-300 719.5,-306 713.5,-306\"/>\n<text text-anchor=\"start\" x=\"596.5\" y=\"-290.8\" font-family=\"Helvetica,sans-Serif\" font-size=\"14.00\">word_freq_hp ≤ 0.4</text>\n<text text-anchor=\"start\" x=\"608\" y=\"-275.8\" font-family=\"Helvetica,sans-Serif\" font-size=\"14.00\">entropy = 0.523</text>\n<text text-anchor=\"start\" x=\"607.5\" y=\"-260.8\" font-family=\"Helvetica,sans-Serif\" font-size=\"14.00\">samples = 1130</text>\n<text text-anchor=\"start\" x=\"601\" y=\"-245.8\" font-family=\"Helvetica,sans-Serif\" font-size=\"14.00\">value = [133, 997]</text>\n<text text-anchor=\"start\" x=\"615.5\" y=\"-230.8\" font-family=\"Helvetica,sans-Serif\" font-size=\"14.00\">class = spam</text>\n</g>\n<!-- 0&#45;&gt;8 -->\n<g id=\"edge8\" class=\"edge\">\n<title>0&#45;&gt;8</title>\n<path fill=\"none\" stroke=\"black\" d=\"M581.9,-341.91C591,-332.65 600.75,-322.73 610.11,-313.21\"/>\n<polygon fill=\"black\" stroke=\"black\" points=\"612.66,-315.61 617.17,-306.02 607.67,-310.7 612.66,-315.61\"/>\n<text text-anchor=\"middle\" x=\"617.39\" y=\"-327.32\" font-family=\"Helvetica,sans-Serif\" font-size=\"14.00\">False</text>\n</g>\n<!-- 2 -->\n<g id=\"node3\" class=\"node\">\n<title>2</title>\n<path fill=\"#ea9a60\" stroke=\"black\" d=\"M275,-187C275,-187 161,-187 161,-187 155,-187 149,-181 149,-175 149,-175 149,-116 149,-116 149,-110 155,-104 161,-104 161,-104 275,-104 275,-104 281,-104 287,-110 287,-116 287,-116 287,-175 287,-175 287,-181 281,-187 275,-187\"/>\n<text text-anchor=\"start\" x=\"157\" y=\"-171.8\" font-family=\"Helvetica,sans-Serif\" font-size=\"14.00\">char_freq_! ≤ 0.191</text>\n<text text-anchor=\"start\" x=\"169\" y=\"-156.8\" font-family=\"Helvetica,sans-Serif\" font-size=\"14.00\">entropy = 0.644</text>\n<text text-anchor=\"start\" x=\"168\" y=\"-141.8\" font-family=\"Helvetica,sans-Serif\" font-size=\"14.00\">samples = 3141</text>\n<text text-anchor=\"start\" x=\"158\" y=\"-126.8\" font-family=\"Helvetica,sans-Serif\" font-size=\"14.00\">value = [2625, 516]</text>\n<text text-anchor=\"start\" x=\"180\" y=\"-111.8\" font-family=\"Helvetica,sans-Serif\" font-size=\"14.00\">class = ham</text>\n</g>\n<!-- 1&#45;&gt;2 -->\n<g id=\"edge2\" class=\"edge\">\n<title>1&#45;&gt;2</title>\n<path fill=\"none\" stroke=\"black\" d=\"M370.81,-222.91C346.7,-210.85 320.35,-197.67 296.41,-185.71\"/>\n<polygon fill=\"black\" stroke=\"black\" points=\"297.88,-182.53 287.37,-181.18 294.75,-188.79 297.88,-182.53\"/>\n</g>\n<!-- 5 -->\n<g id=\"node6\" class=\"node\">\n<title>5</title>\n<path fill=\"#4da7e8\" stroke=\"black\" d=\"M526.5,-187C526.5,-187 377.5,-187 377.5,-187 371.5,-187 365.5,-181 365.5,-175 365.5,-175 365.5,-116 365.5,-116 365.5,-110 371.5,-104 377.5,-104 377.5,-104 526.5,-104 526.5,-104 532.5,-104 538.5,-110 538.5,-116 538.5,-116 538.5,-175 538.5,-175 538.5,-181 532.5,-187 526.5,-187\"/>\n<text text-anchor=\"start\" x=\"373.5\" y=\"-171.8\" font-family=\"Helvetica,sans-Serif\" font-size=\"14.00\">word_freq_george ≤ 0.14</text>\n<text text-anchor=\"start\" x=\"403\" y=\"-156.8\" font-family=\"Helvetica,sans-Serif\" font-size=\"14.00\">entropy = 0.439</text>\n<text text-anchor=\"start\" x=\"406\" y=\"-141.8\" font-family=\"Helvetica,sans-Serif\" font-size=\"14.00\">samples = 330</text>\n<text text-anchor=\"start\" x=\"400\" y=\"-126.8\" font-family=\"Helvetica,sans-Serif\" font-size=\"14.00\">value = [30, 300]</text>\n<text text-anchor=\"start\" x=\"410.5\" y=\"-111.8\" font-family=\"Helvetica,sans-Serif\" font-size=\"14.00\">class = spam</text>\n</g>\n<!-- 1&#45;&gt;5 -->\n<g id=\"edge5\" class=\"edge\">\n<title>1&#45;&gt;5</title>\n<path fill=\"none\" stroke=\"black\" d=\"M452,-222.91C452,-214.65 452,-205.86 452,-197.3\"/>\n<polygon fill=\"black\" stroke=\"black\" points=\"455.5,-197.02 452,-187.02 448.5,-197.02 455.5,-197.02\"/>\n</g>\n<!-- 3 -->\n<g id=\"node4\" class=\"node\">\n<title>3</title>\n<path fill=\"#e78c4b\" stroke=\"black\" d=\"M124,-68C124,-68 12,-68 12,-68 6,-68 0,-62 0,-56 0,-56 0,-12 0,-12 0,-6 6,0 12,0 12,0 124,0 124,0 130,0 136,-6 136,-12 136,-12 136,-56 136,-56 136,-62 130,-68 124,-68\"/>\n<text text-anchor=\"start\" x=\"19\" y=\"-52.8\" font-family=\"Helvetica,sans-Serif\" font-size=\"14.00\">entropy = 0.412</text>\n<text text-anchor=\"start\" x=\"18\" y=\"-37.8\" font-family=\"Helvetica,sans-Serif\" font-size=\"14.00\">samples = 2524</text>\n<text text-anchor=\"start\" x=\"8\" y=\"-22.8\" font-family=\"Helvetica,sans-Serif\" font-size=\"14.00\">value = [2315, 209]</text>\n<text text-anchor=\"start\" x=\"30\" y=\"-7.8\" font-family=\"Helvetica,sans-Serif\" font-size=\"14.00\">class = ham</text>\n</g>\n<!-- 2&#45;&gt;3 -->\n<g id=\"edge3\" class=\"edge\">\n<title>2&#45;&gt;3</title>\n<path fill=\"none\" stroke=\"black\" d=\"M162.15,-103.73C149.03,-94.15 135.07,-83.96 122.03,-74.44\"/>\n<polygon fill=\"black\" stroke=\"black\" points=\"123.76,-71.37 113.62,-68.3 119.63,-77.02 123.76,-71.37\"/>\n</g>\n<!-- 4 -->\n<g id=\"node5\" class=\"node\">\n<title>4</title>\n<path fill=\"#fffefd\" stroke=\"black\" d=\"M270,-68C270,-68 166,-68 166,-68 160,-68 154,-62 154,-56 154,-56 154,-12 154,-12 154,-6 160,0 166,0 166,0 270,0 270,0 276,0 282,-6 282,-12 282,-12 282,-56 282,-56 282,-62 276,-68 270,-68\"/>\n<text text-anchor=\"start\" x=\"176.5\" y=\"-52.8\" font-family=\"Helvetica,sans-Serif\" font-size=\"14.00\">entropy = 1.0</text>\n<text text-anchor=\"start\" x=\"172\" y=\"-37.8\" font-family=\"Helvetica,sans-Serif\" font-size=\"14.00\">samples = 617</text>\n<text text-anchor=\"start\" x=\"162\" y=\"-22.8\" font-family=\"Helvetica,sans-Serif\" font-size=\"14.00\">value = [310, 307]</text>\n<text text-anchor=\"start\" x=\"180\" y=\"-7.8\" font-family=\"Helvetica,sans-Serif\" font-size=\"14.00\">class = ham</text>\n</g>\n<!-- 2&#45;&gt;4 -->\n<g id=\"edge4\" class=\"edge\">\n<title>2&#45;&gt;4</title>\n<path fill=\"none\" stroke=\"black\" d=\"M218,-103.73C218,-95.52 218,-86.86 218,-78.56\"/>\n<polygon fill=\"black\" stroke=\"black\" points=\"221.5,-78.3 218,-68.3 214.5,-78.3 221.5,-78.3\"/>\n</g>\n<!-- 6 -->\n<g id=\"node7\" class=\"node\">\n<title>6</title>\n<path fill=\"#44a3e6\" stroke=\"black\" d=\"M408,-68C408,-68 312,-68 312,-68 306,-68 300,-62 300,-56 300,-56 300,-12 300,-12 300,-6 306,0 312,0 312,0 408,0 408,0 414,0 420,-6 420,-12 420,-12 420,-56 420,-56 420,-62 414,-68 408,-68\"/>\n<text text-anchor=\"start\" x=\"311\" y=\"-52.8\" font-family=\"Helvetica,sans-Serif\" font-size=\"14.00\">entropy = 0.302</text>\n<text text-anchor=\"start\" x=\"314\" y=\"-37.8\" font-family=\"Helvetica,sans-Serif\" font-size=\"14.00\">samples = 317</text>\n<text text-anchor=\"start\" x=\"308\" y=\"-22.8\" font-family=\"Helvetica,sans-Serif\" font-size=\"14.00\">value = [17, 300]</text>\n<text text-anchor=\"start\" x=\"318.5\" y=\"-7.8\" font-family=\"Helvetica,sans-Serif\" font-size=\"14.00\">class = spam</text>\n</g>\n<!-- 5&#45;&gt;6 -->\n<g id=\"edge6\" class=\"edge\">\n<title>5&#45;&gt;6</title>\n<path fill=\"none\" stroke=\"black\" d=\"M417.74,-103.73C410.16,-94.7 402.11,-85.12 394.52,-76.08\"/>\n<polygon fill=\"black\" stroke=\"black\" points=\"397.09,-73.7 387.98,-68.3 391.73,-78.21 397.09,-73.7\"/>\n</g>\n<!-- 7 -->\n<g id=\"node8\" class=\"node\">\n<title>7</title>\n<path fill=\"#e58139\" stroke=\"black\" d=\"M531.5,-68C531.5,-68 450.5,-68 450.5,-68 444.5,-68 438.5,-62 438.5,-56 438.5,-56 438.5,-12 438.5,-12 438.5,-6 444.5,0 450.5,0 450.5,0 531.5,0 531.5,0 537.5,0 543.5,-6 543.5,-12 543.5,-12 543.5,-56 543.5,-56 543.5,-62 537.5,-68 531.5,-68\"/>\n<text text-anchor=\"start\" x=\"449.5\" y=\"-52.8\" font-family=\"Helvetica,sans-Serif\" font-size=\"14.00\">entropy = 0.0</text>\n<text text-anchor=\"start\" x=\"449\" y=\"-37.8\" font-family=\"Helvetica,sans-Serif\" font-size=\"14.00\">samples = 13</text>\n<text text-anchor=\"start\" x=\"446.5\" y=\"-22.8\" font-family=\"Helvetica,sans-Serif\" font-size=\"14.00\">value = [13, 0]</text>\n<text text-anchor=\"start\" x=\"453\" y=\"-7.8\" font-family=\"Helvetica,sans-Serif\" font-size=\"14.00\">class = ham</text>\n</g>\n<!-- 5&#45;&gt;7 -->\n<g id=\"edge7\" class=\"edge\">\n<title>5&#45;&gt;7</title>\n<path fill=\"none\" stroke=\"black\" d=\"M466.52,-103.73C469.54,-95.24 472.74,-86.28 475.78,-77.73\"/>\n<polygon fill=\"black\" stroke=\"black\" points=\"479.08,-78.89 479.14,-68.3 472.49,-76.55 479.08,-78.89\"/>\n</g>\n<!-- 9 -->\n<g id=\"node10\" class=\"node\">\n<title>9</title>\n<path fill=\"#47a4e7\" stroke=\"black\" d=\"M721.5,-187C721.5,-187 592.5,-187 592.5,-187 586.5,-187 580.5,-181 580.5,-175 580.5,-175 580.5,-116 580.5,-116 580.5,-110 586.5,-104 592.5,-104 592.5,-104 721.5,-104 721.5,-104 727.5,-104 733.5,-110 733.5,-116 733.5,-116 733.5,-175 733.5,-175 733.5,-181 727.5,-187 721.5,-187\"/>\n<text text-anchor=\"start\" x=\"588.5\" y=\"-171.8\" font-family=\"Helvetica,sans-Serif\" font-size=\"14.00\">word_freq_edu ≤ 0.49</text>\n<text text-anchor=\"start\" x=\"608\" y=\"-156.8\" font-family=\"Helvetica,sans-Serif\" font-size=\"14.00\">entropy = 0.351</text>\n<text text-anchor=\"start\" x=\"607\" y=\"-141.8\" font-family=\"Helvetica,sans-Serif\" font-size=\"14.00\">samples = 1060</text>\n<text text-anchor=\"start\" x=\"605\" y=\"-126.8\" font-family=\"Helvetica,sans-Serif\" font-size=\"14.00\">value = [70, 990]</text>\n<text text-anchor=\"start\" x=\"615.5\" y=\"-111.8\" font-family=\"Helvetica,sans-Serif\" font-size=\"14.00\">class = spam</text>\n</g>\n<!-- 8&#45;&gt;9 -->\n<g id=\"edge9\" class=\"edge\">\n<title>8&#45;&gt;9</title>\n<path fill=\"none\" stroke=\"black\" d=\"M657,-222.91C657,-214.65 657,-205.86 657,-197.3\"/>\n<polygon fill=\"black\" stroke=\"black\" points=\"660.5,-197.02 657,-187.02 653.5,-197.02 660.5,-197.02\"/>\n</g>\n<!-- 12 -->\n<g id=\"node13\" class=\"node\">\n<title>12</title>\n<path fill=\"#e88f4f\" stroke=\"black\" d=\"M960,-187C960,-187 800,-187 800,-187 794,-187 788,-181 788,-175 788,-175 788,-116 788,-116 788,-110 794,-104 800,-104 800,-104 960,-104 960,-104 966,-104 972,-110 972,-116 972,-116 972,-175 972,-175 972,-181 966,-187 960,-187\"/>\n<text text-anchor=\"start\" x=\"796\" y=\"-171.8\" font-family=\"Helvetica,sans-Serif\" font-size=\"14.00\">word_freq_remove ≤ 0.075</text>\n<text text-anchor=\"start\" x=\"831\" y=\"-156.8\" font-family=\"Helvetica,sans-Serif\" font-size=\"14.00\">entropy = 0.469</text>\n<text text-anchor=\"start\" x=\"838\" y=\"-141.8\" font-family=\"Helvetica,sans-Serif\" font-size=\"14.00\">samples = 70</text>\n<text text-anchor=\"start\" x=\"835.5\" y=\"-126.8\" font-family=\"Helvetica,sans-Serif\" font-size=\"14.00\">value = [63, 7]</text>\n<text text-anchor=\"start\" x=\"842\" y=\"-111.8\" font-family=\"Helvetica,sans-Serif\" font-size=\"14.00\">class = ham</text>\n</g>\n<!-- 8&#45;&gt;12 -->\n<g id=\"edge12\" class=\"edge\">\n<title>8&#45;&gt;12</title>\n<path fill=\"none\" stroke=\"black\" d=\"M725.73,-227.44C747.19,-216.18 771.15,-203.61 793.67,-191.8\"/>\n<polygon fill=\"black\" stroke=\"black\" points=\"795.32,-194.88 802.55,-187.14 792.06,-188.68 795.32,-194.88\"/>\n</g>\n<!-- 10 -->\n<g id=\"node11\" class=\"node\">\n<title>10</title>\n<path fill=\"#44a2e6\" stroke=\"black\" d=\"M670,-68C670,-68 574,-68 574,-68 568,-68 562,-62 562,-56 562,-56 562,-12 562,-12 562,-6 568,0 574,0 574,0 670,0 670,0 676,0 682,-6 682,-12 682,-12 682,-56 682,-56 682,-62 676,-68 670,-68\"/>\n<text text-anchor=\"start\" x=\"573\" y=\"-52.8\" font-family=\"Helvetica,sans-Serif\" font-size=\"14.00\">entropy = 0.297</text>\n<text text-anchor=\"start\" x=\"572\" y=\"-37.8\" font-family=\"Helvetica,sans-Serif\" font-size=\"14.00\">samples = 1045</text>\n<text text-anchor=\"start\" x=\"570\" y=\"-22.8\" font-family=\"Helvetica,sans-Serif\" font-size=\"14.00\">value = [55, 990]</text>\n<text text-anchor=\"start\" x=\"580.5\" y=\"-7.8\" font-family=\"Helvetica,sans-Serif\" font-size=\"14.00\">class = spam</text>\n</g>\n<!-- 9&#45;&gt;10 -->\n<g id=\"edge10\" class=\"edge\">\n<title>9&#45;&gt;10</title>\n<path fill=\"none\" stroke=\"black\" d=\"M643.97,-103.73C641.29,-95.34 638.45,-86.47 635.75,-78.01\"/>\n<polygon fill=\"black\" stroke=\"black\" points=\"639.02,-76.76 632.64,-68.3 632.35,-78.89 639.02,-76.76\"/>\n</g>\n<!-- 11 -->\n<g id=\"node12\" class=\"node\">\n<title>11</title>\n<path fill=\"#e58139\" stroke=\"black\" d=\"M793.5,-68C793.5,-68 712.5,-68 712.5,-68 706.5,-68 700.5,-62 700.5,-56 700.5,-56 700.5,-12 700.5,-12 700.5,-6 706.5,0 712.5,0 712.5,0 793.5,0 793.5,0 799.5,0 805.5,-6 805.5,-12 805.5,-12 805.5,-56 805.5,-56 805.5,-62 799.5,-68 793.5,-68\"/>\n<text text-anchor=\"start\" x=\"711.5\" y=\"-52.8\" font-family=\"Helvetica,sans-Serif\" font-size=\"14.00\">entropy = 0.0</text>\n<text text-anchor=\"start\" x=\"711\" y=\"-37.8\" font-family=\"Helvetica,sans-Serif\" font-size=\"14.00\">samples = 15</text>\n<text text-anchor=\"start\" x=\"708.5\" y=\"-22.8\" font-family=\"Helvetica,sans-Serif\" font-size=\"14.00\">value = [15, 0]</text>\n<text text-anchor=\"start\" x=\"715\" y=\"-7.8\" font-family=\"Helvetica,sans-Serif\" font-size=\"14.00\">class = ham</text>\n</g>\n<!-- 9&#45;&gt;11 -->\n<g id=\"edge11\" class=\"edge\">\n<title>9&#45;&gt;11</title>\n<path fill=\"none\" stroke=\"black\" d=\"M692.75,-103.73C700.66,-94.7 709.06,-85.12 716.98,-76.08\"/>\n<polygon fill=\"black\" stroke=\"black\" points=\"719.85,-78.13 723.81,-68.3 714.58,-73.51 719.85,-78.13\"/>\n</g>\n<!-- 13 -->\n<g id=\"node14\" class=\"node\">\n<title>13</title>\n<path fill=\"#e5833c\" stroke=\"black\" d=\"M924.5,-68C924.5,-68 835.5,-68 835.5,-68 829.5,-68 823.5,-62 823.5,-56 823.5,-56 823.5,-12 823.5,-12 823.5,-6 829.5,0 835.5,0 835.5,0 924.5,0 924.5,0 930.5,0 936.5,-6 936.5,-12 936.5,-12 936.5,-56 936.5,-56 936.5,-62 930.5,-68 924.5,-68\"/>\n<text text-anchor=\"start\" x=\"831.5\" y=\"-52.8\" font-family=\"Helvetica,sans-Serif\" font-size=\"14.00\">entropy = 0.116</text>\n<text text-anchor=\"start\" x=\"838\" y=\"-37.8\" font-family=\"Helvetica,sans-Serif\" font-size=\"14.00\">samples = 64</text>\n<text text-anchor=\"start\" x=\"835.5\" y=\"-22.8\" font-family=\"Helvetica,sans-Serif\" font-size=\"14.00\">value = [63, 1]</text>\n<text text-anchor=\"start\" x=\"842\" y=\"-7.8\" font-family=\"Helvetica,sans-Serif\" font-size=\"14.00\">class = ham</text>\n</g>\n<!-- 12&#45;&gt;13 -->\n<g id=\"edge13\" class=\"edge\">\n<title>12&#45;&gt;13</title>\n<path fill=\"none\" stroke=\"black\" d=\"M880,-103.73C880,-95.52 880,-86.86 880,-78.56\"/>\n<polygon fill=\"black\" stroke=\"black\" points=\"883.5,-78.3 880,-68.3 876.5,-78.3 883.5,-78.3\"/>\n</g>\n<!-- 14 -->\n<g id=\"node15\" class=\"node\">\n<title>14</title>\n<path fill=\"#399de5\" stroke=\"black\" d=\"M1041.5,-68C1041.5,-68 966.5,-68 966.5,-68 960.5,-68 954.5,-62 954.5,-56 954.5,-56 954.5,-12 954.5,-12 954.5,-6 960.5,0 966.5,0 966.5,0 1041.5,0 1041.5,0 1047.5,0 1053.5,-6 1053.5,-12 1053.5,-12 1053.5,-56 1053.5,-56 1053.5,-62 1047.5,-68 1041.5,-68\"/>\n<text text-anchor=\"start\" x=\"962.5\" y=\"-52.8\" font-family=\"Helvetica,sans-Serif\" font-size=\"14.00\">entropy = 0.0</text>\n<text text-anchor=\"start\" x=\"966\" y=\"-37.8\" font-family=\"Helvetica,sans-Serif\" font-size=\"14.00\">samples = 6</text>\n<text text-anchor=\"start\" x=\"963.5\" y=\"-22.8\" font-family=\"Helvetica,sans-Serif\" font-size=\"14.00\">value = [0, 6]</text>\n<text text-anchor=\"start\" x=\"962.5\" y=\"-7.8\" font-family=\"Helvetica,sans-Serif\" font-size=\"14.00\">class = spam</text>\n</g>\n<!-- 12&#45;&gt;14 -->\n<g id=\"edge14\" class=\"edge\">\n<title>12&#45;&gt;14</title>\n<path fill=\"none\" stroke=\"black\" d=\"M926.17,-103.73C936.81,-94.33 948.12,-84.35 958.72,-74.99\"/>\n<polygon fill=\"black\" stroke=\"black\" points=\"961.11,-77.54 966.29,-68.3 956.48,-72.3 961.11,-77.54\"/>\n</g>\n</g>\n</svg>\n",
      "text/plain": [
       "<graphviz.files.Source at 0x7f922dd8dcd0>"
      ]
     },
     "execution_count": 7,
     "metadata": {},
     "output_type": "execute_result"
    }
   ],
   "source": [
    "graph"
   ]
  },
  {
   "cell_type": "markdown",
   "metadata": {},
   "source": [
    "One could quickly use the tree generated for the purposes of [feature selection](https://en.wikipedia.org/wiki/Feature_selection). Feature selection is a whole research area in machine learning with a very practical purpose: being able to identify which features are more relevant in a prediction problem. In modern big data applications, the amount of features generated is huge. For example, one could extract thousands of millions of features from a genome sequence that maps to a particular medical disorder. Finding which features are more relevant for correctly classifying the disorder could lead to breakthroughs in medicine. \n",
    "\n",
    "Relevant features can be identified starting from the top level of the tree and going down to the leaf nodes. For example, one can argue that the most important feature is the one used in the root node (e.g. char_freq_$ for the Spambase dataset) since it has the highest entropy.    \n",
    "\n",
    "## Evaluating the prediction ability of a decision tree classifier\n",
    "\n",
    "We will now evaluate the predictive ability of the decision tree classifier on a subset of the Spam dataset. The Decision Tree has several tunable parameters, including, the criterion or impurity measure (criterion) and the maximum depth of the tree (max_depth). A complete list of parameters for the DecisionTreeClassifier implemented in scikit-learn can be found [here](https://scikit-learn.org/stable/modules/generated/sklearn.tree.DecisionTreeClassifier.html#sklearn.tree.DecisionTreeClassifier).\n",
    "\n",
    "We will create a simple Grid Search for crosvalidating the best parameters for our model. "
   ]
  },
  {
   "cell_type": "code",
   "execution_count": 8,
   "metadata": {},
   "outputs": [],
   "source": [
    "# We first split the data into a train and a test set. \n",
    "from sklearn.model_selection import ShuffleSplit\n",
    "ss = ShuffleSplit(n_splits=1, test_size=0.3, random_state=42)\n",
    "indexes = list(ss.split(X, y))\n",
    "train_set  = indexes[0][0]\n",
    "test_set  = indexes[0][1]\n",
    "Xtrain = X.iloc[train_set, :]\n",
    "ytrain = y.iloc[train_set]\n",
    "Xtest = X.iloc[test_set, :]\n",
    "ytest = y.iloc[test_set]"
   ]
  },
  {
   "cell_type": "markdown",
   "metadata": {},
   "source": [
    "We now create a Grid search for the parameters criterion and max_depth and we use the training data to find the best parameters"
   ]
  },
  {
   "cell_type": "code",
   "execution_count": 9,
   "metadata": {},
   "outputs": [
    {
     "data": {
      "text/plain": [
       "GridSearchCV(cv=ShuffleSplit(n_splits=1, random_state=42, test_size=0.3, train_size=None),\n",
       "             estimator=DecisionTreeClassifier(),\n",
       "             param_grid={'criterion': array(['entropy', 'gini'], dtype='<U7'),\n",
       "                         'max_depth': [3, 5, 10, 15]},\n",
       "             scoring='accuracy')"
      ]
     },
     "execution_count": 9,
     "metadata": {},
     "output_type": "execute_result"
    }
   ],
   "source": [
    "from sklearn.model_selection import GridSearchCV # For model selection\n",
    "criterion_opts = np.array(['entropy', 'gini'])\n",
    "max_depth_opts = [3, 5, 10, 15]\n",
    "param_grid = dict(criterion = criterion_opts, max_depth = max_depth_opts)\n",
    "cv = ShuffleSplit(n_splits=1, test_size=0.3, random_state=42)\n",
    "grid = GridSearchCV(tree.DecisionTreeClassifier(), param_grid=param_grid, cv=cv, scoring='accuracy')\n",
    "grid.fit(Xtrain, ytrain)"
   ]
  },
  {
   "cell_type": "markdown",
   "metadata": {},
   "source": [
    "We can see now which ones were the best parameters."
   ]
  },
  {
   "cell_type": "code",
   "execution_count": 10,
   "metadata": {},
   "outputs": [
    {
     "data": {
      "text/plain": [
       "{'criterion': 'gini', 'max_depth': 15}"
      ]
     },
     "execution_count": 10,
     "metadata": {},
     "output_type": "execute_result"
    }
   ],
   "source": [
    "grid.best_params_"
   ]
  },
  {
   "cell_type": "markdown",
   "metadata": {},
   "source": [
    "We then train a new decision tree using those parameters and then evaluate the model on the test set."
   ]
  },
  {
   "cell_type": "code",
   "execution_count": 11,
   "metadata": {},
   "outputs": [],
   "source": [
    "clf = tree.DecisionTreeClassifier(criterion=grid.best_params_[\"criterion\"],max_depth=grid.best_params_[\"max_depth\"])\n",
    "clf.fit(Xtrain, ytrain)\n",
    "ypred = clf.predict(Xtest)    "
   ]
  },
  {
   "cell_type": "markdown",
   "metadata": {},
   "source": [
    "We now evaluate the accuracy "
   ]
  },
  {
   "cell_type": "code",
   "execution_count": 12,
   "metadata": {},
   "outputs": [
    {
     "name": "stdout",
     "output_type": "stream",
     "text": [
      "0.9138305575669804\n"
     ]
    }
   ],
   "source": [
    "from sklearn.metrics import accuracy_score # Accuracy score\n",
    "accuracy = accuracy_score(ytest, ypred)\n",
    "print(accuracy) "
   ]
  },
  {
   "cell_type": "markdown",
   "metadata": {},
   "source": [
    "### Distribution of the labels\n",
    "\n",
    "Let us look at the distribution of the instances for class in the original dataset and in the training data. \n",
    "\n",
    ">**Warning for MAC OS users** As of today, the current installation of `graphviz` **may** put its own version of freetype into the default python runtime library path. However, matplotlib needs a different version of the same library. The fix is explained in [this entry of stackoverflow](https://stackoverflow.com/questions/28028786/matplotlib-error-libfreetype-6-dylib). "
   ]
  },
  {
   "cell_type": "code",
   "execution_count": 13,
   "metadata": {},
   "outputs": [
    {
     "data": {
      "image/png": "[encoded data removed]",
      "text/plain": [
       "<Figure size 432x288 with 1 Axes>"
      ]
     },
     "metadata": {
      "needs_background": "light"
     },
     "output_type": "display_data"
    }
   ],
   "source": [
    "%matplotlib inline \n",
    "import matplotlib.pyplot as plt\n",
    "y.hist()\n",
    "plt.ylabel('Number of instances')\n",
    "plt.xlabel('Class label')\n",
    "plt.title('Class distribution for X')\n",
    "plt.show()"
   ]
  },
  {
   "cell_type": "code",
   "execution_count": 14,
   "metadata": {},
   "outputs": [
    {
     "data": {
      "image/png": "[encoded data removed]",
      "text/plain": [
       "<Figure size 432x288 with 1 Axes>"
      ]
     },
     "metadata": {
      "needs_background": "light"
     },
     "output_type": "display_data"
    }
   ],
   "source": [
    "ytrain.hist()\n",
    "plt.ylabel('Number of instances')\n",
    "plt.xlabel('Class label')\n",
    "plt.title('Class distribution for Xtrain')\n",
    "plt.show()"
   ]
  },
  {
   "cell_type": "markdown",
   "metadata": {},
   "source": [
    "Notice that the numbers of data observations per class are different. We usually refer to this kind of problems as \"imbalanced\". Bear in mind that when creating your training data, you need to account for this imbalance and be aware against misleading results. For example, accuracy is probably not a good metric to measure performance in these problems. Say you have a binary classification problem for which your test data consists of 100 instances. From those, 99 instances belong to class 1, say 'ham', and 1 instance belong to class 2, say 'spam'. When you test your classifier on these instances, you could have a classifier that only is able to predict class 1 correctly, but elements of class 2 are predicted incorrectly. If you apply this classifier to your test data, you would get 99% accuracy. Looking at this percentage out of context and saying that you have produced a highly realiable classifier is completely wrong since your classifier only learned to correctly classify instances in class 1. The problem gets worse if your test set is large, say 100,000 instances, 99,000 are correctly predicted for class 1 and 1,000 are incorrectly predicted for class 2. Even when the classifier fails in correctly predicted 1,000 instances from class 2, the accuracy of this classifier would be 99%.\n",
    "\n",
    "There are different [strategies for balancing a dataset](https://books.google.co.uk/books/about/Imbalanced_Learning.html?id=YqQJngEACAAJ&redir_esc=y) but if for some reason you are not able to balance it, it is important to be aware of these issues. Some stategies include: i) under-sampling the majority class(es), ii) over-sampling the minority class, and iii) combining over- and under-sampling. The python package [imbalanced-learn](https://github.com/scikit-learn-contrib/imbalanced-learn#id22) has several implementations of these different strategies. You can install the package and try some of them.\n",
    "\n",
    "\n",
    "### Question 1\n",
    "\n",
    "A simple strategy we can use to balance the problem for the Spam dataset is to under-sample the majority class. Repeat the spam prediction problem above but make sure you have the same number of samples in both classses. \n",
    "Do you notice any difference in the accuracy over the same test set that we used before? Also, use a performance measure that takes into account imbalanced data. Do you see any difference between this new performance measure before and after balancing the classes?"
   ]
  },
  {
   "cell_type": "code",
   "execution_count": 15,
   "metadata": {},
   "outputs": [
    {
     "data": {
      "image/png": "[encoded data removed]",
      "text/plain": [
       "<Figure size 432x288 with 1 Axes>"
      ]
     },
     "metadata": {
      "needs_background": "light"
     },
     "output_type": "display_data"
    },
    {
     "name": "stdout",
     "output_type": "stream",
     "text": [
      "The accuracy is 0.9203475742215785\n",
      "The performance for model in question in resampled dataset:\n",
      "              precision    recall  f1-score   support\n",
      "\n",
      "           0       0.94      0.92      0.93       804\n",
      "           1       0.90      0.92      0.91       577\n",
      "\n",
      "    accuracy                           0.92      1381\n",
      "   macro avg       0.92      0.92      0.92      1381\n",
      "weighted avg       0.92      0.92      0.92      1381\n",
      "\n",
      "The performance for the model in original dataset:\n",
      "              precision    recall  f1-score   support\n",
      "\n",
      "           0       0.92      0.93      0.93       804\n",
      "           1       0.90      0.89      0.90       577\n",
      "\n",
      "    accuracy                           0.91      1381\n",
      "   macro avg       0.91      0.91      0.91      1381\n",
      "weighted avg       0.91      0.91      0.91      1381\n",
      "\n",
      "The recall for question 1 model is:\n",
      "0.9150779896013865\n",
      "The recall for original model is:\n",
      "0.8873483535528596\n"
     ]
    }
   ],
   "source": [
    "from imblearn.under_sampling import ClusterCentroids\n",
    "\n",
    "# Cluster centroids uses the kMeans algorithm to select a representative subset \n",
    "# of examples from the majority class, you can read more about it in the docs\n",
    "# for the imblearn module. \n",
    "cc = ClusterCentroids(random_state=0)\n",
    "X_resampled, y_resampled = cc.fit_resample(Xtrain, ytrain)\n",
    "\n",
    "## recheck whether X_resampled, y_resampled are a balanced dataset\n",
    "y_resampled.hist()\n",
    "plt.ylabel('Number of instances')\n",
    "plt.xlabel('Class label')\n",
    "plt.title('Class distribution for X_resampled')\n",
    "plt.show()\n",
    "## The resampled dataset now has same number of samples in both classes.\n",
    "\n",
    "## Now we repeat the spam prediction problem above\n",
    "# choose best parameters\n",
    "criterion_opts_question1 = np.array(['entropy', 'gini'])\n",
    "max_depth_opts_question1 = [3, 5, 10, 15]\n",
    "param_grid_question1 = dict(criterion = criterion_opts_question1, max_depth = max_depth_opts_question1)\n",
    "cv_question1 = ShuffleSplit(n_splits=1, test_size=0.3, random_state=42)\n",
    "grid_question1 = GridSearchCV(tree.DecisionTreeClassifier(), param_grid=param_grid_question1, cv=cv_question1, scoring='accuracy')\n",
    "grid_question1.fit(X_resampled, y_resampled)\n",
    "\n",
    "# fit model and make prediction\n",
    "clf_question1 = tree.DecisionTreeClassifier(criterion=grid_question1.best_params_[\"criterion\"],max_depth=grid_question1.best_params_[\"max_depth\"])\n",
    "clf_question1.fit(X_resampled, y_resampled)\n",
    "ypred_question1 = clf_question1.predict(Xtest)    \n",
    "\n",
    "# check the accuracy\n",
    "accuracy_question1 = accuracy_score(ytest, ypred_question1)\n",
    "print('The accuracy is',accuracy_question1) \n",
    "\n",
    "# The accuracy over the same test set is quite similar.\n",
    "# If we try run different times, the result can either be slightly better or worse than the original accuracy.\n",
    "\n",
    "## Using a performance measure:\n",
    "## different performance measure: precision, recall, f1-score\n",
    "from sklearn.metrics import classification_report\n",
    "print('The performance for model in question in resampled dataset:')\n",
    "print(classification_report(ytest, ypred_question1))\n",
    "print('The performance for the model in original dataset:')\n",
    "print(classification_report(ytest, ypred))\n",
    "\n",
    "## recall performance measure\n",
    "from sklearn.metrics import recall_score\n",
    "print('The recall for question 1 model is:')\n",
    "print(recall_score(ytest, ypred_question1))\n",
    "print('The recall for original model is:')\n",
    "print(recall_score(ytest, ypred))\n",
    "\n"
   ]
  },
  {
   "cell_type": "markdown",
   "metadata": {},
   "source": [
    "## Decision trees for regression\n",
    "\n",
    "The main difference between Decision Tress for Classification and Decision Trees for Regression is in the impurity measure used. The [decision trees for regression implemented in scikit-learn](https://scikit-learn.org/stable/modules/generated/sklearn.tree.DecisionTreeRegressor.html#sklearn.tree.DecisionTreeRegressor) uses the mean squared error by default as the impurity measure. The mean squared error is closely related with the variance, the impurity measure we introduced in the Session for this week. \n",
    "\n",
    "We are going to go back to the dataset of Bike rentals that we used in Lab 2 and compare the performance of the decision tree for regression over the same partitions of train, validation and test sets that we used back there for the linear regression model"
   ]
  },
  {
   "cell_type": "code",
   "execution_count": 16,
   "metadata": {},
   "outputs": [],
   "source": [
    "import urllib.request\n",
    "urllib.request.urlretrieve('https://archive.ics.uci.edu/ml/machine-learning-databases/00560/SeoulBikeData.csv', './SeoulBikeData.csv')\n",
    "bike_sharing_data = pd.read_csv('SeoulBikeData.csv', encoding= 'unicode_escape')\n",
    "bike_sharing_data = bike_sharing_data.drop('Date', axis=1)\n",
    "# We transform the int64 variables in the dataset to float64.\n",
    "for col in ['Rented Bike Count', 'Hour', 'Humidity(%)', 'Visibility (10m)']:\n",
    "    bike_sharing_data[col] = bike_sharing_data[col].astype('float64')"
   ]
  },
  {
   "cell_type": "markdown",
   "metadata": {},
   "source": [
    "We split the data into train and test sets. Have a look at the random_state. We use the same number from Lab 2 to make sure the splits into train and test are the same."
   ]
  },
  {
   "cell_type": "code",
   "execution_count": 17,
   "metadata": {},
   "outputs": [],
   "source": [
    "from sklearn.model_selection import train_test_split\n",
    "bs_train_set, bs_test_set = train_test_split(bike_sharing_data, test_size=0.15, random_state=42)"
   ]
  },
  {
   "cell_type": "markdown",
   "metadata": {},
   "source": [
    "We perform the same data preprocessing step for the input features"
   ]
  },
  {
   "cell_type": "code",
   "execution_count": 18,
   "metadata": {},
   "outputs": [],
   "source": [
    "from sklearn.preprocessing import OneHotEncoder\n",
    "from sklearn.preprocessing import StandardScaler\n",
    "from sklearn.compose import ColumnTransformer\n",
    "\n",
    "attributes_cat = ['Seasons', 'Holiday', 'Functioning Day']\n",
    "attributes_num = ['Hour', 'Temperature(°C)', 'Humidity(%)', 'Wind speed (m/s)', 'Visibility (10m)', \\\n",
    "                  'Dew point temperature(°C)', 'Solar Radiation (MJ/m2)', 'Rainfall(mm)', 'Snowfall (cm)']   \n",
    "\n",
    "full_transform = ColumnTransformer([\n",
    "    (\"num\", StandardScaler(), attributes_num),\n",
    "    (\"cat\", OneHotEncoder(), attributes_cat),\n",
    "])"
   ]
  },
  {
   "cell_type": "markdown",
   "metadata": {},
   "source": [
    "We further create a train and a validation set from the original train set"
   ]
  },
  {
   "cell_type": "code",
   "execution_count": 19,
   "metadata": {},
   "outputs": [],
   "source": [
    "bs_train2_set, bs_val_set = train_test_split(bs_train_set, test_size=0.15, random_state=42)\n",
    "bs_train2_set_attributes = bs_train2_set.drop('Rented Bike Count', axis=1)\n",
    "bs_train2_set_labels = bs_train2_set['Rented Bike Count']\n",
    "bs_val_set_attributes = bs_val_set.drop('Rented Bike Count', axis=1)\n",
    "bs_val_set_labels = bs_val_set['Rented Bike Count']"
   ]
  },
  {
   "cell_type": "markdown",
   "metadata": {},
   "source": [
    "We fit transform the attributes in the train set and transform them in the validation set"
   ]
  },
  {
   "cell_type": "code",
   "execution_count": 20,
   "metadata": {},
   "outputs": [],
   "source": [
    "# fit transform in the train set\n",
    "bs_train2_set_attributes_transformed = full_transform.fit_transform(bs_train2_set_attributes)\n",
    "# transform in the validation set\n",
    "bs_val_set_attributes_transformed = full_transform.transform(bs_val_set_attributes)"
   ]
  },
  {
   "cell_type": "markdown",
   "metadata": {},
   "source": [
    "Since we want to perform a GridSearchCV on the same validation data that we used for Lab 2, we will use [`PredefinedSplit`](https://scikit-learn.org/stable/modules/generated/sklearn.model_selection.PredefinedSplit.html#sklearn.model_selection.PredefinedSplit) to tell the cross validator which instances to use for training and which ones for validation. We create first a test_fold array of the same dimensionality than the original training data and assign the value of -1 to the indexes corresponding to train instances and 0 to the indexes corresponding to validation instances. We will then stack the input attributes for both sets and also stack the labels."
   ]
  },
  {
   "cell_type": "code",
   "execution_count": 21,
   "metadata": {},
   "outputs": [],
   "source": [
    "from sklearn.model_selection import PredefinedSplit\n",
    "test_fold = np.zeros((np.shape(bs_train_set)[0], 1))\n",
    "test_fold[0:np.shape(bs_train2_set)[0]] = -1\n",
    "ps = PredefinedSplit(test_fold)"
   ]
  },
  {
   "cell_type": "markdown",
   "metadata": {},
   "source": [
    "We concatenate the attributes and the labels"
   ]
  },
  {
   "cell_type": "code",
   "execution_count": 22,
   "metadata": {},
   "outputs": [],
   "source": [
    "whole_train_set_attributes = np.vstack((bs_train2_set_attributes_transformed , bs_val_set_attributes_transformed))\n",
    "whole_train_set_labels = np.hstack((bs_train2_set_labels, bs_val_set_labels))"
   ]
  },
  {
   "cell_type": "markdown",
   "metadata": {},
   "source": [
    "We can now apply the decision tree for regression and explore different maximum depth options"
   ]
  },
  {
   "cell_type": "code",
   "execution_count": 23,
   "metadata": {},
   "outputs": [
    {
     "data": {
      "text/plain": [
       "GridSearchCV(cv=PredefinedSplit(test_fold=array([-1, -1, ...,  0,  0])),\n",
       "             estimator=DecisionTreeRegressor(),\n",
       "             param_grid={'max_depth': [3, 5, 10, 15]},\n",
       "             scoring='neg_mean_squared_error')"
      ]
     },
     "execution_count": 23,
     "metadata": {},
     "output_type": "execute_result"
    }
   ],
   "source": [
    "max_depth_opts = [3, 5, 10, 15]\n",
    "param_grid = dict(max_depth = max_depth_opts)\n",
    "grid_regression = GridSearchCV(tree.DecisionTreeRegressor(), param_grid=param_grid, cv=ps, scoring='neg_mean_squared_error')\n",
    "grid_regression.fit(whole_train_set_attributes, whole_train_set_labels)"
   ]
  },
  {
   "cell_type": "markdown",
   "metadata": {},
   "source": [
    "Let us train now a decision tree regressor using the best value for the max depth"
   ]
  },
  {
   "cell_type": "code",
   "execution_count": 24,
   "metadata": {},
   "outputs": [],
   "source": [
    "regr = tree.DecisionTreeRegressor(max_depth=grid_regression.best_params_[\"max_depth\"], random_state=42)\n",
    "regr.fit(bs_train2_set_attributes_transformed, bs_train2_set_labels)\n",
    "bs_val_set_predictions = regr.predict(bs_val_set_attributes_transformed)"
   ]
  },
  {
   "cell_type": "markdown",
   "metadata": {},
   "source": [
    "And now we compute the RMSE for the validation dataset"
   ]
  },
  {
   "cell_type": "code",
   "execution_count": 25,
   "metadata": {},
   "outputs": [
    {
     "data": {
      "text/plain": [
       "271.71631148738953"
      ]
     },
     "execution_count": 25,
     "metadata": {},
     "output_type": "execute_result"
    }
   ],
   "source": [
    "from sklearn.metrics import mean_squared_error\n",
    "error_mod = np.sqrt(mean_squared_error(bs_val_set_labels, bs_val_set_predictions))\n",
    "error_mod"
   ]
  },
  {
   "cell_type": "markdown",
   "metadata": {},
   "source": [
    "We notice how this is a great improvement compared to the result obtained using linear regression in Lab Notebook 2."
   ]
  },
  {
   "cell_type": "markdown",
   "metadata": {},
   "source": [
    "### Question 2\n",
    "\n",
    "Decision trees do not require any scaling of the features. Use the same splits of the data than before but use the numerical features as they come, this is, do not use StandardScaler() for the numerical features. What is the RMSE on the validation data?"
   ]
  },
  {
   "cell_type": "code",
   "execution_count": 26,
   "metadata": {},
   "outputs": [
    {
     "name": "stdout",
     "output_type": "stream",
     "text": [
      "The RMSE on the validation data is : 282.52523646251956\n"
     ]
    }
   ],
   "source": [
    "\n",
    "### We do not use StandardScaler() for the numerical features and keep them as thier original values\n",
    "Question2_transform = ColumnTransformer([\n",
    "    (\"cat\", OneHotEncoder(), attributes_cat),\n",
    "],remainder='passthrough')\n",
    "\n",
    "\n",
    "## fit transform on the train set\n",
    "bs_train2_set_attributes_Question2 = Question2_transform.fit_transform(bs_train2_set_attributes)\n",
    "## transform the validation set\n",
    "bs_val_set_attributes_Question2 = Question2_transform.transform(bs_val_set_attributes)\n",
    "\n",
    "## Concatenating the attributes and the labels\n",
    "whole_train_set_attributes_Question2 = np.vstack((bs_train2_set_attributes_Question2 , bs_val_set_attributes_Question2))\n",
    "whole_train_set_labels_Question2 = np.hstack((bs_train2_set_labels, bs_val_set_labels))\n",
    "\n",
    "\n",
    "## Applying the decision tree for regression and explore different maximum depth options\n",
    "max_depth_opts_Question2 = [3, 5, 10, 15]\n",
    "param_grid_Question2 = dict(max_depth = max_depth_opts_Question2)\n",
    "grid_regression_Question2 = GridSearchCV(tree.DecisionTreeRegressor(), param_grid=param_grid_Question2, cv=ps, scoring='neg_mean_squared_error')\n",
    "grid_regression_Question2.fit(whole_train_set_attributes_Question2, whole_train_set_labels_Question2)\n",
    "\n",
    "## Training a decision tree regressor using the best value for the max depth\n",
    "regr_Question2 = tree.DecisionTreeRegressor(max_depth=grid_regression_Question2.best_params_[\"max_depth\"])\n",
    "regr_Question2.fit(bs_train2_set_attributes_Question2, bs_train2_set_labels)\n",
    "bs_val_set_predictions_Question2 = regr_Question2.predict(bs_val_set_attributes_Question2)\n",
    "\n",
    "## Computing the RMSE for the validation dataset\n",
    "error_mod_Question2 = np.sqrt(mean_squared_error(bs_val_set_labels, bs_val_set_predictions_Question2))\n",
    "print('The RMSE on the validation data is :',error_mod_Question2)"
   ]
  },
  {
   "cell_type": "markdown",
   "metadata": {},
   "source": [
    "## Ensemble learning\n",
    "\n",
    "In machine learning, we use the term ensemble model to refer to a predictive model that is a composition of several other predictive models. For example, for a classification problem, we can have an ensemble of three classifiers, where the first of them is a decision tree classifier, the second one is a logistic regressor (to be studied in Session 6) and the third one is a shallow neural network. We can train all classifiers with the same training data and then, at test time, predictions can be done using majority voting. \n",
    "\n",
    "Ensemble methods are very popular since they usually show higher performance when compared to simpler classifiers. In fact, gradient boosting trees are the most popular method in [**Kaggle**](https://www.kaggle.com/), a platform that hosts data science competitions. The top entry in the [**Netflix Prize**](https://en.wikipedia.org/wiki/Netflix_Prize) Competition, one of the most famous data science competitions, was based on an ensemble predictive model. \n",
    "\n",
    "The most commmon ensemble methods use decision trees as the members of the ensemble. Scikit-learn implements two types of Tree Ensembles, random forests and gradient boosting. The main difference between both methods is the way in which they combine the different trees that compose the ensemble.\n",
    "\n",
    "### Random Forests\n",
    "\n",
    "The tree ensemble in random forests is built by training individual decision trees on different subsets of the training data and using a subset of the available features. For classification, the prediction is done by majority voting among the individual trees. In fact, according to Scikit-learn documentation for the [RandomForestClassifier](https://scikit-learn.org/stable/modules/generated/sklearn.ensemble.RandomForestClassifier.html#sklearn.ensemble.RandomForestClassifier) \"The predicted class of an input sample is a vote by the trees in the forest, weighted by their probability estimates. That is, the predicted class is the one with highest mean probability estimate across the trees.\" For regression, the prediction is the average of the individual predictions of each tree. \n",
    "\n",
    "Some of the additional parameters required in the Random Forest implementation in Scikit-learn include\n",
    "\n",
    "> **n_estimators** the total number of trees to train<p>\n",
    "**max_features** number of features to use as candidates for splitting at each tree node. <p>\n",
    "    **boostrap**: Whether bootstrap samples are used when building trees. If False, the whole dataset is used to build each tree.<p>\n",
    "   **max_samples**: If bootstrap is True, the number of samples to draw from X to train each base estimator."
   ]
  },
  {
   "cell_type": "markdown",
   "metadata": {},
   "source": [
    "### Question 3\n",
    "\n",
    "Train a [RandomForestRegressor](https://scikit-learn.org/stable/modules/generated/sklearn.ensemble.RandomForestRegressor.html) on the Bike rentals dataset and evaluate the performance on the same data set partition that we had before. Create a grid search to test different values for the parameters **n_estimators** and **max_samples**."
   ]
  },
  {
   "cell_type": "code",
   "execution_count": 27,
   "metadata": {},
   "outputs": [
    {
     "name": "stdout",
     "output_type": "stream",
     "text": [
      "The RMSE on the validation data is : 230.27236151269616\n"
     ]
    }
   ],
   "source": [
    "\n",
    "## import Random Forest module\n",
    "from sklearn.ensemble import RandomForestRegressor\n",
    "\n",
    "## Since Random Forest is made up of many decision trees, we use the same transform as Question 2\n",
    "\n",
    "### We do not use StandardScaler() for the numerical features and keep it as original values\n",
    "Question2_transform = ColumnTransformer([\n",
    "    (\"cat\", OneHotEncoder(), attributes_cat),\n",
    "],remainder='passthrough')\n",
    "\n",
    "\n",
    "## fit transform on the train set\n",
    "bs_train2_set_attributes_Question3 = Question2_transform.fit_transform(bs_train2_set_attributes)\n",
    "## transform the validation set\n",
    "bs_val_set_attributes_Question3 = Question2_transform.transform(bs_val_set_attributes)\n",
    "\n",
    "## Concatenating the attributes and the labels\n",
    "whole_train_set_attributes_Question3 = np.vstack((bs_train2_set_attributes_Question3 , bs_val_set_attributes_Question3))\n",
    "whole_train_set_labels_Question3 = np.hstack((bs_train2_set_labels, bs_val_set_labels))\n",
    "\n",
    "## Applying the Random Forest for regression and exploring different maximum depth options\n",
    "# For simplicity, we set those values for the parameters n_estimators and max_samples.\n",
    "n_estimators_Question3 = [20, 50, 100, 200]\n",
    "max_samples_Question3 = [500, 1000, 2000, 3000]\n",
    "param_grid_Question3 = dict(n_estimators = n_estimators_Question3, max_samples = max_samples_Question3)\n",
    "grid_regression_Question3 = GridSearchCV(RandomForestRegressor(), param_grid=param_grid_Question3, cv=ps, scoring='neg_mean_squared_error')\n",
    "grid_regression_Question3.fit(whole_train_set_attributes_Question3, whole_train_set_labels_Question3)\n",
    "\n",
    "## Training a Random Forest using the best value for the  n_estimators and max_samples\n",
    "regr_Question3 = RandomForestRegressor(n_estimators=grid_regression_Question3.best_params_[\"n_estimators\"],max_samples=grid_regression_Question3.best_params_[\"max_samples\"])\n",
    "regr_Question3.fit(bs_train2_set_attributes_Question3, bs_train2_set_labels)\n",
    "bs_val_set_predictions_Question3 = regr_Question3.predict(bs_val_set_attributes_Question3)\n",
    "\n",
    "## Computing the RMSE for the validation dataset\n",
    "error_mod_Question3 = np.sqrt(mean_squared_error(bs_val_set_labels, bs_val_set_predictions_Question3))\n",
    "print('The RMSE on the validation data is :',error_mod_Question3)"
   ]
  },
  {
   "cell_type": "markdown",
   "metadata": {},
   "source": [
    "### Gradient Boosting\n",
    "\n",
    "In [Gradient Boosting](https://en.wikipedia.org/wiki/Gradient_boosting) or [Gradient-boosted trees](https://en.wikipedia.org/wiki/Gradient_boosting#Gradient_tree_boosting) (GBT), each tree in the ensemble is trained sequentially: the first tree is trained as usual using the training data, the second tree is trained on the residuals between the predictions of the first tree and the labels of the training data, the third tree is trained on the residuals of the predictions of the second tree, etc. The predictions of the ensemble will be the sum of the predictions of each individual tree. The type of residuals are related to the loss function that wants to be minimised.   \n",
    "\n",
    "Scikit-learn uses the classes [GradientBoostingRegressor](https://scikit-learn.org/stable/modules/generated/sklearn.ensemble.GradientBoostingRegressor.html?highlight=gradient%20boosting#sklearn.ensemble.GradientBoostingRegressor) for the implementation of Gradient-Boosted trees for regression and [GradientBoostingClassifier](https://scikit-learn.org/stable/modules/generated/sklearn.ensemble.GradientBoostingClassifier.html?highlight=gradient%20boosting#sklearn.ensemble.GradientBoostingClassifier) for the implementation of Gradient-Boosted trees for binary classification. \n",
    "\n",
    "Besides the parameters that can be specified for Decision Trees, both classes share some of the additional following parameters\n",
    "\n",
    "> **n_estimators** the number of boosting stages to perform.<p>\n",
    "  **subsample** the fraction of samples to be used for fitting the individual base learners.<p>\n",
    "  **max_features** The number of features to consider when looking for the best split:    "
   ]
  },
  {
   "cell_type": "markdown",
   "metadata": {},
   "source": [
    "### Question 4\n",
    "\n",
    "Repeat Question 3 but using a [GradientBoostingRegressor](https://scikit-learn.org/stable/modules/generated/sklearn.ensemble.GradientBoostingRegressor.html?highlight=gradient%20boosting#sklearn.ensemble.GradientBoostingRegressor) using parameters **n_estimators** and **max_features**."
   ]
  },
  {
   "cell_type": "code",
   "execution_count": 33,
   "metadata": {},
   "outputs": [
    {
     "name": "stdout",
     "output_type": "stream",
     "text": [
      "The RMSE on the validation data is : 240.26251285585107\n"
     ]
    }
   ],
   "source": [
    "\n",
    "## I only use a grid search to test different values for the parameters n_estimators \n",
    "## since it does not have max_samples.\n",
    "\n",
    "## import GradientBoostingRegressor module\n",
    "from sklearn.ensemble import GradientBoostingRegressor\n",
    "\n",
    "## We do not use StandardScaler() for the numerical features and keep it as original values\n",
    "Question2_transform = ColumnTransformer([\n",
    "    (\"cat\", OneHotEncoder(), attributes_cat),\n",
    "],remainder='passthrough')\n",
    "\n",
    "## fit transform on the train set\n",
    "bs_train2_set_attributes_Question4 = Question2_transform.fit_transform(bs_train2_set_attributes)\n",
    "## transform the validation set\n",
    "bs_val_set_attributes_Question4 = Question2_transform.transform(bs_val_set_attributes)\n",
    "\n",
    "## Concatenating the attributes and the labels\n",
    "whole_train_set_attributes_Question4 = np.vstack((bs_train2_set_attributes_Question4 , bs_val_set_attributes_Question4))\n",
    "whole_train_set_labels_Question4 = np.hstack((bs_train2_set_labels, bs_val_set_labels))\n",
    "\n",
    "## Applying the Gradient Boosting for regression and exploring different maximum depth options\n",
    "# For simplicity, we set those values for the parameters n_estimators.\n",
    "n_estimators_Question4 = [20, 50, 100, 200]\n",
    "max_features_Question4 = [3, 5, 10, 15]\n",
    "param_grid_Question4 = dict(n_estimators = n_estimators_Question4, max_features=max_features_Question4)\n",
    "grid_regression_Question4 = GridSearchCV(GradientBoostingRegressor(), param_grid=param_grid_Question4, cv=ps, scoring='neg_mean_squared_error')\n",
    "grid_regression_Question4.fit(whole_train_set_attributes_Question4, whole_train_set_labels_Question4)\n",
    "\n",
    "## Training a Gradient Boosting using the best value for the n_estimators\n",
    "regr_Question4 = GradientBoostingRegressor(n_estimators=grid_regression_Question4.best_params_[\"n_estimators\"])\n",
    "regr_Question4.fit(bs_train2_set_attributes_Question4, bs_train2_set_labels)\n",
    "bs_val_set_predictions_Question4 = regr_Question4.predict(bs_val_set_attributes_Question4)\n",
    "\n",
    "## Computing the RMSE for the validation dataset\n",
    "error_mod_Question4 = np.sqrt(mean_squared_error(bs_val_set_labels, bs_val_set_predictions_Question4))\n",
    "print('The RMSE on the validation data is :',error_mod_Question4)"
   ]
  },
  {
   "cell_type": "code",
   "execution_count": null,
   "metadata": {},
   "outputs": [],
   "source": []
  }
 ],
 "metadata": {
  "anaconda-cloud": {},
  "interpreter": {
   "hash": "9d80ddb44d6f5a348c9c8ed4aca494cb8cc19fd58753f7f1789cb69209b85e5d"
  },
  "kernelspec": {
   "display_name": "Python 3.8.10 64-bit ('ndlfm': conda)",
   "name": "python3"
  },
  "language_info": {
   "codemirror_mode": {
    "name": "ipython",
    "version": 3
   },
   "file_extension": ".py",
   "mimetype": "text/x-python",
   "name": "python",
   "nbconvert_exporter": "python",
   "pygments_lexer": "ipython3",
   "version": "3.9.7"
  }
 },
 "nbformat": 4,
 "nbformat_minor": 1
}