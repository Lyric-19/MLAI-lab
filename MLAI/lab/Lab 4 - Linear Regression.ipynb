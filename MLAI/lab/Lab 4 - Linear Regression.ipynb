{
 "cells": [
  {
   "cell_type": "markdown",
   "metadata": {},
   "source": [
    "# Linear Algebra and Linear Regression\n",
    "\n",
    "### Modified by Mauricio Álvarez, 13th October 2021\n",
    "\n",
    "### 13th October 2015 Neil Lawrence\n",
    "\n",
    "\n",
    "## Sum of Squares Error\n",
    "\n",
    "Minimizing the sum of squares error was first proposed by [Legendre](http://en.wikipedia.org/wiki/Adrien-Marie_Legendre) in 1805. His book, which was on the orbit of comets, is available on google books, we can take a look at the relevant page by calling the code below. "
   ]
  },
  {
   "cell_type": "code",
   "execution_count": 1,
   "metadata": {},
   "outputs": [
    {
     "data": {
      "text/html": [
       "\n",
       "        <iframe\n",
       "            width=\"700\"\n",
       "            height=\"500\"\n",
       "            src=\"http://books.google.co.uk/books?id=spcAAAAAMAAJ&pg=PA72&output=embed\"\n",
       "            frameborder=\"0\"\n",
       "            allowfullscreen\n",
       "        ></iframe>\n",
       "        "
      ],
      "text/plain": [
       "<IPython.lib.display.IFrame at 0x1135f5358>"
      ]
     },
     "execution_count": 1,
     "metadata": {},
     "output_type": "execute_result"
    }
   ],
   "source": [
    "target = 'http://books.google.co.uk/books?id=spcAAAAAMAAJ&pg=PA72&output=embed'\n",
    "width=700 \n",
    "height=500\n",
    "from IPython.display import IFrame\n",
    "IFrame(target, width=width, height=height)"
   ]
  },
  {
   "cell_type": "markdown",
   "metadata": {},
   "source": [
    "After running the previous cell, you should see the Google books link embedded in the notebook. If you can't display it, got directly to the Google books link [here](http://books.google.co.uk/books?id=spcAAAAAMAAJ&pg=PA72&output=embed)"
   ]
  },
  {
   "cell_type": "markdown",
   "metadata": {},
   "source": [
    "Of course, the main text is in French, but the key part we are interested in can be roughly translated as\n",
    "\n",
    "\"In most matters where we take measures data through observation, the most accurate results they can offer, it is almost always leads to a system of equations of the form\n",
    "$$E = a + bx + cy + fz + etc .$$\n",
    "where a, b, c, f etc are the known coefficients and  x , y, z etc are unknown and must be determined by the condition that the value of E is reduced, for each equation, to an amount or zero or very small.\"\n",
    "\n",
    "He continues\n",
    "\n",
    "\"Of all the principles that we can offer for this item, I think it is not broader, more accurate, nor easier than the one we have used in previous research application, and that is to make the minimum sum of the squares of the errors. By this means, it is between the errors a kind of balance that prevents extreme to prevail, is very specific to make known the state of the closest to the truth system. The sum of the squares of the errors $E^2 + \\left.E^\\prime\\right.^2 + \\left.E^{\\prime\\prime}\\right.^2 + etc$ being\n",
    "\\begin{align*}   &(a + bx + cy + fz + etc)^2 \\\\\n",
    "+ &(a^\\prime + b^\\prime x + c^\\prime y + f^\\prime z + etc ) ^2\\\\\n",
    "+ &(a^{\\prime\\prime} + b^{\\prime\\prime}x  + c^{\\prime\\prime}y +  f^{\\prime\\prime}z + etc )^2 \\\\\n",
    "+ & etc\n",
    "\\end{align*}\n",
    "if we wanted a minimum, by varying x alone, we will have the equation ...\"\n",
    "\n",
    "This is the earliest know printed version of the problem of least squares. The notation, however, is a little awkward for mordern eyes. In particular Legendre doesn't make use of the sum sign,\n",
    "$$\n",
    "\\sum_{i=1}^3 z_i = z_1 + z_2 + z_3\n",
    "$$\n",
    "nor does he make use of the inner product. \n",
    "\n",
    "In our notation, if we were to do linear regression, we would need to substitute:\n",
    "\\begin{align*}\n",
    "a &\\leftarrow y_1-c, \\\\ a^\\prime &\\leftarrow y_2-c,\\\\ a^{\\prime\\prime} &\\leftarrow y_3 -c,\\\\ \n",
    "\\text{etc.} \n",
    "\\end{align*}\n",
    "to introduce the data observations $\\{y_i\\}_{i=1}^{n}$ alongside $c$, the offset. We would then introduce the input locations\n",
    "\\begin{align*}\n",
    "b & \\leftarrow x_1,\\\\\n",
    "b^\\prime & \\leftarrow x_2,\\\\\n",
    "b^{\\prime\\prime} & \\leftarrow x_3,\\\\\n",
    "\\text{etc.}\n",
    "\\end{align*}\n",
    "and finally the gradient of the function\n",
    "$$x \\leftarrow -m.$$\n",
    "The remaining coefficients ($c$ and $f$) would then be zero. That would give us \n",
    "\\begin{align*}   &(y_1 - (mx_1+c))^2 \\\\\n",
    "+ &(y_2 -(mx_2 + c))^2\\\\\n",
    "+ &(y_3 -(mx_3 + c))^2 \\\\\n",
    "+ & \\text{etc.}\n",
    "\\end{align*}\n",
    "which we would write in the modern notation for sums as\n",
    "$$\n",
    "\\sum_{i=1}^n (y_i-(mx_i + c))^2\n",
    "$$\n",
    "which is recognised as the sum of squares error for a linear regression.\n",
    "\n",
    "This shows the advantage of modern [summation operator](http://en.wikipedia.org/wiki/Summation), $\\sum$,  in keeping our mathematical notation compact. Whilst it may look more complicated the first time you see it, understanding the mathematical rules that go around it, allows us to go much further with the notation.\n",
    "\n",
    "Inner products (or [dot products](http://en.wikipedia.org/wiki/Dot_product)) are similar. They allow us to write\n",
    "$$\n",
    "\\sum_{i=1}^q u_i v_i\n",
    "$$\n",
    "in a more compact notation,\n",
    "$\n",
    "\\mathbf{u}\\cdot\\mathbf{v}.\n",
    "$\n",
    "\n",
    "Here we are using bold face to represent vectors, and we assume that the individual elements of a vector $\\mathbf{z}$ are given as a series of scalars\n",
    "$$\n",
    "\\mathbf{z} = \\begin{bmatrix} z_1\\\\ z_2\\\\ \\vdots\\\\ z_n \\end{bmatrix}\n",
    "$$\n",
    "which are each indexed by their position in the vector.\n",
    "\n",
    "## Linear Algebra\n",
    "\n",
    "Linear algebra provides a very similar role, when we introduce [linear algebra](http://en.wikipedia.org/wiki/Linear_algebra), it is because we are faced with a large number of addition and multiplication operations. These operations need to be done together and would be very tedious to write down as a group. So the first reason we reach for linear algebra is for a more compact representation of our mathematical formulae. "
   ]
  },
  {
   "cell_type": "markdown",
   "metadata": {},
   "source": [
    "### Running Example: Olympic Marathons\n",
    "\n",
    "Now we will load in the Olympic marathon data. This is data of the olympic marathon times for the men's marathon from the first olympics in 1896 up until the London 2012 olympics."
   ]
  },
  {
   "cell_type": "code",
   "execution_count": 2,
   "metadata": {},
   "outputs": [],
   "source": [
    "import pandas as pd \n",
    "import numpy as np\n",
    "data = pd.read_csv('https://raw.githubusercontent.com/maalvarezl/MLAI/master/Labs/datasets/olympic_marathon_men.csv', header=None, encoding= 'unicode_escape')\n",
    "x = np.array(data.iloc[:, 0].values).reshape(-1,1)\n",
    "y = np.array(data.iloc[:, 1].values).reshape(-1,1)"
   ]
  },
  {
   "cell_type": "markdown",
   "metadata": {},
   "source": [
    "You can see what these values are by typing:"
   ]
  },
  {
   "cell_type": "code",
   "execution_count": 3,
   "metadata": {},
   "outputs": [
    {
     "data": {
      "text/plain": [
       "array([[4.47083333],\n",
       "       [4.46472926],\n",
       "       [5.22208333],\n",
       "       [4.15467867],\n",
       "       [3.90331675],\n",
       "       [3.56951267],\n",
       "       [3.82454477],\n",
       "       [3.62483707],\n",
       "       [3.59284275],\n",
       "       [3.53880792],\n",
       "       [3.67010309],\n",
       "       [3.39029111],\n",
       "       [3.43642612],\n",
       "       [3.20583007],\n",
       "       [3.13275665],\n",
       "       [3.32819844],\n",
       "       [3.13583758],\n",
       "       [3.0789588 ],\n",
       "       [3.10581822],\n",
       "       [3.06552909],\n",
       "       [3.09357349],\n",
       "       [3.16111704],\n",
       "       [3.14255244],\n",
       "       [3.08527867],\n",
       "       [3.10265829],\n",
       "       [2.99877553],\n",
       "       [3.03392977]])"
      ]
     },
     "execution_count": 3,
     "metadata": {},
     "output_type": "execute_result"
    }
   ],
   "source": [
    "y"
   ]
  },
  {
   "cell_type": "code",
   "execution_count": 4,
   "metadata": {},
   "outputs": [
    {
     "name": "stdout",
     "output_type": "stream",
     "text": [
      "[[1896]\n",
      " [1900]\n",
      " [1904]\n",
      " [1908]\n",
      " [1912]\n",
      " [1920]\n",
      " [1924]\n",
      " [1928]\n",
      " [1932]\n",
      " [1936]\n",
      " [1948]\n",
      " [1952]\n",
      " [1956]\n",
      " [1960]\n",
      " [1964]\n",
      " [1968]\n",
      " [1972]\n",
      " [1976]\n",
      " [1980]\n",
      " [1984]\n",
      " [1988]\n",
      " [1992]\n",
      " [1996]\n",
      " [2000]\n",
      " [2004]\n",
      " [2008]\n",
      " [2012]]\n",
      "[[4.47083333]\n",
      " [4.46472926]\n",
      " [5.22208333]\n",
      " [4.15467867]\n",
      " [3.90331675]\n",
      " [3.56951267]\n",
      " [3.82454477]\n",
      " [3.62483707]\n",
      " [3.59284275]\n",
      " [3.53880792]\n",
      " [3.67010309]\n",
      " [3.39029111]\n",
      " [3.43642612]\n",
      " [3.20583007]\n",
      " [3.13275665]\n",
      " [3.32819844]\n",
      " [3.13583758]\n",
      " [3.0789588 ]\n",
      " [3.10581822]\n",
      " [3.06552909]\n",
      " [3.09357349]\n",
      " [3.16111704]\n",
      " [3.14255244]\n",
      " [3.08527867]\n",
      " [3.10265829]\n",
      " [2.99877553]\n",
      " [3.03392977]]\n"
     ]
    }
   ],
   "source": [
    "print(x)\n",
    "print(y)"
   ]
  },
  {
   "cell_type": "markdown",
   "metadata": {},
   "source": [
    "Note that they are not `pandas` data frames for this example, they are just arrays of dimensionality $n\\times 1$, where $n$ is the number of data."
   ]
  },
  {
   "cell_type": "markdown",
   "metadata": {},
   "source": [
    "The aim of this lab is to have you coding linear regression in python. We will do it in two ways, once using iterative updates (coordinate ascent) and then using linear algebra. The linear algebra approach will not only work much better, it is easy to extend to multiple input linear regression and *non-linear* regression using basis functions."
   ]
  },
  {
   "cell_type": "markdown",
   "metadata": {},
   "source": [
    "### Plotting the Data\n",
    "\n",
    "You can make a plot of $y$ vs $x$ with the following command:"
   ]
  },
  {
   "cell_type": "code",
   "execution_count": 5,
   "metadata": {},
   "outputs": [
    {
     "data": {
      "text/plain": [
       "Text(0, 0.5, 'pace in min/km')"
      ]
     },
     "execution_count": 5,
     "metadata": {},
     "output_type": "execute_result"
    },
    {
     "data": {
      "image/png": "[encoded data removed]",
      "text/plain": [
       "<Figure size 432x288 with 1 Axes>"
      ]
     },
     "metadata": {
      "needs_background": "light"
     },
     "output_type": "display_data"
    }
   ],
   "source": [
    "%matplotlib inline \n",
    "import pylab as plt\n",
    "\n",
    "plt.plot(x, y, 'rx')\n",
    "plt.xlabel('year')\n",
    "plt.ylabel('pace in min/km')"
   ]
  },
  {
   "cell_type": "markdown",
   "metadata": {},
   "source": [
    "### Maximum Likelihood: Iterative Solution"
   ]
  },
  {
   "cell_type": "markdown",
   "metadata": {},
   "source": [
    "Now we will take the maximum likelihood approach we studied in the lecture to fit a line, $y_i=mx_i + c$, to the data you've plotted. We are trying to minimize the error function:"
   ]
  },
  {
   "cell_type": "markdown",
   "metadata": {},
   "source": [
    "$$E(m, c) =  \\sum_{i=1}^n(y_i-mx_i-c)^2$$"
   ]
  },
  {
   "cell_type": "markdown",
   "metadata": {},
   "source": [
    "with respect to $m$ and $c$. We can start with an initial guess for $m$, "
   ]
  },
  {
   "cell_type": "code",
   "execution_count": 6,
   "metadata": {},
   "outputs": [],
   "source": [
    "m = -0.4\n",
    "c = 80 "
   ]
  },
  {
   "cell_type": "markdown",
   "metadata": {},
   "source": [
    "Then we use the maximum likelihood update to find an estimate for the offset, $c$.\n",
    "\n",
    "### Coordinate Descent\n",
    "\n",
    "In the lecture, we saw how the steepest decent algorithm works. Here, we explain another approach. It is known as *coordinate descent*. In coordinate descent, we choose to move one parameter at a time. Ideally, we design an algorithm that at each step moves the parameter to its minimum value. At each step we choose to move the individual parameter to its minimum.\n",
    "\n",
    "To find the minimum, we look for the point in the curve where the gradient is zero. This can be found by taking the gradient of $E(m,c)$ with respect to the parameter. \n",
    "\n",
    "#### Update for Offset\n",
    "\n",
    "Let's consider the parameter $c$ first. The gradient goes nicely through the summation operator, and we obtain\n",
    "$$\n",
    "\\frac{\\text{d}E(m,c)}{\\text{d}c} = -\\sum_{i=1}^n 2(y_i-mx_i-c).\n",
    "$$\n",
    "Now we want the point that is a minimum. A minimum is an example of a [*stationary point*](http://en.wikipedia.org/wiki/Stationary_point), the stationary points are those points of the function where the gradient is zero. They are found by solving the equation for $\\frac{\\text{d}E(m,c)}{\\text{d}c} = 0$. Substituting in to our gradient, we can obtain the following equation, \n",
    "$$\n",
    "0 = -\\sum_{i=1}^n 2(y_i-mx_i-c)\n",
    "$$\n",
    "which can be reorganised as follows,\n",
    "$$\n",
    "c^* = \\frac{\\sum_{i=1}^n(y_i-m^*x_i)}{n}.\n",
    "$$\n",
    "The fact that the stationary point is easily extracted in this manner implies that the solution is *unique*. There is only one stationary point for this system. Traditionally when trying to determine the type of stationary point we have encountered we now compute the *second derivative*,\n",
    "$$\n",
    "\\frac{\\text{d}^2E(m,c)}{\\text{d}c^2} = 2n.\n",
    "$$\n",
    "The second derivative is positive, which in turn implies that we have found a minimum of the function. This means that setting $c$ in this way will take us to the lowest point along that axes."
   ]
  },
  {
   "cell_type": "code",
   "execution_count": 7,
   "metadata": {},
   "outputs": [
    {
     "name": "stdout",
     "output_type": "stream",
     "text": [
      "786.0197711451852\n"
     ]
    }
   ],
   "source": [
    "# set c to the minimum\n",
    "c = (y - m*x).mean()\n",
    "print(c)"
   ]
  },
  {
   "cell_type": "markdown",
   "metadata": {},
   "source": [
    "#### Update for Slope\n",
    "\n",
    "Now we have the offset set to the minimum value, in coordinate descent, the next step is to optimise another parameter. Only one further parameter remains. That is the slope of the system. \n",
    "\n",
    "Now we can turn our attention to the slope. We once again peform the same set of computations to find the minima. We end up with an update equation of the following form.\n",
    "\n",
    "$$m^* = \\frac{\\sum_{i=1}^n (y_i - c)x_i}{\\sum_{i=1}^n x_i^2}$$\n",
    "\n",
    "Communication of mathematics in data science is an essential skill, in a moment, you will be asked to rederive the equation above. Before we do that, however, we will briefly review how to write mathematics in the notebook.\n",
    "\n",
    "### $\\LaTeX$ for Maths\n",
    "\n",
    "These cells use [Markdown format](http://en.wikipedia.org/wiki/Markdown). You can include maths in your markdown using [$\\LaTeX$ syntax](http://en.wikipedia.org/wiki/LaTeX), all you have to do is write your answer inside dollar signs, as follows:\n",
    "\n",
    "To write a fraction, we write `$\\frac{a}{b}$`, and it will display like this $\\frac{a}{b}$. To write a subscript we write `$a_b$` which will appear as $a_b$. To write a superscript (for example in a polynomial) we write `$a^b$` which will appear as $a^b$. There are lots of other macros as well, for example we can do greek letters such as `$\\alpha, \\beta, \\gamma$` rendering as $\\alpha, \\beta, \\gamma$. And we can do sum and intergral signs as `$\\sum \\int \\int$`.\n",
    "\n",
    "You can combine many of these operations together for composing expressions."
   ]
  },
  {
   "cell_type": "markdown",
   "metadata": {},
   "source": [
    "### Question 1 \n",
    "\n",
    "Convert the following python code expressions into $\\LaTeX$j, writing your answers below. In each case write your answer as a single equality (i.e. your maths should only contain one expression, not several lines of expressions). For the purposes of your $\\LaTeX$ please assume that `x` and `w` are $n$ dimensional vectors. \n",
    "\n",
    "(a) \n",
    "``` python\n",
    "f = x.sum()\n",
    "```\n",
    "\n",
    "(b) \n",
    "``` python \n",
    "m = x.mean()\n",
    "```\n",
    "\n",
    "(c) \n",
    "``` python\n",
    "g = (x*w).sum()\n",
    "```"
   ]
  },
  {
   "cell_type": "markdown",
   "metadata": {},
   "source": [
    "#### Question 1 Answer\n",
    "\n",
    "Write your answer to the question in this box.\n",
    "\n",
    "（a） $f = x.sum()$"
   ]
  },
  {
   "cell_type": "markdown",
   "metadata": {},
   "source": [
    "### Gradient With Respect to the Slope\n",
    "Now that you've had a little training in writing maths with $\\LaTeX$, we will be able to use it to answer questions. The next thing we are going to do is a little differentiation practice. "
   ]
  },
  {
   "cell_type": "markdown",
   "metadata": {},
   "source": [
    "### Question 2\n",
    "\n",
    "Derive the the gradient of the objective function with respect to the slope, $m$. Rearrange it to show that the update equation written above does find the stationary points of the objective function. By computing its derivative show that it's a minimum."
   ]
  },
  {
   "cell_type": "markdown",
   "metadata": {},
   "source": [
    "#### Question 2 Answer\n",
    "\n",
    "Write your answer to the question in this box.\n",
    "\n",
    "\n",
    "$E(m,c)=\\sum_{i=1}^n (y_i-m x_i-c)^2$\n",
    "\n",
    "$\\frac{d}{dm}E(m,c)=-2\\sum_{i=1}^n x_i(y_i-m x_i-c)$\n",
    "\n",
    "$0=-2\\sum_{i=1}^n (y_i-m x_i-c)$\n",
    "\n",
    "$0=2m\\sum_{i=1}^n x_i^2-2\\sum_{i=1}^n x_i (y_i-c)$\n",
    "\n",
    "$2\\sum_{i=1}^n x_i(y_i-c)=2m\\sum_{i=1}^n x_i^2$\n",
    "\n",
    "$m=\\frac{\\sum_{i=1}^n x_i (y_i-c)}{\\sum_{i=1}^n x_i^2}$\n",
    "\n",
    "second derivative\n",
    "\n",
    "$\\frac{d}{dm}E(m,c)=-2\\sum_{i=1}^n x_i(y_i-mx_i-c)$\n",
    "\n",
    "$\\frac{d}{dm}E(m,c)=2m\\sum_{i=1}^n x_i^2-2\\sum_{i=1}^n x_i(y_i-c)$\n",
    "\n",
    "$\\frac{d^2}{dm^2}E(m,c)=2\\sum_{i=1}^n x_i^2$"
   ]
  },
  {
   "cell_type": "markdown",
   "metadata": {},
   "source": [
    "We can have a look at how good our fit is by computing the prediction across the input space. First create a vector of 'test points',"
   ]
  },
  {
   "cell_type": "code",
   "execution_count": 8,
   "metadata": {},
   "outputs": [],
   "source": [
    "x_test = np.linspace(1890, 2020, 130)[:, None]"
   ]
  },
  {
   "cell_type": "markdown",
   "metadata": {},
   "source": [
    "Now use this vector to compute some test predictions,"
   ]
  },
  {
   "cell_type": "code",
   "execution_count": 9,
   "metadata": {},
   "outputs": [],
   "source": [
    "f_test = m*x_test + c"
   ]
  },
  {
   "cell_type": "markdown",
   "metadata": {},
   "source": [
    "Now plot those test predictions with a blue line on the same plot as the data,"
   ]
  },
  {
   "cell_type": "code",
   "execution_count": 10,
   "metadata": {},
   "outputs": [
    {
     "data": {
      "text/plain": [
       "[<matplotlib.lines.Line2D at 0x11b9d7668>]"
      ]
     },
     "execution_count": 10,
     "metadata": {},
     "output_type": "execute_result"
    },
    {
     "data": {
      "image/png": "[encoded data removed]",
      "text/plain": [
       "<Figure size 432x288 with 1 Axes>"
      ]
     },
     "metadata": {
      "needs_background": "light"
     },
     "output_type": "display_data"
    }
   ],
   "source": [
    "plt.plot(x_test, f_test, 'b-')\n",
    "plt.plot(x, y, 'rx')"
   ]
  },
  {
   "cell_type": "markdown",
   "metadata": {},
   "source": [
    "The fit isn't very good, we need to iterate between these parameter updates in a loop to improve the fit, we have to do this several times,"
   ]
  },
  {
   "cell_type": "code",
   "execution_count": 11,
   "metadata": {},
   "outputs": [
    {
     "name": "stdout",
     "output_type": "stream",
     "text": [
      "-0.3987259642504537\n",
      "783.5273797269986\n"
     ]
    }
   ],
   "source": [
    "for i in np.arange(10):\n",
    "    m = ((y - c)*x).sum()/(x*x).sum()\n",
    "    c = (y-m*x).sum()/y.shape[0]\n",
    "print(m)\n",
    "print(c)"
   ]
  },
  {
   "cell_type": "markdown",
   "metadata": {},
   "source": [
    "And let's try plotting the result again"
   ]
  },
  {
   "cell_type": "code",
   "execution_count": 12,
   "metadata": {},
   "outputs": [
    {
     "data": {
      "text/plain": [
       "[<matplotlib.lines.Line2D at 0x11bafc198>]"
      ]
     },
     "execution_count": 12,
     "metadata": {},
     "output_type": "execute_result"
    },
    {
     "data": {
      "image/png": "[encoded data removed]",
      "text/plain": [
       "<Figure size 432x288 with 1 Axes>"
      ]
     },
     "metadata": {
      "needs_background": "light"
     },
     "output_type": "display_data"
    }
   ],
   "source": [
    "f_test = m*x_test + c\n",
    "plt.plot(x_test, f_test, 'b-')\n",
    "plt.plot(x, y, 'rx')"
   ]
  },
  {
   "cell_type": "markdown",
   "metadata": {},
   "source": [
    "Clearly we need more iterations than 10! In the next question you will add more iterations and report on the error as optimisation proceeds. "
   ]
  },
  {
   "cell_type": "markdown",
   "metadata": {},
   "source": [
    "### Question 3\n",
    "\n",
    "There is a problem here, we seem to need many interations to get to a good solution. Let's explore what's going on. Write code which alternates between updates of `c` and `m`. Include the following features in your code.\n",
    "\n",
    "(a) Initialise with `m=-0.4` and `c=80`.\n",
    "(b) Every 10 iterations compute the value of the objective function for the training data and print it to the screen (you'll find hints on this in the lab from last week.\n",
    "(c) Cause the code to stop running when the error change over less than 10 iterations is smaller than $1\\times10^{-4}$. This is known as a stopping criterion.\n",
    "\n",
    "Why do we need so many iterations to get to the solution?"
   ]
  },
  {
   "cell_type": "code",
   "execution_count": 13,
   "metadata": {},
   "outputs": [
    {
     "name": "stdout",
     "output_type": "stream",
     "text": [
      "iterative: 10 objective 25.082468011856147\n",
      "iterative: 20 objective 24.93061542610306\n",
      "iterative: 30 objective 24.779760967112086\n",
      "iterative: 40 objective 24.629898074197822\n",
      "iterative: 50 objective 24.481020229798286\n",
      "iterative: 60 objective 24.33312095919156\n",
      "iterative: 70 objective 24.186193830213902\n",
      "iterative: 80 objective 24.040232452980188\n",
      "iterative: 90 objective 23.89523047960615\n",
      "iterative: 100 objective 23.751181603931776\n",
      "iterative: 110 objective 23.608079561247553\n",
      "iterative: 120 objective 23.465918128022416\n",
      "iterative: 130 objective 23.324691121631865\n",
      "iterative: 140 objective 23.184392400090143\n",
      "iterative: 150 objective 23.04501586178281\n",
      "iterative: 160 objective 22.906555445201015\n",
      "iterative: 170 objective 22.76900512867836\n",
      "iterative: 180 objective 22.63235893012887\n",
      "iterative: 190 objective 22.496610906786987\n",
      "iterative: 200 objective 22.361755154948536\n",
      "iterative: 210 objective 22.227785809714717\n",
      "iterative: 220 objective 22.09469704473653\n",
      "iterative: 230 objective 21.96248307196144\n",
      "iterative: 240 objective 21.831138141382365\n",
      "iterative: 250 objective 21.70065654078605\n",
      "iterative: 260 objective 21.571032595506562\n",
      "iterative: 270 objective 21.44226066817668\n",
      "iterative: 280 objective 21.31433515848457\n",
      "iterative: 290 objective 21.187250502928293\n",
      "iterative: 300 objective 21.061001174575193\n",
      "iterative: 310 objective 20.93558168282119\n",
      "iterative: 320 objective 20.81098657315189\n",
      "iterative: 330 objective 20.68721042690543\n",
      "iterative: 340 objective 20.56424786103681\n",
      "iterative: 350 objective 20.442093527883493\n",
      "iterative: 360 objective 20.320742114933555\n",
      "iterative: 370 objective 20.20018834459388\n",
      "iterative: 380 objective 20.0804269739612\n",
      "iterative: 390 objective 19.961452794593693\n",
      "iterative: 400 objective 19.843260632284586\n",
      "iterative: 410 objective 19.725845346837335\n",
      "iterative: 420 objective 19.609201831841638\n",
      "iterative: 430 objective 19.493325014451766\n",
      "iterative: 440 objective 19.378209855165856\n",
      "iterative: 450 objective 19.26385134760661\n",
      "iterative: 460 objective 19.150244518303648\n",
      "iterative: 470 objective 19.037384426477217\n",
      "iterative: 480 objective 18.925266163823213\n",
      "iterative: 490 objective 18.813884854299854\n",
      "iterative: 500 objective 18.703235653915787\n",
      "iterative: 510 objective 18.593313750518828\n",
      "iterative: 520 objective 18.48411436358728\n",
      "iterative: 530 objective 18.375632744021836\n",
      "iterative: 540 objective 18.267864173938854\n",
      "iterative: 550 objective 18.160803966465487\n",
      "iterative: 560 objective 18.05444746553547\n",
      "iterative: 570 objective 17.948790045687236\n",
      "iterative: 580 objective 17.843827111861973\n",
      "iterative: 590 objective 17.739554099204405\n",
      "iterative: 600 objective 17.63596647286399\n",
      "iterative: 610 objective 17.53305972779771\n",
      "iterative: 620 objective 17.430829388574267\n",
      "iterative: 630 objective 17.32927100917935\n",
      "iterative: 640 objective 17.228380172822224\n",
      "iterative: 650 objective 17.128152491743766\n",
      "iterative: 660 objective 17.028583607025517\n",
      "iterative: 670 objective 16.929669188400183\n",
      "iterative: 680 objective 16.83140493406361\n",
      "iterative: 690 objective 16.733786570486945\n",
      "iterative: 700 objective 16.636809852231494\n",
      "iterative: 710 objective 16.540470561763623\n",
      "iterative: 720 objective 16.444764509271863\n",
      "iterative: 730 objective 16.349687532484136\n",
      "iterative: 740 objective 16.255235496486993\n",
      "iterative: 750 objective 16.161404293545758\n",
      "iterative: 760 objective 16.068189842925886\n",
      "iterative: 770 objective 15.975588090715664\n",
      "iterative: 780 objective 15.883595009649497\n",
      "iterative: 790 objective 15.79220659893306\n",
      "iterative: 800 objective 15.701418884069335\n",
      "iterative: 810 objective 15.611227916685579\n",
      "iterative: 820 objective 15.521629774361788\n",
      "iterative: 830 objective 15.432620560459883\n",
      "iterative: 840 objective 15.34419640395442\n",
      "iterative: 850 objective 15.256353459264265\n",
      "iterative: 860 objective 15.169087906085267\n",
      "iterative: 870 objective 15.082395949224058\n",
      "iterative: 880 objective 14.99627381843319\n",
      "iterative: 890 objective 14.910717768246926\n",
      "iterative: 900 objective 14.825724077818391\n",
      "iterative: 910 objective 14.741289050758153\n",
      "iterative: 920 objective 14.65740901497276\n",
      "iterative: 930 objective 14.574080322505779\n",
      "iterative: 940 objective 14.491299349378426\n",
      "iterative: 950 objective 14.409062495432597\n",
      "iterative: 960 objective 14.327366184173977\n",
      "iterative: 970 objective 14.246206862616448\n",
      "iterative: 980 objective 14.16558100112762\n",
      "iterative: 990 objective 14.085485093275636\n",
      "iterative: 1000 objective 14.005915655676127\n",
      "iterative: 1010 objective 13.926869227841088\n",
      "iterative: 1020 objective 13.848342372028409\n",
      "iterative: 1030 objective 13.77033167309211\n",
      "iterative: 1040 objective 13.692833738333912\n",
      "iterative: 1050 objective 13.615845197355958\n",
      "iterative: 1060 objective 13.539362701913838\n",
      "iterative: 1070 objective 13.463382925771235\n",
      "iterative: 1080 objective 13.387902564555088\n",
      "iterative: 1090 objective 13.312918335611995\n",
      "iterative: 1100 objective 13.238426977865483\n",
      "iterative: 1110 objective 13.164425251674114\n",
      "iterative: 1120 objective 13.090909938690626\n",
      "iterative: 1130 objective 13.017877841721775\n",
      "iterative: 1140 objective 12.945325784589684\n",
      "iterative: 1150 objective 12.873250611993466\n",
      "iterative: 1160 objective 12.801649189371897\n",
      "iterative: 1170 objective 12.730518402767268\n",
      "iterative: 1180 objective 12.659855158689938\n",
      "iterative: 1190 objective 12.589656383983819\n",
      "iterative: 1200 objective 12.519919025692431\n",
      "iterative: 1210 objective 12.450640050926726\n",
      "iterative: 1220 objective 12.381816446732543\n",
      "iterative: 1230 objective 12.313445219959966\n",
      "iterative: 1240 objective 12.245523397133086\n",
      "iterative: 1250 objective 12.178048024320566\n",
      "iterative: 1260 objective 12.111016167007406\n",
      "iterative: 1270 objective 12.044424909966935\n",
      "iterative: 1280 objective 11.97827135713447\n",
      "iterative: 1290 objective 11.912552631480974\n",
      "iterative: 1300 objective 11.847265874888318\n",
      "iterative: 1310 objective 11.782408248024653\n",
      "iterative: 1320 objective 11.717976930220976\n",
      "iterative: 1330 objective 11.653969119348709\n",
      "iterative: 1340 objective 11.590382031697583\n",
      "iterative: 1350 objective 11.527212901854657\n",
      "iterative: 1360 objective 11.464458982583995\n",
      "iterative: 1370 objective 11.402117544707352\n",
      "iterative: 1380 objective 11.340185876985245\n",
      "iterative: 1390 objective 11.278661285999215\n",
      "iterative: 1400 objective 11.21754109603464\n",
      "iterative: 1410 objective 11.156822648964388\n",
      "iterative: 1420 objective 11.096503304133183\n",
      "iterative: 1430 objective 11.036580438242694\n",
      "iterative: 1440 objective 10.977051445237636\n",
      "iterative: 1450 objective 10.917913736192189\n",
      "iterative: 1460 objective 10.859164739197787\n",
      "iterative: 1470 objective 10.800801899250672\n",
      "iterative: 1480 objective 10.742822678141355\n",
      "iterative: 1490 objective 10.685224554343945\n",
      "iterative: 1500 objective 10.62800502290654\n",
      "iterative: 1510 objective 10.571161595342238\n",
      "iterative: 1520 objective 10.514691799520982\n",
      "iterative: 1530 objective 10.458593179562053\n",
      "iterative: 1540 objective 10.402863295727142\n",
      "iterative: 1550 objective 10.347499724314435\n",
      "iterative: 1560 objective 10.292500057553093\n",
      "iterative: 1570 objective 10.237861903498448\n",
      "iterative: 1580 objective 10.183582885928265\n",
      "iterative: 1590 objective 10.129660644239006\n",
      "iterative: 1600 objective 10.076092833343495\n",
      "iterative: 1610 objective 10.022877123568799\n",
      "iterative: 1620 objective 9.97001120055494\n",
      "iterative: 1630 objective 9.917492765154165\n",
      "iterative: 1640 objective 9.865319533331\n",
      "iterative: 1650 objective 9.813489236063027\n",
      "iterative: 1660 objective 9.761999619242053\n",
      "iterative: 1670 objective 9.71084844357614\n",
      "iterative: 1680 objective 9.660033484492217\n",
      "iterative: 1690 objective 9.60955253203927\n",
      "iterative: 1700 objective 9.559403390792385\n",
      "iterative: 1710 objective 9.509583879757137\n",
      "iterative: 1720 objective 9.460091832274685\n",
      "iterative: 1730 objective 9.410925095927766\n",
      "iterative: 1740 objective 9.362081532446911\n",
      "iterative: 1750 objective 9.313559017617468\n",
      "iterative: 1760 objective 9.265355441187161\n",
      "iterative: 1770 objective 9.217468706774584\n",
      "iterative: 1780 objective 9.169896731777769\n",
      "iterative: 1790 objective 9.122637447283612\n",
      "iterative: 1800 objective 9.07568879797804\n",
      "iterative: 1810 objective 9.029048742056544\n",
      "iterative: 1820 objective 8.98271525113536\n",
      "iterative: 1830 objective 8.936686310163346\n",
      "iterative: 1840 objective 8.8909599173342\n",
      "iterative: 1850 objective 8.845534083999626\n",
      "iterative: 1860 objective 8.800406834582564\n",
      "iterative: 1870 objective 8.755576206491533\n",
      "iterative: 1880 objective 8.711040250035094\n",
      "iterative: 1890 objective 8.66679702833709\n",
      "iterative: 1900 objective 8.622844617252632\n",
      "iterative: 1910 objective 8.57918110528395\n",
      "iterative: 1920 objective 8.535804593497783\n",
      "iterative: 1930 objective 8.492713195442445\n",
      "iterative: 1940 objective 8.449905037065925\n",
      "iterative: 1950 objective 8.407378256634328\n",
      "iterative: 1960 objective 8.365131004650967\n",
      "iterative: 1970 objective 8.323161443775891\n",
      "iterative: 1980 objective 8.281467748745925\n",
      "iterative: 1990 objective 8.240048106295383\n",
      "iterative: 2000 objective 8.1989007150772\n",
      "iterative: 2010 objective 8.15802378558453\n",
      "iterative: 2020 objective 8.117415540072944\n",
      "iterative: 2030 objective 8.077074212483158\n",
      "iterative: 2040 objective 8.03699804836418\n",
      "iterative: 2050 objective 7.997185304796917\n",
      "iterative: 2060 objective 7.957634250318743\n",
      "iterative: 2070 objective 7.918343164847637\n",
      "iterative: 2080 objective 7.879310339607833\n",
      "iterative: 2090 objective 7.8405340770553265\n",
      "iterative: 2100 objective 7.802012690804034\n",
      "iterative: 2110 objective 7.763744505552504\n",
      "iterative: 2120 objective 7.72572785701111\n",
      "iterative: 2130 objective 7.687961091829467\n",
      "iterative: 2140 objective 7.650442567524662\n",
      "iterative: 2150 objective 7.6131706524099645\n",
      "iterative: 2160 objective 7.576143725523566\n",
      "iterative: 2170 objective 7.539360176558346\n",
      "iterative: 2180 objective 7.502818405791663\n",
      "iterative: 2190 objective 7.466516824015888\n",
      "iterative: 2200 objective 7.4304538524692205\n",
      "iterative: 2210 objective 7.394627922767054\n",
      "iterative: 2220 objective 7.3590374768338185\n",
      "iterative: 2230 objective 7.3236809668351555\n"
     ]
    },
    {
     "name": "stdout",
     "output_type": "stream",
     "text": [
      "iterative: 2240 objective 7.2885568551105715\n",
      "iterative: 2250 objective 7.253663614106631\n",
      "iterative: 2260 objective 7.218999726310535\n",
      "iterative: 2270 objective 7.184563684184077\n",
      "iterative: 2280 objective 7.150353990098116\n",
      "iterative: 2290 objective 7.116369156267389\n",
      "iterative: 2300 objective 7.0826077046858975\n",
      "iterative: 2310 objective 7.049068167062463\n",
      "iterative: 2320 objective 7.015749084757107\n",
      "iterative: 2330 objective 6.98264900871738\n",
      "iterative: 2340 objective 6.949766499415581\n",
      "iterative: 2350 objective 6.9171001267859245\n",
      "iterative: 2360 objective 6.884648470162439\n",
      "iterative: 2370 objective 6.852410118217209\n",
      "iterative: 2380 objective 6.820383668899081\n",
      "iterative: 2390 objective 6.7885677293723745\n",
      "iterative: 2400 objective 6.756960915956663\n",
      "iterative: 2410 objective 6.7255618540664\n",
      "iterative: 2420 objective 6.6943691781512635\n",
      "iterative: 2430 objective 6.663381531636494\n",
      "iterative: 2440 objective 6.632597566864363\n",
      "iterative: 2450 objective 6.602015945035064\n",
      "iterative: 2460 objective 6.571635336148868\n",
      "iterative: 2470 objective 6.541454418948041\n",
      "iterative: 2480 objective 6.511471880859522\n",
      "iterative: 2490 objective 6.48168641793777\n",
      "iterative: 2500 objective 6.452096734808098\n",
      "iterative: 2510 objective 6.4227015446102875\n",
      "iterative: 2520 objective 6.393499568942648\n",
      "iterative: 2530 objective 6.36448953780649\n",
      "iterative: 2540 objective 6.3356701895506875\n",
      "iterative: 2550 objective 6.307040270817086\n",
      "iterative: 2560 objective 6.278598536485756\n",
      "iterative: 2570 objective 6.25034374962098\n",
      "iterative: 2580 objective 6.222274681417405\n",
      "iterative: 2590 objective 6.194390111146639\n",
      "iterative: 2600 objective 6.166688826104093\n",
      "iterative: 2610 objective 6.139169621556365\n",
      "iterative: 2620 objective 6.111831300688573\n",
      "iterative: 2630 objective 6.08467267455277\n",
      "iterative: 2640 objective 6.057692562015752\n",
      "iterative: 2650 objective 6.030889789707972\n",
      "iterative: 2660 objective 6.00426319197242\n",
      "iterative: 2670 objective 5.977811610814\n",
      "iterative: 2680 objective 5.951533895849031\n",
      "iterative: 2690 objective 5.925428904255378\n",
      "iterative: 2700 objective 5.899495500722622\n",
      "iterative: 2710 objective 5.873732557402816\n",
      "iterative: 2720 objective 5.848138953861244\n",
      "iterative: 2730 objective 5.822713577027929\n",
      "iterative: 2740 objective 5.797455321148902\n",
      "iterative: 2750 objective 5.772363087738539\n",
      "iterative: 2760 objective 5.7474357855314455\n",
      "iterative: 2770 objective 5.722672330435143\n",
      "iterative: 2780 objective 5.698071645482843\n",
      "iterative: 2790 objective 5.673632660786751\n",
      "iterative: 2800 objective 5.649354313491353\n",
      "iterative: 2810 objective 5.625235547727324\n",
      "iterative: 2820 objective 5.601275314565532\n",
      "iterative: 2830 objective 5.577472571971464\n",
      "iterative: 2840 objective 5.553826284759937\n",
      "iterative: 2850 objective 5.53033542455005\n",
      "iterative: 2860 objective 5.5069989697203585\n",
      "iterative: 2870 objective 5.483815905364621\n",
      "iterative: 2880 objective 5.460785223247537\n",
      "iterative: 2890 objective 5.437905921760953\n",
      "iterative: 2900 objective 5.415177005880211\n",
      "iterative: 2910 objective 5.392597487121063\n",
      "iterative: 2920 objective 5.3701663834964615\n",
      "iterative: 2930 objective 5.347882719474042\n",
      "iterative: 2940 objective 5.325745525933552\n",
      "iterative: 2950 objective 5.303753840124787\n",
      "iterative: 2960 objective 5.281906705625718\n",
      "iterative: 2970 objective 5.260203172300851\n",
      "iterative: 2980 objective 5.238642296259939\n",
      "iterative: 2990 objective 5.217223139816886\n",
      "iterative: 3000 objective 5.1959447714490805\n",
      "iterative: 3010 objective 5.174806265756752\n",
      "iterative: 3020 objective 5.153806703422816\n",
      "iterative: 3030 objective 5.132945171172795\n",
      "iterative: 3040 objective 5.112220761735249\n",
      "iterative: 3050 objective 5.0916325738021735\n",
      "iterative: 3060 objective 5.071179711989867\n",
      "iterative: 3070 objective 5.050861286799986\n",
      "iterative: 3080 objective 5.030676414580861\n",
      "iterative: 3090 objective 5.010624217489093\n",
      "iterative: 3100 objective 4.990703823451313\n",
      "iterative: 3110 objective 4.970914366126253\n",
      "iterative: 3120 objective 4.951254984867183\n",
      "iterative: 3130 objective 4.931724824684352\n",
      "iterative: 3140 objective 4.912323036207875\n",
      "iterative: 3150 objective 4.893048775650776\n",
      "iterative: 3160 objective 4.873901204772253\n",
      "iterative: 3170 objective 4.854879490841333\n",
      "iterative: 3180 objective 4.8359828066004615\n",
      "iterative: 3190 objective 4.817210330229755\n",
      "iterative: 3200 objective 4.798561245311122\n",
      "iterative: 3210 objective 4.780034740792782\n",
      "iterative: 3220 objective 4.761630010953976\n",
      "iterative: 3230 objective 4.74334625536997\n",
      "iterative: 3240 objective 4.725182678877224\n",
      "iterative: 3250 objective 4.707138491538806\n",
      "iterative: 3260 objective 4.689212908610002\n",
      "iterative: 3270 objective 4.671405150504253\n",
      "iterative: 3280 objective 4.6537144427592345\n",
      "iterative: 3290 objective 4.6361400160031065\n",
      "iterative: 3300 objective 4.618681105921205\n",
      "iterative: 3310 objective 4.601336953222601\n",
      "iterative: 3320 objective 4.5841068036072405\n",
      "iterative: 3330 objective 4.566989907733086\n",
      "iterative: 3340 objective 4.549985521183471\n",
      "iterative: 3350 objective 4.533092904434839\n",
      "iterative: 3360 objective 4.516311322824545\n",
      "iterative: 3370 objective 4.499640046518735\n",
      "iterative: 3380 objective 4.483078350480921\n",
      "iterative: 3390 objective 4.466625514440166\n",
      "iterative: 3400 objective 4.4502808228599475\n",
      "iterative: 3410 objective 4.434043564906923\n",
      "iterative: 3420 objective 4.417913034420039\n",
      "iterative: 3430 objective 4.401888529879876\n",
      "iterative: 3440 objective 4.385969354378074\n",
      "iterative: 3450 objective 4.370154815587066\n",
      "iterative: 3460 objective 4.354444225729942\n",
      "iterative: 3470 objective 4.338836901550561\n",
      "iterative: 3480 objective 4.323332164283844\n",
      "iterative: 3490 objective 4.3079293396261304\n",
      "iterative: 3500 objective 4.2926277577060805\n",
      "iterative: 3510 objective 4.277426753055418\n",
      "iterative: 3520 objective 4.262325664579894\n",
      "iterative: 3530 objective 4.247323835530664\n",
      "iterative: 3540 objective 4.232420613475694\n",
      "iterative: 3550 objective 4.217615350271435\n",
      "iterative: 3560 objective 4.202907402034509\n",
      "iterative: 3570 objective 4.188296129113836\n",
      "iterative: 3580 objective 4.173780896062721\n",
      "iterative: 3590 objective 4.159361071611356\n",
      "iterative: 3600 objective 4.14503602863909\n",
      "iterative: 3610 objective 4.130805144147482\n",
      "iterative: 3620 objective 4.116667799233052\n",
      "iterative: 3630 objective 4.102623379060262\n",
      "iterative: 3640 objective 4.088671272835004\n",
      "iterative: 3650 objective 4.074810873777876\n",
      "iterative: 3660 objective 4.061041579097819\n",
      "iterative: 3670 objective 4.047362789965949\n",
      "iterative: 3680 objective 4.03377391148944\n",
      "iterative: 3690 objective 4.020274352685745\n",
      "iterative: 3700 objective 4.006863526456825\n",
      "iterative: 3710 objective 3.993540849563632\n",
      "iterative: 3720 objective 3.980305742600709\n",
      "iterative: 3730 objective 3.967157629971099\n",
      "iterative: 3740 objective 3.954095939861203\n",
      "iterative: 3750 objective 3.9411201042159836\n",
      "iterative: 3760 objective 3.928229558714197\n",
      "iterative: 3770 objective 3.9154237427438594\n",
      "iterative: 3780 objective 3.902702099377947\n",
      "iterative: 3790 objective 3.8900640753500983\n",
      "iterative: 3800 objective 3.877509121030535\n",
      "iterative: 3810 objective 3.865036690402224\n",
      "iterative: 3820 objective 3.8526462410371085\n",
      "iterative: 3830 objective 3.8403372340725066\n",
      "iterative: 3840 objective 3.8281091341876525\n",
      "iterative: 3850 objective 3.815961409580476\n",
      "iterative: 3860 objective 3.803893531944399\n",
      "iterative: 3870 objective 3.7919049764454713\n",
      "iterative: 3880 objective 3.779995221699406\n",
      "iterative: 3890 objective 3.768163749749001\n",
      "iterative: 3900 objective 3.7564100460415917\n",
      "iterative: 3910 objective 3.744733599406667\n",
      "iterative: 3920 objective 3.733133902033634\n",
      "iterative: 3930 objective 3.721610449449725\n",
      "iterative: 3940 objective 3.710162740498127\n",
      "iterative: 3950 objective 3.6987902773160255\n",
      "iterative: 3960 objective 3.6874925653131743\n",
      "iterative: 3970 objective 3.6762691131501666\n",
      "iterative: 3980 objective 3.665119432717239\n",
      "iterative: 3990 objective 3.6540430391129415\n",
      "iterative: 4000 objective 3.6430394506230828\n",
      "iterative: 4010 objective 3.632108188699763\n",
      "iterative: 4020 objective 3.6212487779406444\n",
      "iterative: 4030 objective 3.6104607460681026\n",
      "iterative: 4040 objective 3.5997436239089273\n",
      "iterative: 4050 objective 3.589096945373627\n",
      "iterative: 4060 objective 3.578520247436438\n",
      "iterative: 4070 objective 3.568013070115034\n",
      "iterative: 4080 objective 3.557574956450451\n",
      "iterative: 4090 objective 3.54720545248749\n",
      "iterative: 4100 objective 3.536904107254655\n",
      "iterative: 4110 objective 3.526670472744792\n",
      "iterative: 4120 objective 3.5165041038954272\n",
      "iterative: 4130 objective 3.5064045585694714\n",
      "iterative: 4140 objective 3.4963713975360746\n",
      "iterative: 4150 objective 3.4864041844513665\n",
      "iterative: 4160 objective 3.4765024858396165\n",
      "iterative: 4170 objective 3.466665871074333\n",
      "iterative: 4180 objective 3.4568939123595017\n",
      "iterative: 4190 objective 3.447186184711006\n",
      "iterative: 4200 objective 3.4375422659382084\n",
      "iterative: 4210 objective 3.4279617366254587\n",
      "iterative: 4220 objective 3.418444180113954\n",
      "iterative: 4230 objective 3.4089891824835967\n",
      "iterative: 4240 objective 3.3995963325349656\n",
      "iterative: 4250 objective 3.390265221771496\n",
      "iterative: 4260 objective 3.3809954443816213\n",
      "iterative: 4270 objective 3.3717865972211754\n",
      "iterative: 4280 objective 3.362638279795889\n",
      "iterative: 4290 objective 3.353550094243959\n",
      "iterative: 4300 objective 3.3445216453186295\n",
      "iterative: 4310 objective 3.3355525403712223\n",
      "iterative: 4320 objective 3.326642389333832\n",
      "iterative: 4330 objective 3.3177908047025753\n",
      "iterative: 4340 objective 3.308997401520498\n",
      "iterative: 4350 objective 3.300261797361121\n",
      "iterative: 4360 objective 3.2915836123115465\n",
      "iterative: 4370 objective 3.2829624689560535\n",
      "iterative: 4380 objective 3.2743979923597135\n",
      "iterative: 4390 objective 3.265889810052031\n",
      "iterative: 4400 objective 3.2574375520107246\n",
      "iterative: 4410 objective 3.2490408506457262\n",
      "iterative: 4420 objective 3.240699340783081\n",
      "iterative: 4430 objective 3.232412659649187\n",
      "iterative: 4440 objective 3.2241804468548665\n",
      "iterative: 4450 objective 3.2160023443798407\n",
      "iterative: 4460 objective 3.207877996557102\n",
      "iterative: 4470 objective 3.199807050057392\n",
      "iterative: 4480 objective 3.191789153873917\n",
      "iterative: 4490 objective 3.1838239593070945\n",
      "iterative: 4500 objective 3.175911119949228\n",
      "iterative: 4510 objective 3.168050291669674\n",
      "iterative: 4520 objective 3.160241132599693\n",
      "iterative: 4530 objective 3.1524833031176556\n",
      "iterative: 4540 objective 3.144776465834327\n",
      "iterative: 4550 objective 3.137120285578039\n",
      "iterative: 4560 objective 3.129514429380233\n",
      "iterative: 4570 objective 3.12195856646099\n",
      "iterative: 4580 objective 3.1144523682145966\n",
      "iterative: 4590 objective 3.1069955081952294\n",
      "iterative: 4600 objective 3.099587662102823\n",
      "iterative: 4610 objective 3.092228507768913\n",
      "iterative: 4620 objective 3.0849177251427014\n",
      "iterative: 4630 objective 3.0776549962769857\n",
      "iterative: 4640 objective 3.0704400053145218\n",
      "iterative: 4650 objective 3.0632724384741765\n",
      "iterative: 4660 objective 3.05615198403726\n",
      "iterative: 4670 objective 3.04907833233405\n",
      "iterative: 4680 objective 3.042051175730224\n",
      "iterative: 4690 objective 3.0350702086136483\n",
      "iterative: 4700 objective 3.028135127380847\n",
      "iterative: 4710 objective 3.0212456304240183\n",
      "iterative: 4720 objective 3.014401418117793\n",
      "iterative: 4730 objective 3.0076021928062704\n",
      "iterative: 4740 objective 3.000847658789993\n",
      "iterative: 4750 objective 2.9941375223131677\n",
      "iterative: 4760 objective 2.9874714915508593\n",
      "iterative: 4770 objective 2.9808492765962695\n",
      "iterative: 4780 objective 2.9742705894482078\n",
      "iterative: 4790 objective 2.967735143998471\n",
      "iterative: 4800 objective 2.961242656019404\n",
      "iterative: 4810 objective 2.954792843151722\n",
      "iterative: 4820 objective 2.9483854248919616\n",
      "iterative: 4830 objective 2.9420201225804066\n",
      "iterative: 4840 objective 2.93569665938906\n",
      "iterative: 4850 objective 2.9294147603094265\n",
      "iterative: 4860 objective 2.9231741521407164\n",
      "iterative: 4870 objective 2.916974563477811\n",
      "iterative: 4880 objective 2.9108157246995945\n",
      "iterative: 4890 objective 2.904697367957128\n",
      "iterative: 4900 objective 2.8986192271621096\n",
      "iterative: 4910 objective 2.892581037975147\n",
      "iterative: 4920 objective 2.88658253779443\n",
      "iterative: 4930 objective 2.8806234657441814\n",
      "iterative: 4940 objective 2.8747035626633672\n",
      "iterative: 4950 objective 2.868822571094424\n",
      "iterative: 4960 objective 2.862980235272076\n",
      "iterative: 4970 objective 2.8571763011121383\n",
      "iterative: 4980 objective 2.851410516200613\n",
      "iterative: 4990 objective 2.845682629782485\n",
      "iterative: 5000 objective 2.8399923927510997\n",
      "iterative: 5010 objective 2.8343395576370742\n",
      "iterative: 5020 objective 2.828723878597652\n",
      "iterative: 5030 objective 2.8231451114060855\n",
      "iterative: 5040 objective 2.8176030134408085\n",
      "iterative: 5050 objective 2.812097343675097\n",
      "iterative: 5060 objective 2.8066278626664825\n",
      "iterative: 5070 objective 2.801194332546294\n",
      "iterative: 5080 objective 2.7957965170094194\n",
      "iterative: 5090 objective 2.79043418130397\n",
      "iterative: 5100 objective 2.7851070922210606\n",
      "iterative: 5110 objective 2.779815018084745\n",
      "iterative: 5120 objective 2.7745577287418235\n",
      "iterative: 5130 objective 2.769334995551954\n",
      "iterative: 5140 objective 2.764146591377534\n",
      "iterative: 5150 objective 2.7589922905740574\n",
      "iterative: 5160 objective 2.7538718689801214\n",
      "iterative: 5170 objective 2.7487851039077613\n",
      "iterative: 5180 objective 2.7437317741326854\n",
      "iterative: 5190 objective 2.7387116598847645\n",
      "iterative: 5200 objective 2.7337245428384027\n",
      "iterative: 5210 objective 2.728770206103068\n",
      "iterative: 5220 objective 2.723848434213835\n",
      "iterative: 5230 objective 2.7189590131220083\n",
      "iterative: 5240 objective 2.7141017301858854\n",
      "iterative: 5250 objective 2.709276374161426\n",
      "iterative: 5260 objective 2.704482735193069\n",
      "iterative: 5270 objective 2.6997206048046793\n",
      "iterative: 5280 objective 2.694989775890429\n",
      "iterative: 5290 objective 2.690290042705806\n",
      "iterative: 5300 objective 2.6856212008585922\n",
      "iterative: 5310 objective 2.680983047300122\n",
      "iterative: 5320 objective 2.676375380316298\n",
      "iterative: 5330 objective 2.6717979995189487\n",
      "iterative: 5340 objective 2.6672507058370285\n",
      "iterative: 5350 objective 2.6627333015079797\n",
      "iterative: 5360 objective 2.658245590069111\n",
      "iterative: 5370 objective 2.6537873763491184\n",
      "iterative: 5380 objective 2.6493584664596304\n",
      "iterative: 5390 objective 2.644958667786515\n",
      "iterative: 5400 objective 2.640587788981865\n",
      "iterative: 5410 objective 2.636245639955399\n",
      "iterative: 5420 objective 2.6319320318663966\n",
      "iterative: 5430 objective 2.627646777115266\n",
      "iterative: 5440 objective 2.623389689335605\n",
      "iterative: 5450 objective 2.619160583385969\n",
      "iterative: 5460 objective 2.614959275341824\n",
      "iterative: 5470 objective 2.6107855824875776\n",
      "iterative: 5480 objective 2.6066393233086727\n",
      "iterative: 5490 objective 2.602520317483592\n",
      "iterative: 5500 objective 2.598428385876087\n",
      "iterative: 5510 objective 2.5943633505274057\n",
      "iterative: 5520 objective 2.5903250346484343\n",
      "iterative: 5530 objective 2.586313262612191\n",
      "iterative: 5540 objective 2.582327859946065\n",
      "iterative: 5550 objective 2.5783686533241905\n",
      "iterative: 5560 objective 2.5744354705600334\n",
      "iterative: 5570 objective 2.5705281405988263\n",
      "iterative: 5580 objective 2.566646493510158\n",
      "iterative: 5590 objective 2.5627903604805375\n",
      "iterative: 5600 objective 2.5589595738060926\n",
      "iterative: 5610 objective 2.555153966885323\n",
      "iterative: 5620 objective 2.551373374211706\n",
      "iterative: 5630 objective 2.547617631366652\n",
      "iterative: 5640 objective 2.5438865750123054\n",
      "iterative: 5650 objective 2.5401800428844106\n",
      "iterative: 5660 objective 2.5364978737852404\n",
      "iterative: 5670 objective 2.532839907576687\n",
      "iterative: 5680 objective 2.529205985173145\n",
      "iterative: 5690 objective 2.525595948534794\n",
      "iterative: 5700 objective 2.522009640660509\n",
      "iterative: 5710 objective 2.518446905581164\n",
      "iterative: 5720 objective 2.5149075883528407\n",
      "iterative: 5730 objective 2.5113915350500453\n",
      "iterative: 5740 objective 2.5078985927590236\n",
      "iterative: 5750 objective 2.504428609571149\n",
      "iterative: 5760 objective 2.5009814345762735\n",
      "iterative: 5770 objective 2.4975569178561994\n",
      "iterative: 5780 objective 2.494154910478103\n",
      "iterative: 5790 objective 2.490775264488151\n",
      "iterative: 5800 objective 2.4874178329049697\n",
      "iterative: 5810 objective 2.484082469713318\n",
      "iterative: 5820 objective 2.4807690298576675\n",
      "iterative: 5830 objective 2.477477369235997\n",
      "iterative: 5840 objective 2.4742073446934305\n",
      "iterative: 5850 objective 2.4709588140160688\n",
      "iterative: 5860 objective 2.4677316359247823\n",
      "iterative: 5870 objective 2.4645256700690323\n",
      "iterative: 5880 objective 2.461340777020867\n",
      "iterative: 5890 objective 2.458176818268751\n",
      "iterative: 5900 objective 2.455033656211578\n",
      "iterative: 5910 objective 2.4519111541527687\n",
      "iterative: 5920 objective 2.4488091762941036\n",
      "iterative: 5930 objective 2.445727587730133\n",
      "iterative: 5940 objective 2.4426662544420075\n",
      "iterative: 5950 objective 2.4396250432918736\n",
      "iterative: 5960 objective 2.436603822016944\n",
      "iterative: 5970 objective 2.4336024592237937\n",
      "iterative: 5980 objective 2.430620824382669\n",
      "iterative: 5990 objective 2.4276587878217764\n",
      "iterative: 6000 objective 2.42471622072166\n",
      "iterative: 6010 objective 2.421792995109596\n",
      "iterative: 6020 objective 2.418888983854016\n",
      "iterative: 6030 objective 2.4160040606589677\n",
      "iterative: 6040 objective 2.413138100058698\n",
      "iterative: 6050 objective 2.410290977412088\n",
      "iterative: 6060 objective 2.4074625688973037\n",
      "iterative: 6070 objective 2.4046527515063985\n",
      "iterative: 6080 objective 2.401861403039955\n",
      "iterative: 6090 objective 2.3990884021017442\n",
      "iterative: 6100 objective 2.3963336280935383\n",
      "iterative: 6110 objective 2.3935969612097203\n",
      "iterative: 6120 objective 2.3908782824322072\n",
      "iterative: 6130 objective 2.3881774735252286\n",
      "iterative: 6140 objective 2.385494417030136\n",
      "iterative: 6150 objective 2.382828996260366\n",
      "iterative: 6160 objective 2.3801810952963223\n",
      "iterative: 6170 objective 2.3775505989803762\n",
      "iterative: 6180 objective 2.3749373929117836\n",
      "iterative: 6190 objective 2.3723413634417923\n",
      "iterative: 6200 objective 2.3697623976686617\n",
      "iterative: 6210 objective 2.367200383432742\n",
      "iterative: 6220 objective 2.3646552093115827\n",
      "iterative: 6230 objective 2.3621267646151596\n",
      "iterative: 6240 objective 2.359614939381001\n",
      "iterative: 6250 objective 2.3571196243694126\n",
      "iterative: 6260 objective 2.354640711058721\n",
      "iterative: 6270 objective 2.3521780916405923\n",
      "iterative: 6280 objective 2.3497316590152852\n",
      "iterative: 6290 objective 2.3473013067870467\n",
      "iterative: 6300 objective 2.3448869292594643\n",
      "iterative: 6310 objective 2.342488421430849\n",
      "iterative: 6320 objective 2.3401056789897074\n",
      "iterative: 6330 objective 2.3377385983101746\n",
      "iterative: 6340 objective 2.33538707644752\n",
      "iterative: 6350 objective 2.3330510111336706\n",
      "iterative: 6360 objective 2.330730300772764\n",
      "iterative: 6370 objective 2.328424844436718\n",
      "iterative: 6380 objective 2.326134541860855\n",
      "iterative: 6390 objective 2.3238592934395395\n",
      "iterative: 6400 objective 2.3215990002218327\n",
      "iterative: 6410 objective 2.3193535639072227\n",
      "iterative: 6420 objective 2.3171228868413136\n",
      "iterative: 6430 objective 2.3149068720115755\n",
      "iterative: 6440 objective 2.3127054230431754\n",
      "iterative: 6450 objective 2.310518444194723\n",
      "iterative: 6460 objective 2.308345840354152\n",
      "iterative: 6470 objective 2.3061875170345605\n",
      "iterative: 6480 objective 2.3040433803701106\n",
      "iterative: 6490 objective 2.301913337111948\n",
      "iterative: 6500 objective 2.299797294624138\n",
      "iterative: 6510 objective 2.297695160879643\n",
      "iterative: 6520 objective 2.2956068444563176\n",
      "iterative: 6530 objective 2.2935322545329373\n",
      "iterative: 6540 objective 2.291471300885243\n",
      "iterative: 6550 objective 2.2894238938820126\n",
      "iterative: 6560 objective 2.2873899444811903\n",
      "iterative: 6570 objective 2.2853693642259767\n",
      "iterative: 6580 objective 2.2833620652409983\n",
      "iterative: 6590 objective 2.2813679602284944\n"
     ]
    },
    {
     "name": "stdout",
     "output_type": "stream",
     "text": [
      "iterative: 6600 objective 2.2793869624645176\n",
      "iterative: 6610 objective 2.277418985795114\n",
      "iterative: 6620 objective 2.2754639446326963\n",
      "iterative: 6630 objective 2.2735217539521773\n",
      "iterative: 6640 objective 2.2715923292873628\n",
      "iterative: 6650 objective 2.2696755867272684\n",
      "iterative: 6660 objective 2.2677714429124407\n",
      "iterative: 6670 objective 2.265879815031338\n",
      "iterative: 6680 objective 2.2640006208167662\n",
      "iterative: 6690 objective 2.262133778542253\n",
      "iterative: 6700 objective 2.2602792070185025\n",
      "iterative: 6710 objective 2.2584368255899196\n",
      "iterative: 6720 objective 2.256606554131021\n",
      "iterative: 6730 objective 2.254788313042985\n",
      "iterative: 6740 objective 2.2529820232502416\n",
      "iterative: 6750 objective 2.2511876061969116\n",
      "iterative: 6760 objective 2.2494049838435206\n",
      "iterative: 6770 objective 2.2476340786635305\n",
      "iterative: 6780 objective 2.245874813639969\n",
      "iterative: 6790 objective 2.2441271122621176\n",
      "iterative: 6800 objective 2.242390898522151\n",
      "iterative: 6810 objective 2.2406660969118497\n",
      "iterative: 6820 objective 2.23895263241932\n",
      "iterative: 6830 objective 2.23725043052568\n",
      "iterative: 6840 objective 2.23555941720191\n",
      "iterative: 6850 objective 2.2338795189055527\n",
      "iterative: 6860 objective 2.2322106625775513\n",
      "iterative: 6870 objective 2.2305527756390804\n",
      "iterative: 6880 objective 2.2289057859883408\n",
      "iterative: 6890 objective 2.227269621997508\n",
      "iterative: 6900 objective 2.2256442125095144\n",
      "iterative: 6910 objective 2.2240294868350516\n",
      "iterative: 6920 objective 2.2224253747494336\n",
      "iterative: 6930 objective 2.2208318064895454\n",
      "iterative: 6940 objective 2.219248712750858\n",
      "iterative: 6950 objective 2.2176760246843417\n",
      "iterative: 6960 objective 2.2161136738935454\n",
      "iterative: 6970 objective 2.214561592431579\n",
      "iterative: 6980 objective 2.21301971279816\n",
      "iterative: 6990 objective 2.211487967936684\n",
      "iterative: 7000 objective 2.209966291231316\n",
      "iterative: 7010 objective 2.208454616504092\n",
      "iterative: 7020 objective 2.2069528780120082\n",
      "iterative: 7030 objective 2.2054610104442403\n",
      "iterative: 7040 objective 2.2039789489191906\n",
      "iterative: 7050 objective 2.202506628981794\n",
      "iterative: 7060 objective 2.2010439866005798\n",
      "iterative: 7070 objective 2.199590958164999\n",
      "iterative: 7080 objective 2.198147480482605\n",
      "iterative: 7090 objective 2.1967134907763226\n",
      "iterative: 7100 objective 2.1952889266816937\n",
      "iterative: 7110 objective 2.1938737262442056\n",
      "iterative: 7120 objective 2.1924678279165284\n",
      "iterative: 7130 objective 2.1910711705559356\n",
      "iterative: 7140 objective 2.1896836934215687\n",
      "iterative: 7150 objective 2.1883053361718043\n",
      "iterative: 7160 objective 2.1869360388616674\n",
      "iterative: 7170 objective 2.185575741940185\n",
      "iterative: 7180 objective 2.184224386247827\n",
      "iterative: 7190 objective 2.182881913013905\n",
      "iterative: 7200 objective 2.1815482638540376\n",
      "iterative: 7210 objective 2.180223380767609\n",
      "iterative: 7220 objective 2.1789072061352246\n",
      "iterative: 7230 objective 2.1775996827162363\n",
      "iterative: 7240 objective 2.176300753646233\n",
      "iterative: 7250 objective 2.175010362434577\n",
      "iterative: 7260 objective 2.173728452961947\n",
      "iterative: 7270 objective 2.1724549694778763\n",
      "iterative: 7280 objective 2.171189856598368\n",
      "iterative: 7290 objective 2.169933059303446\n",
      "iterative: 7300 objective 2.1686845229348\n",
      "iterative: 7310 objective 2.1674441931933677\n",
      "iterative: 7320 objective 2.1662120161370026\n",
      "iterative: 7330 objective 2.1649879381781343\n",
      "iterative: 7340 objective 2.163771906081387\n",
      "iterative: 7350 objective 2.162563866961348\n",
      "iterative: 7360 objective 2.1613637682801854\n",
      "iterative: 7370 objective 2.160171557845394\n",
      "iterative: 7380 objective 2.1589871838075703\n",
      "iterative: 7390 objective 2.1578105946580832\n",
      "iterative: 7400 objective 2.1566417392268735\n",
      "iterative: 7410 objective 2.1554805666802244\n",
      "iterative: 7420 objective 2.1543270265185663\n",
      "iterative: 7430 objective 2.1531810685742183\n",
      "iterative: 7440 objective 2.1520426430093034\n",
      "iterative: 7450 objective 2.1509117003134897\n",
      "iterative: 7460 objective 2.1497881913019006\n",
      "iterative: 7470 objective 2.1486720671129387\n",
      "iterative: 7480 objective 2.1475632792061834\n",
      "iterative: 7490 objective 2.146461779360274\n",
      "iterative: 7500 objective 2.1453675196707915\n",
      "iterative: 7510 objective 2.1442804525482\n",
      "iterative: 7520 objective 2.1432005307157707\n",
      "iterative: 7530 objective 2.1421277072075284\n",
      "iterative: 7540 objective 2.141061935366191\n",
      "iterative: 7550 objective 2.1400031688411802\n",
      "iterative: 7560 objective 2.1389513615865536\n",
      "iterative: 7570 objective 2.1379064678590476\n",
      "iterative: 7580 objective 2.1368684422160547\n",
      "iterative: 7590 objective 2.1358372395136733\n",
      "iterative: 7600 objective 2.134812814904726\n",
      "iterative: 7610 objective 2.133795123836817\n",
      "iterative: 7620 objective 2.132784122050395\n",
      "iterative: 7630 objective 2.1317797655768187\n",
      "iterative: 7640 objective 2.1307820107364734\n",
      "final m= -0.015084249153162945\n",
      "final c= 33.01051337740988\n"
     ]
    },
    {
     "data": {
      "text/plain": [
       "[<matplotlib.lines.Line2D at 0x11bbef5c0>]"
      ]
     },
     "execution_count": 13,
     "metadata": {},
     "output_type": "execute_result"
    },
    {
     "data": {
      "image/png": "[encoded data removed]",
      "text/plain": [
       "<Figure size 432x288 with 1 Axes>"
      ]
     },
     "metadata": {
      "needs_background": "light"
     },
     "output_type": "display_data"
    }
   ],
   "source": [
    "# Question 3 Answer Code\n",
    "# Write code for you answer to this question in this box\n",
    "m=-0.4\n",
    "c=80\n",
    "diff=1\n",
    "ite=0\n",
    "f = m*x + c\n",
    "obj = ((y-f)**2).sum()\n",
    "while(diff>=0.0001):\n",
    "    for i in np.arange(10):\n",
    "        old_obj=obj\n",
    "        m = ((y - c)*x).sum()/(x*x).sum()\n",
    "        c = (y-m*x).sum()/y.shape[0]\n",
    "        f = m*x + c\n",
    "        obj = ((y-f)**2).sum()\n",
    "        ite+=1\n",
    "    diff=old_obj-obj\n",
    "    print(\"iterative:\",ite,\"objective\",obj)\n",
    "print(\"final m=\",m)\n",
    "print(\"final c=\",c)\n",
    "\n",
    "f_test = m*x_test + c\n",
    "plt.plot(x_test, f_test, 'b-')\n",
    "plt.plot(x, y, 'rx')"
   ]
  },
  {
   "cell_type": "markdown",
   "metadata": {},
   "source": [
    "#### Question 3 Answer Here\n",
    "\n",
    "Write your answer to the question in this box."
   ]
  },
  {
   "cell_type": "markdown",
   "metadata": {},
   "source": [
    "## Multiple Input Solution with Linear Algebra\n",
    "\n",
    "You've now seen how slow it can be to perform a coordinate ascent on a system. Another approach to solving the system (which is not always possible, particularly in *non-linear* systems) is to go directly to the minimum. To do this we need to introduce *linear algebra*. We will represent all our errors and functions in the form of linear algebra. \n",
    "\n",
    "As we mentioned above, linear algebra is just a shorthand for performing lots of multiplications and additions simultaneously. What does it have to do with our system then? Well the first thing to note is that the linear function we were trying to fit has the following form:\n",
    "$$\n",
    "f(x) = mx + c\n",
    "$$\n",
    "the classical form for a straight line. From a linear algebraic perspective we are looking for multiplications and additions. We are also looking to separate our parameters from our data. The data is the *givens* remember, in French the word is données literally translated means *givens* that's great, because we don't need to change the data, what we need to change are the parameters (or variables) of the model. In this function the data comes in through $x$, and the parameters are $m$ and $c$. \n",
    "\n",
    "What we'd like to create is a vector of parameters and a vector of data. Then we could represent the system with vectors that represent the data, and vectors that represent the parameters. \n",
    "\n",
    "We look to turn the multiplications and additions into a linear algebraic form, we have one multiplication ($m\\times c$) and one addition ($mx + c$). But we can turn this into a inner product by writing it in the following way,\n",
    "$$\n",
    "f(x) = m \\times x + c \\times 1,\n",
    "$$\n",
    "in other words we've extracted the unit value, from the offset, $c$. We can think of this unit value like an extra item of data, because it is always given to us, and it is always set to 1 (unlike regular data, which is likely to vary!). We can therefore write each input data location, $\\mathbf{x}$, as a vector\n",
    "$$\n",
    "\\mathbf{x} = \\begin{bmatrix} 1\\\\ x\\end{bmatrix}.\n",
    "$$\n",
    "\n",
    "Now we choose to also turn our parameters into a vector. The parameter vector will be defined to contain \n",
    "$$\n",
    "\\mathbf{w} = \\begin{bmatrix} c \\\\ m\\end{bmatrix}\n",
    "$$\n",
    "because if we now take the inner product between these to vectors we recover\n",
    "$$\n",
    "\\mathbf{x}\\cdot\\mathbf{w} = 1 \\times c + x \\times m = mx + c\n",
    "$$\n",
    "In `numpy` we can define this vector as follows"
   ]
  },
  {
   "cell_type": "code",
   "execution_count": 25,
   "metadata": {},
   "outputs": [
    {
     "name": "stdout",
     "output_type": "stream",
     "text": [
      "[[ 3.30105134e+01]\n",
      " [-1.50842492e-02]]\n"
     ]
    }
   ],
   "source": [
    "# define the vector w\n",
    "w = np.zeros(shape=(2, 1))\n",
    "w[0] = c\n",
    "w[1] = m\n",
    "print(w)"
   ]
  },
  {
   "cell_type": "markdown",
   "metadata": {},
   "source": [
    "This gives us the equivalence between original operation and an operation in vector space. Whilst the notation here isn't a lot shorter, the beauty is that we will be able to add as many features as we like and still keep the same representation. In general, we are now moving to a system where each of our predictions is given by an inner product. When we want to represent a linear product in linear algebra, we tend to do it with the transpose operation, so since we have $\\mathbf{a}\\cdot\\mathbf{b} = \\mathbf{a}^\\top\\mathbf{b}$ we can write\n",
    "$$\n",
    "f(\\mathbf{x}_i) = \\mathbf{x}_i^\\top\\mathbf{w}.\n",
    "$$\n",
    "Where we've assumed that each data point, $\\mathbf{x}_i$, is now written by appending a 1 onto the original vector\n",
    "$$\n",
    "\\mathbf{x}_i = \n",
    "\\begin{bmatrix} \n",
    "1 \\\\\n",
    "x_i\n",
    "\\end{bmatrix}\n",
    "$$\n",
    "\n",
    "## Design Matrix\n",
    "\n",
    "We can do this for the entire data set to form a [*design matrix*](http://en.wikipedia.org/wiki/Design_matrix) $\\mathbf{X}$,\n",
    "\n",
    "$$\\mathbf{X} = \\begin{bmatrix} \n",
    "\\mathbf{x}_1^\\top \\\\\\ \n",
    "\\mathbf{x}_2^\\top \\\\\\ \n",
    "\\vdots \\\\\\\n",
    "\\mathbf{x}_n^\\top\n",
    "\\end{bmatrix} = \\begin{bmatrix}\n",
    "1 & x_1 \\\\\\\n",
    "1 & x_2 \\\\\\\n",
    "\\vdots & \\vdots \\\\\\\n",
    "1 & x_n \n",
    "\\end{bmatrix},$$\n",
    "\n",
    "which in `numpy` can be done with the following commands:"
   ]
  },
  {
   "cell_type": "code",
   "execution_count": 21,
   "metadata": {},
   "outputs": [
    {
     "name": "stdout",
     "output_type": "stream",
     "text": [
      "[[   1 1896]\n",
      " [   1 1900]\n",
      " [   1 1904]\n",
      " [   1 1908]\n",
      " [   1 1912]\n",
      " [   1 1920]\n",
      " [   1 1924]\n",
      " [   1 1928]\n",
      " [   1 1932]\n",
      " [   1 1936]\n",
      " [   1 1948]\n",
      " [   1 1952]\n",
      " [   1 1956]\n",
      " [   1 1960]\n",
      " [   1 1964]\n",
      " [   1 1968]\n",
      " [   1 1972]\n",
      " [   1 1976]\n",
      " [   1 1980]\n",
      " [   1 1984]\n",
      " [   1 1988]\n",
      " [   1 1992]\n",
      " [   1 1996]\n",
      " [   1 2000]\n",
      " [   1 2004]\n",
      " [   1 2008]\n",
      " [   1 2012]]\n"
     ]
    }
   ],
   "source": [
    "X = np.hstack((np.ones_like(x), x))\n",
    "print(X)"
   ]
  },
  {
   "cell_type": "markdown",
   "metadata": {},
   "source": [
    "### Writing the Objective with Linear Algebra\n",
    "\n",
    "When we think of the objective function, we can think of it as the errors where the error is defined in a similar way to what it was in Legendre's day $y_i - f(\\mathbf{x}_i)$, in statistics these errors are also sometimes called [*residuals*](http://en.wikipedia.org/wiki/Errors_and_residuals_in_statistics). So we can think as the objective and the prediction function as two separate parts, first we have,\n",
    "$$\n",
    "E(\\mathbf{w}) = \\sum_{i=1}^n (y_i - f(\\mathbf{x}_i; \\mathbf{w}))^2,\n",
    "$$\n",
    "where we've made the function $f(\\cdot)$'s dependence on the parameters $\\mathbf{w}$ explicit in this equation. Then we have the definition of the function itself,\n",
    "$$\n",
    "f(\\mathbf{x}_i; \\mathbf{w}) = \\mathbf{x}_i^\\top \\mathbf{w}.\n",
    "$$\n",
    "Let's look again at these two equations and see if we can identify any inner products. The first equation is a sum of squares, which is promising. Any sum of squares can be represented by an inner product,\n",
    "$$\n",
    "a = \\sum_{i=1}^{k} b^2_i = \\mathbf{b}^\\top\\mathbf{b},\n",
    "$$\n",
    "so if we wish to represent $E(\\mathbf{w})$ in this way, all we need to do is convert the sum operator to an inner product. We can get a vector from that sum operator by placing both $y_i$ and $f(\\mathbf{x}_i; \\mathbf{w})$ into vectors, which we do by defining \n",
    "$$\n",
    "\\mathbf{y} = \\begin{bmatrix}y_1\\\\y_2\\\\ \\vdots \\\\ y_n\\end{bmatrix}\n",
    "$$\n",
    "and defining\n",
    "$$\n",
    "\\mathbf{f}(\\mathbf{X}; \\mathbf{w}) = \\begin{bmatrix}f(\\mathbf{x}_1; \\mathbf{w})\\\\f(\\mathbf{x}_2; \\mathbf{w})\\\\ \\vdots \\\\ f(\\mathbf{x}_n; \\mathbf{w})\\end{bmatrix}.\n",
    "$$\n",
    "The second of these is actually a vector-valued function. This term may appear intimidating, but the idea is straightforward. A vector valued function is simply a vector whose elements are themselves defined as *functions*, i.e. it is a vector of functions, rather than a vector of scalars. The idea is so straightforward, that we are going to ignore it for the moment, and barely use it in the derivation. But it will reappear later when we introduce *basis functions*. So we will, for the moment, ignore the dependence of $\\mathbf{f}$ on $\\mathbf{w}$ and $\\mathbf{X}$ and simply summarise it by a vector of numbers\n",
    "$$\n",
    "\\mathbf{f} = \\begin{bmatrix}f_1\\\\f_2\\\\ \\vdots \\\\ f_n\\end{bmatrix}.\n",
    "$$\n",
    "This allows us to write our objective in the folowing, linear algebraic form,\n",
    "$$\n",
    "E(\\mathbf{w}) = (\\mathbf{y} - \\mathbf{f})^\\top(\\mathbf{y} - \\mathbf{f})\n",
    "$$\n",
    "from the rules of inner products.\n",
    "\n",
    "But what of our matrix $\\mathbf{X}$ of input data? At this point, we need to dust off [*matrix-vector multiplication*](http://en.wikipedia.org/wiki/Matrix_multiplication). Matrix multiplication is simply a convenient way of performing many inner products together, and it's exactly what we need to summarise the operation\n",
    "$$\n",
    "f_i = \\mathbf{x}_i^\\top\\mathbf{w}.\n",
    "$$\n",
    "This operation tells us that each element of the vector $\\mathbf{f}$ (our vector valued function) is given by an inner product between $\\mathbf{x}_i$ and $\\mathbf{w}$. In other words it is a series of inner products. Let's look at the definition of matrix multiplication, it takes the form\n",
    "$$\n",
    "\\mathbf{c} = \\mathbf{B}\\mathbf{a}\n",
    "$$\n",
    "where $\\mathbf{c}$ might be a $k$ dimensional vector (which we can intepret as a $k\\times 1$ dimensional matrix), and $\\mathbf{B}$ is a $k\\times k$ dimensional matrix and $\\mathbf{a}$ is a $k$ dimensional vector ($k\\times 1$ dimensional matrix). \n",
    "\n",
    "The result of this multiplication is of the form\n",
    "$$\n",
    "\\begin{bmatrix}c_1\\\\c_2 \\\\ \\vdots \\\\ a_k\\end{bmatrix} = \n",
    "\\begin{bmatrix} b_{1,1} & b_{1, 2} & \\dots & b_{1, k} \\\\\n",
    "b_{2, 1} & b_{2, 2} & \\dots & b_{2, k} \\\\\n",
    "\\vdots & \\vdots & \\ddots & \\vdots \\\\\n",
    "b_{k, 1} & b_{k, 2} & \\dots & b_{k, k} \\end{bmatrix} \\begin{bmatrix}a_1\\\\a_2 \\\\ \\vdots\\\\ c_k\\end{bmatrix} = \\begin{bmatrix} b_{1, 1}a_1 + b_{1, 2}a_2 + \\dots + b_{1, k}a_k\\\\\n",
    "b_{2, 1}a_1 + b_{2, 2}a_2 + \\dots + b_{2, k}a_k \\\\ \n",
    "\\vdots\\\\ \n",
    "b_{k, 1}a_1 + b_{k, 2}a_2 + \\dots + b_{k, k}a_k\\end{bmatrix}\n",
    "$$\n",
    "so we see that each element of the result, $\\mathbf{a}$ is simply the inner product between each *row* of $\\mathbf{B}$ and the vector $\\mathbf{c}$. Because we have defined each element of $\\mathbf{f}$ to be given by the inner product between each *row* of the design matrix and the vector $\\mathbf{w}$ we now can write the full operation in one matrix multiplication,\n",
    "$$\n",
    "\\mathbf{f} = \\mathbf{X}\\mathbf{w}.\n",
    "$$"
   ]
  },
  {
   "cell_type": "code",
   "execution_count": 26,
   "metadata": {},
   "outputs": [],
   "source": [
    "f = np.dot(X, w) # np.dot does matrix multiplication in python"
   ]
  },
  {
   "cell_type": "markdown",
   "metadata": {},
   "source": [
    "Combining this result with our objective function,\n",
    "$$\n",
    "E(\\mathbf{w}) = (\\mathbf{y} - \\mathbf{f})^\\top(\\mathbf{y} - \\mathbf{f})\n",
    "$$\n",
    "we find we have defined the *model* with two equations. One equation tells us the form of our predictive function and how it depends on its parameters, the other tells us the form of our objective function."
   ]
  },
  {
   "cell_type": "code",
   "execution_count": 27,
   "metadata": {},
   "outputs": [
    {
     "name": "stdout",
     "output_type": "stream",
     "text": [
      "Error function is: [[2.13078201]]\n"
     ]
    }
   ],
   "source": [
    "resid = (y-f)\n",
    "E = np.dot(resid.T, resid) # matrix multiplication on a single vector is equivalent to a dot product.\n",
    "print(\"Error function is:\", E)"
   ]
  },
  {
   "cell_type": "markdown",
   "metadata": {},
   "source": [
    "## Objective Optimisation\n",
    "\n",
    "Our *model* has now been defined with two equations, the prediction function and the objective function. Next we will use multivariate calculus to define an *algorithm* to fit the model. The separation between model and algorithm is important and is often overlooked. Our model contains a function that shows how it will be used for prediction, and a function that describes the objective function we need to optimise to obtain a good set of parameters. \n",
    "\n",
    "The linear regression model we have described is still the same as the one we fitted above with a coordinate ascent algorithm. We have only played with the notation to obtain the same model in a matrix and vector notation. However, we will now fit this model with a different algorithm, one that is much faster. It is such a widely used algorithm that from the end user's perspective it doesn't even look like an algorithm, it just appears to be a single operation (or function). However, underneath the computer calls an algorithm to find the solution. Further, the algorithm we obtain is very widely used, and because of this it turns out to be highly optimised.\n",
    "\n",
    "Once again we are going to try and find the stationary points of our objective by finding the *stationary points*. However, the stationary points of a multivariate function, are a little bit more complext to find. Once again we need to find the point at which the derivative is zero, but now we need to use  *multivariate calculus* to find it. This involves learning a few additional rules of differentiation (that allow you to do the derivatives of a function with respect to  vector), but in the end it makes things quite a bit easier. We define vectorial derivatives as follows,\n",
    "$$\n",
    "\\frac{\\text{d}E(\\mathbf{w})}{\\text{d}\\mathbf{w}} = \\begin{bmatrix}\\frac{\\partial E(\\mathbf{w})}{\\partial w_1}\\\\\\frac{\\partial E(\\mathbf{w})}{\\partial w_2}\\end{bmatrix}.\n",
    "$$\n",
    "where $\\frac{\\partial E(\\mathbf{w})}{\\partial w_1}$ is the [partial derivative](http://en.wikipedia.org/wiki/Partial_derivative) of the error function with respect to $w_1$.\n",
    "\n",
    "Differentiation through multiplications and additions is relatively straightforward, and since linear algebra is just multiplication and addition, then its rules of diffentiation are quite straightforward too, but slightly more complex than regular derivatives. \n",
    "\n",
    "### Matrix Differentiation\n",
    "\n",
    "We will need two rules of differentiation. The first is diffentiation of an inner product. By remebering that the inner product is made up of multiplication and addition, we can hope that its derivative is quite straightforward, and so it proves to be. We can start by thinking about the definition of the inner product,\n",
    "$$\n",
    "\\mathbf{a}^\\top\\mathbf{z} = \\sum_{i} a_i z_i,\n",
    "$$\n",
    "which if we were to take the derivative with respect to $z_k$ would simply return the gradient of the one term in the sum for which the derivative was non zero, that of $a_k$, so we know that \n",
    "$$\n",
    "\\frac{\\text{d}}{\\text{d}z_k} \\mathbf{a}^\\top \\mathbf{z} = a_k\n",
    "$$\n",
    "and by our definition of multivariate derivatives we can simply stack all the partial derivatives of this form in a vector to obtain the result that\n",
    "$$\n",
    "\\frac{\\text{d}}{\\text{d}\\mathbf{z}} \\mathbf{a}^\\top \\mathbf{z} = \\mathbf{a}.\n",
    "$$\n",
    "The second rule that's required is differentiation of a 'matrix quadratic'. A scalar quadratic in $z$ with coefficient $c$ has the form $cz^2$. If $\\mathbf{z}$ is a $k\\times 1$ vector and $\\mathbf{C}$ is a $k \\times k$ *matrix* of coefficients then the matrix quadratic form is written as $\\mathbf{z}^\\top \\mathbf{C}\\mathbf{z}$, which is itself a *scalar* quantity, but it is a function of a *vector*. \n",
    "\n",
    "#### Matching Dimensions in Matrix Multiplications\n",
    "\n",
    "There's a trick for telling that it's a scalar result. When you are doing maths with matrices, it's always worth pausing to perform a quick sanity check on the dimensions. Matrix multplication only works when the dimensions match. To be precise, the 'inner' dimension of the matrix must match. What is the inner dimension. If we multiply two matrices $\\mathbf{A}$ and $\\mathbf{B}$, the first of which has $k$ rows and $\\ell$ columns and the second of which has $p$ rows and $q$ columns, then we can check whether the multiplication works by writing the dimensionalities next to each other,\n",
    "$$\n",
    "\\mathbf{A} \\mathbf{B} \\rightarrow (k \\times \\underbrace{\\ell)(p}_\\text{inner dimensions} \\times q) \\rightarrow (k\\times q).\n",
    "$$\n",
    "The inner dimensions are the two inside dimensions, $\\ell$ and $p$. The multiplication will only work if $\\ell=p$. The result of the multiplication will then be a $k\\times q$ matrix: this dimensionality comes from the 'outer dimensions'. Note that matrix multiplication is not [*commutative*](http://en.wikipedia.org/wiki/Commutative_property). And if you change the order of the multiplication, \n",
    "$$\n",
    "\\mathbf{B} \\mathbf{A} \\rightarrow (\\ell \\times \\underbrace{k)(q}_\\text{inner dimensions} \\times p) \\rightarrow (\\ell \\times p).\n",
    "$$\n",
    "firstly it may no longer even work, because now the condition is that $k=q$, and secondly the result could be of a different dimensionality. An exception is if the matrices are square matrices (e.g. same number of rows as columns) and they are both *symmetric*. A symmetric matrix is one for which $\\mathbf{A}=\\mathbf{A}^\\top$, or equivalently, $a_{i,j} = a_{j,i}$ for all $i$ and $j$.  \n",
    "\n",
    "You will need to get used to working with matrices and vectors applying and developing new machine learning techniques. You should have come across them before, but you may not have used them as extensively as we will now do in this course. You should get used to using this trick to check your work and ensure you know what the dimension of an output matrix should be. For our matrix quadratic form, it turns out that we can see it as a special type of inner product.\n",
    "$$\n",
    "\\mathbf{z}^\\top\\mathbf{C}\\mathbf{z} \\rightarrow (1\\times \\underbrace{k) (k}_\\text{inner dimensions}\\times k) (k\\times 1) \\rightarrow \\mathbf{b}^\\top\\mathbf{z}\n",
    "$$\n",
    "where $\\mathbf{b} = \\mathbf{C}\\mathbf{z}$ so therefore the result is a scalar,\n",
    "$$\n",
    "\\mathbf{b}^\\top\\mathbf{z} \\rightarrow (1\\times \\underbrace{k) (k}_\\text{inner dimensions}\\times 1) \\rightarrow (1\\times 1)\n",
    "$$\n",
    "where a $(1\\times 1)$ matrix is recognised as a scalar.\n",
    "\n",
    "This implies that we should be able to differentiate this form, and indeed the rule for its differentiation is slightly more complex than the inner product, but still quite simple,\n",
    "$$\n",
    "\\frac{\\text{d}}{\\text{d}\\mathbf{z}} \\mathbf{z}^\\top\\mathbf{C}\\mathbf{z}= \\mathbf{C}\\mathbf{z} + \\mathbf{C}^\\top \\mathbf{z}.\n",
    "$$\n",
    "Note that in the special case where $\\mathbf{C}$ is symmetric then we have $\\mathbf{C} = \\mathbf{C}^\\top$ and the derivative simplifies to \n",
    "$$\n",
    "\\frac{\\text{d}}{\\text{d}\\mathbf{z}} \\mathbf{z}^\\top\\mathbf{C}\\mathbf{z}= 2\\mathbf{C}\\mathbf{z}.\n",
    "$$\n",
    "### Differentiating the Objective\n",
    "\n",
    "First, we need to compute the full objective by substituting our prediction function into the objective function to obtain the objective in terms of $\\mathbf{w}$. Doing this we obtain\n",
    "$$\n",
    "E(\\mathbf{w})= (\\mathbf{y} - \\mathbf{X}\\mathbf{w})^\\top (\\mathbf{y} - \\mathbf{X}\\mathbf{w}).\n",
    "$$\n",
    "We now need to differentiate this *quadratic form* to find the minimum. We differentiate with respect to the *vector* $\\mathbf{w}$. But before we do that, we'll expand the brackets in the quadratic form to obtain a series of scalar terms. The rules for bracket expansion across the vectors are similar to those for the scalar system giving,\n",
    "$$\n",
    "(\\mathbf{a} - \\mathbf{b})^\\top (\\mathbf{c} - \\mathbf{d}) = \\mathbf{a}^\\top \\mathbf{c} - \\mathbf{a}^\\top \\mathbf{d} - \\mathbf{b}^\\top \\mathbf{c} + \\mathbf{b}^\\top \\mathbf{d}\n",
    "$$\n",
    "which substituting for $\\mathbf{a} = \\mathbf{c} = \\mathbf{y}$ and $\\mathbf{b}=\\mathbf{d} = \\mathbf{X}\\mathbf{w}$ gives\n",
    "$$\n",
    "E(\\mathbf{w})= \\mathbf{y}^\\top\\mathbf{y} - 2\\mathbf{y}^\\top\\mathbf{X}\\mathbf{w} + \\mathbf{w}^\\top\\mathbf{X}^\\top\\mathbf{X}\\mathbf{w}\n",
    "$$\n",
    "where we used the fact that $\\mathbf{y}^\\top\\mathbf{X}\\mathbf{w}= \\mathbf{w}^\\top\\mathbf{X}^\\top\\mathbf{y}$. Now we can use our rules of differentiation to compute the derivative of this form, which is,\n",
    "$$\n",
    "\\frac{\\text{d}}{\\text{d}\\mathbf{w}}E(\\mathbf{w})=- 2\\mathbf{X}^\\top \\mathbf{y} + 2\\mathbf{X}^\\top\\mathbf{X}\\mathbf{w},\n",
    "$$\n",
    "where we have exploited the fact that $\\mathbf{X}^\\top\\mathbf{X}$ is symmetric to obtain this result."
   ]
  },
  {
   "cell_type": "markdown",
   "metadata": {},
   "source": [
    "### Question 4\n",
    "\n",
    "Use the equivalence between our vector and our matrix formulations of linear regression, alongside our definition of vector derivates, to match the gradients we've computed directly for $\\frac{\\text{d}E(c, m)}{\\text{d}c}$ and $\\frac{\\text{d}E(c, m)}{\\text{d}m}$ to those for $\\frac{\\text{d}E(\\mathbf{w})}{\\text{d}\\mathbf{w}}$."
   ]
  },
  {
   "cell_type": "markdown",
   "metadata": {},
   "source": [
    "#### Question 4 Answer\n",
    "\n",
    "Write your answer to the question in this box."
   ]
  },
  {
   "cell_type": "markdown",
   "metadata": {},
   "source": [
    "## Update Equation for Global Optimum\n",
    "\n",
    "Once again, we need to find the minimum of our objective function. Using our likelihood for multiple input regression we can now minimize for our parameter vector $\\mathbf{w}$. Firstly, just as in the single input case, we seek stationary points by finding parameter vectors that solve for when the gradients are zero,\n",
    "$$\n",
    "\\mathbf{0}=- 2\\mathbf{X}^\\top \\mathbf{y} + 2\\mathbf{X}^\\top\\mathbf{X}\\mathbf{w},\n",
    "$$\n",
    "where $\\mathbf{0}$ is a *vector* of zeros. Rearranging this equation we find the solution to be\n",
    "$$\n",
    "\\mathbf{w} = \\left[\\mathbf{X}^\\top \\mathbf{X}\\right]^{-1} \\mathbf{X}^\\top \\mathbf{y}\n",
    "$$ \n",
    "where $\\mathbf{A}^{-1}$ denotes [*matrix inverse*](http://en.wikipedia.org/wiki/Invertible_matrix).\n",
    "\n",
    "### Solving the Multivariate System\n",
    "\n",
    "The solution for $\\mathbf{w}$ is given in terms of a matrix inverse, but computation of a matrix inverse requires, in itself, an algorithm to resolve it. You'll know this if you had to invert, by hand, a $3\\times 3$ matrix in high school. From a numerical stability perspective, it is also best not to compute the matrix inverse directly, but rather to ask the computer to *solve* the  system of linear equations given by\n",
    "$$\\mathbf{X}^\\top\\mathbf{X} \\mathbf{w} = \\mathbf{X}^\\top\\mathbf{y}$$\n",
    "for $\\mathbf{w}$. This can be done in `numpy` using the command"
   ]
  },
  {
   "cell_type": "code",
   "execution_count": null,
   "metadata": {},
   "outputs": [],
   "source": [
    "np.linalg.solve?"
   ]
  },
  {
   "cell_type": "markdown",
   "metadata": {},
   "source": [
    "so we can obtain the solution using"
   ]
  },
  {
   "cell_type": "code",
   "execution_count": 28,
   "metadata": {},
   "outputs": [
    {
     "name": "stdout",
     "output_type": "stream",
     "text": [
      "[[ 2.88952457e+01]\n",
      " [-1.29806477e-02]]\n"
     ]
    }
   ],
   "source": [
    "w = np.linalg.solve(np.dot(X.T, X), np.dot(X.T, y))\n",
    "print(w)"
   ]
  },
  {
   "cell_type": "markdown",
   "metadata": {},
   "source": [
    "We can map it back to the liner regression and plot the fit as follows"
   ]
  },
  {
   "cell_type": "code",
   "execution_count": 29,
   "metadata": {},
   "outputs": [
    {
     "name": "stdout",
     "output_type": "stream",
     "text": [
      "[-0.01298065]\n",
      "[28.89524568]\n"
     ]
    },
    {
     "data": {
      "text/plain": [
       "[<matplotlib.lines.Line2D at 0x11bcd3710>]"
      ]
     },
     "execution_count": 29,
     "metadata": {},
     "output_type": "execute_result"
    },
    {
     "data": {
      "image/png": "[encoded data removed]",
      "text/plain": [
       "<Figure size 432x288 with 1 Axes>"
      ]
     },
     "metadata": {
      "needs_background": "light"
     },
     "output_type": "display_data"
    }
   ],
   "source": [
    "m = w[1]; c=w[0]\n",
    "f_test = m*x_test + c\n",
    "print(m)\n",
    "print(c)\n",
    "plt.plot(x_test, f_test, 'b-')\n",
    "plt.plot(x, y, 'rx')"
   ]
  },
  {
   "cell_type": "markdown",
   "metadata": {},
   "source": [
    "## Multivariate Linear Regression\n",
    "\n",
    "A major advantage of the new system is that we can build a linear regression on a multivariate system. The matrix calculus didn't specify what the length of the vector $\\mathbf{x}$ should be, or equivalently the size of the design matrix. \n",
    "\n",
    "### Movie Body Count Data\n",
    "\n",
    "Let's load back in the movie body count data."
   ]
  },
  {
   "cell_type": "code",
   "execution_count": 30,
   "metadata": {},
   "outputs": [],
   "source": [
    "movies = pd.read_csv('https://raw.githubusercontent.com/maalvarezl/MLAI/master/Labs/datasets/film-death-counts-Python.csv',encoding= 'unicode_escape')"
   ]
  },
  {
   "cell_type": "markdown",
   "metadata": {},
   "source": [
    "Let's remind ourselves of the features we've been provided with."
   ]
  },
  {
   "cell_type": "code",
   "execution_count": 31,
   "metadata": {},
   "outputs": [
    {
     "name": "stdout",
     "output_type": "stream",
     "text": [
      "Film, Year, Body_Count, MPAA_Rating, Genre, Director, Actors, Length_Minutes, IMDB_Rating\n"
     ]
    }
   ],
   "source": [
    "print(', '.join(movies.columns))"
   ]
  },
  {
   "cell_type": "markdown",
   "metadata": {},
   "source": [
    "Now we will build a design matrix based on the numeric features: year, Body_Count, Length_Minutes in an effort to predict the rating. We build the design matrix as follows:\n",
    "\n",
    "## Relation to Single Input System\n",
    "\n",
    "Bias as an additional feature."
   ]
  },
  {
   "cell_type": "code",
   "execution_count": 32,
   "metadata": {},
   "outputs": [],
   "source": [
    "select_features = ['Year', 'Body_Count', 'Length_Minutes']\n",
    "X = movies.loc[:, select_features]\n",
    "X['Eins'] = 1   # add a column for the offset\n",
    "y = movies[['IMDB_Rating']]"
   ]
  },
  {
   "cell_type": "markdown",
   "metadata": {},
   "source": [
    "Now let's perform a linear regression. But this time, we will create a pandas data frame for the result so we can store it in a form that we can visualise easily."
   ]
  },
  {
   "cell_type": "code",
   "execution_count": 33,
   "metadata": {},
   "outputs": [
    {
     "data": {
      "text/html": [
       "<div>\n",
       "<style scoped>\n",
       "    .dataframe tbody tr th:only-of-type {\n",
       "        vertical-align: middle;\n",
       "    }\n",
       "\n",
       "    .dataframe tbody tr th {\n",
       "        vertical-align: top;\n",
       "    }\n",
       "\n",
       "    .dataframe thead th {\n",
       "        text-align: right;\n",
       "    }\n",
       "</style>\n",
       "<table border=\"1\" class=\"dataframe\">\n",
       "  <thead>\n",
       "    <tr style=\"text-align: right;\">\n",
       "      <th></th>\n",
       "      <th>regression_coefficient</th>\n",
       "    </tr>\n",
       "  </thead>\n",
       "  <tbody>\n",
       "    <tr>\n",
       "      <th>Year</th>\n",
       "      <td>-0.016280</td>\n",
       "    </tr>\n",
       "    <tr>\n",
       "      <th>Body_Count</th>\n",
       "      <td>-0.000995</td>\n",
       "    </tr>\n",
       "    <tr>\n",
       "      <th>Length_Minutes</th>\n",
       "      <td>0.025386</td>\n",
       "    </tr>\n",
       "    <tr>\n",
       "      <th>Eins</th>\n",
       "      <td>36.508363</td>\n",
       "    </tr>\n",
       "  </tbody>\n",
       "</table>\n",
       "</div>"
      ],
      "text/plain": [
       "                regression_coefficient\n",
       "Year                         -0.016280\n",
       "Body_Count                   -0.000995\n",
       "Length_Minutes                0.025386\n",
       "Eins                         36.508363"
      ]
     },
     "execution_count": 33,
     "metadata": {},
     "output_type": "execute_result"
    }
   ],
   "source": [
    "import pandas as pd\n",
    "w = pd.DataFrame(data=np.linalg.solve(np.dot(X.T, X), np.dot(X.T, y)),  # solve linear regression here\n",
    "                 index = X.columns,  # columns of X become rows of w\n",
    "                 columns=['regression_coefficient']) # the column of X is the value of regression coefficient\n",
    "w"
   ]
  },
  {
   "cell_type": "markdown",
   "metadata": {},
   "source": [
    "We can check the residuals to see how good our estimates are"
   ]
  },
  {
   "cell_type": "code",
   "execution_count": 34,
   "metadata": {},
   "outputs": [
    {
     "data": {
      "text/plain": [
       "array([[<matplotlib.axes._subplots.AxesSubplot object at 0x11bfdbb00>]],\n",
       "      dtype=object)"
      ]
     },
     "execution_count": 34,
     "metadata": {},
     "output_type": "execute_result"
    },
    {
     "data": {
      "image/png": "[encoded data removed]",
      "text/plain": [
       "<Figure size 432x288 with 1 Axes>"
      ]
     },
     "metadata": {
      "needs_background": "light"
     },
     "output_type": "display_data"
    }
   ],
   "source": [
    "(y - np.dot(X, w)).hist()"
   ]
  },
  {
   "cell_type": "markdown",
   "metadata": {},
   "source": [
    "Which shows our model *hasn't* yet done a great job of representation, because the spread of values is large. We can check what the rating is dominated by in terms of regression coefficients."
   ]
  },
  {
   "cell_type": "code",
   "execution_count": 35,
   "metadata": {},
   "outputs": [
    {
     "data": {
      "text/html": [
       "<div>\n",
       "<style scoped>\n",
       "    .dataframe tbody tr th:only-of-type {\n",
       "        vertical-align: middle;\n",
       "    }\n",
       "\n",
       "    .dataframe tbody tr th {\n",
       "        vertical-align: top;\n",
       "    }\n",
       "\n",
       "    .dataframe thead th {\n",
       "        text-align: right;\n",
       "    }\n",
       "</style>\n",
       "<table border=\"1\" class=\"dataframe\">\n",
       "  <thead>\n",
       "    <tr style=\"text-align: right;\">\n",
       "      <th></th>\n",
       "      <th>regression_coefficient</th>\n",
       "    </tr>\n",
       "  </thead>\n",
       "  <tbody>\n",
       "    <tr>\n",
       "      <th>Year</th>\n",
       "      <td>-0.016280</td>\n",
       "    </tr>\n",
       "    <tr>\n",
       "      <th>Body_Count</th>\n",
       "      <td>-0.000995</td>\n",
       "    </tr>\n",
       "    <tr>\n",
       "      <th>Length_Minutes</th>\n",
       "      <td>0.025386</td>\n",
       "    </tr>\n",
       "    <tr>\n",
       "      <th>Eins</th>\n",
       "      <td>36.508363</td>\n",
       "    </tr>\n",
       "  </tbody>\n",
       "</table>\n",
       "</div>"
      ],
      "text/plain": [
       "                regression_coefficient\n",
       "Year                         -0.016280\n",
       "Body_Count                   -0.000995\n",
       "Length_Minutes                0.025386\n",
       "Eins                         36.508363"
      ]
     },
     "execution_count": 35,
     "metadata": {},
     "output_type": "execute_result"
    }
   ],
   "source": [
    "w"
   ]
  },
  {
   "cell_type": "markdown",
   "metadata": {},
   "source": [
    "Although we have to be a little careful about interpretation because our input values live on different scales, however it looks like we are dominated by the bias, with a small negative effect for later films (but bear in mind the years are large, so this effect is probably larger than it looks) and a positive effect for length. So it looks like long earlier films generally do better, but the residuals are so high that we probably haven't modelled the system very well."
   ]
  },
  {
   "cell_type": "markdown",
   "metadata": {},
   "source": [
    "## Solution with QR Decomposition\n",
    "\n",
    "Performing a solve instead of a matrix inverse is the more numerically stable approach, but we can do even better. A [QR-decomposition](http://en.wikipedia.org/wiki/QR_decomposition) of a matrix factorises it into a matrix which is an orthogonal matrix $\\mathbf{Q}$, so that $\\mathbf{Q}^\\top \\mathbf{Q} = \\mathbf{I}$. And a matrix which is upper triangular, $\\mathbf{R}$. \n",
    "$$\n",
    "\\mathbf{X}^\\top \\mathbf{X} \\boldsymbol{\\beta} = \\mathbf{X}^\\top \\mathbf{y}\n",
    "$$\n",
    "$$\n",
    "(\\mathbf{Q}\\mathbf{R})^\\top (\\mathbf{Q}\\mathbf{R})\\boldsymbol{\\beta} = (\\mathbf{Q}\\mathbf{R})^\\top \\mathbf{y}\n",
    "$$\n",
    "$$\n",
    "\\mathbf{R}^\\top (\\mathbf{Q}^\\top \\mathbf{Q}) \\mathbf{R} \\boldsymbol{\\beta} = \\mathbf{R}^\\top \\mathbf{Q}^\\top \\mathbf{y}\n",
    "$$\n",
    "$$\n",
    "\\mathbf{R}^\\top \\mathbf{R} \\boldsymbol{\\beta} = \\mathbf{R}^\\top \\mathbf{Q}^\\top \\mathbf{y}\n",
    "$$\n",
    "$$\n",
    "\\mathbf{R} \\boldsymbol{\\beta} = \\mathbf{Q}^\\top \\mathbf{y}\n",
    "$$\n",
    "This is a more numerically stable solution because it removes the need to compute $\\mathbf{X}^\\top\\mathbf{X}$ as an intermediate. Computing $\\mathbf{X}^\\top\\mathbf{X}$ is a bad idea because it involves squaring all the elements of $\\mathbf{X}$ and thereby potentially reducing the numerical precision with which we can represent the solution. Operating on $\\mathbf{X}$ directly preserves the numerical precision of the model.\n",
    "\n",
    "This can be more particularly seen when we begin to work with *basis functions* in the next week. Some systems that can be resolved with the QR decomposition can not be resolved by using solve directly."
   ]
  },
  {
   "cell_type": "code",
   "execution_count": 36,
   "metadata": {},
   "outputs": [
    {
     "data": {
      "text/html": [
       "<div>\n",
       "<style scoped>\n",
       "    .dataframe tbody tr th:only-of-type {\n",
       "        vertical-align: middle;\n",
       "    }\n",
       "\n",
       "    .dataframe tbody tr th {\n",
       "        vertical-align: top;\n",
       "    }\n",
       "\n",
       "    .dataframe thead th {\n",
       "        text-align: right;\n",
       "    }\n",
       "</style>\n",
       "<table border=\"1\" class=\"dataframe\">\n",
       "  <thead>\n",
       "    <tr style=\"text-align: right;\">\n",
       "      <th></th>\n",
       "      <th>0</th>\n",
       "    </tr>\n",
       "  </thead>\n",
       "  <tbody>\n",
       "    <tr>\n",
       "      <th>Year</th>\n",
       "      <td>-0.016280</td>\n",
       "    </tr>\n",
       "    <tr>\n",
       "      <th>Body_Count</th>\n",
       "      <td>-0.000995</td>\n",
       "    </tr>\n",
       "    <tr>\n",
       "      <th>Length_Minutes</th>\n",
       "      <td>0.025386</td>\n",
       "    </tr>\n",
       "    <tr>\n",
       "      <th>Eins</th>\n",
       "      <td>36.508363</td>\n",
       "    </tr>\n",
       "  </tbody>\n",
       "</table>\n",
       "</div>"
      ],
      "text/plain": [
       "                        0\n",
       "Year            -0.016280\n",
       "Body_Count      -0.000995\n",
       "Length_Minutes   0.025386\n",
       "Eins            36.508363"
      ]
     },
     "execution_count": 36,
     "metadata": {},
     "output_type": "execute_result"
    }
   ],
   "source": [
    "import scipy.linalg as linalg \n",
    "Q, R = np.linalg.qr(X)\n",
    "w = linalg.solve_triangular(R, np.dot(Q.T, y)) \n",
    "w = pd.DataFrame(w, index=X.columns)\n",
    "w"
   ]
  },
  {
   "cell_type": "code",
   "execution_count": 37,
   "metadata": {},
   "outputs": [],
   "source": [
    "# Initial code: it uses pods.notebook.display_prediction, but with a minor modification to \n",
    "# allow the use of ipywidgets\n",
    "from ipywidgets import *\n",
    "def display_prediction(basis, num_basis=4, wlim=(-1.,1.), fig=None, ax=None, xlim=None, ylim=None, num_points=1000, offset=0.0, **kwargs):\n",
    "    \"\"\"Interactive widget for displaying a prediction function based on summing separate basis functions.\n",
    "    :param basis: a function handle that calls the basis functions.\n",
    "    :type basis: function handle.\n",
    "    :param xlim: limits of the x axis to use.\n",
    "    :param ylim: limits of the y axis to use.\n",
    "    :param wlim: limits for the basis function weights.\"\"\"\n",
    "\n",
    "    #import numpy as np\n",
    "    #import pylab as plt\n",
    "\n",
    "    if fig is not None:\n",
    "        if ax is None:\n",
    "            ax = fig.gca()\n",
    "\n",
    "    if xlim is None:\n",
    "        if ax is not None:\n",
    "            xlim = ax.get_xlim()\n",
    "        else:\n",
    "            xlim = (-2., 2.)\n",
    "    if ylim is None:\n",
    "        if ax is not None:\n",
    "            ylim = ax.get_ylim()\n",
    "        else:\n",
    "            ylim = (-1., 1.)\n",
    "\n",
    "    # initialise X and set up W arguments.\n",
    "    x = np.zeros((num_points, 1))\n",
    "    x[:, 0] = np.linspace(xlim[0], xlim[1], num_points)\n",
    "    param_args = {}\n",
    "    for i in range(num_basis):\n",
    "        lim = list(wlim)\n",
    "        if i ==0:\n",
    "            lim[0] += offset\n",
    "            lim[1] += offset\n",
    "        param_args['w_' + str(i)] = tuple(lim)\n",
    "\n",
    "    # helper function for making basis prediction.\n",
    "    def predict_basis(w, basis, x, num_basis, **kwargs):\n",
    "        Phi = basis(x, num_basis, **kwargs)\n",
    "        f = np.dot(Phi, w)\n",
    "        return f, Phi\n",
    "    \n",
    "    if type(basis) is dict:\n",
    "        use_basis = basis[list(basis.keys())[0]]\n",
    "    else:\n",
    "        use_basis = basis\n",
    "    f, Phi = predict_basis(np.zeros((num_basis, 1)),\n",
    "                           use_basis, x, num_basis,\n",
    "                           **kwargs)\n",
    "    if fig is None:\n",
    "        fig, ax=plt.subplots(figsize=(12,4))\n",
    "        ax.set_ylim(ylim)\n",
    "        ax.set_xlim(xlim)\n",
    "\n",
    "    predline = ax.plot(x, f, linewidth=2)[0]\n",
    "    basislines = []\n",
    "    for i in range(num_basis):\n",
    "        basislines.append(ax.plot(x, Phi[:, i], 'r')[0])\n",
    "\n",
    "    ax.set_ylim(ylim)\n",
    "    ax.set_xlim(xlim)\n",
    "\n",
    "    def generate_function(basis, num_basis, predline, basislines, basis_args, display_basis, offset, **kwargs):\n",
    "        w = np.zeros((num_basis, 1))\n",
    "        for i in range(num_basis):\n",
    "            w[i] = kwargs['w_'+ str(i)]\n",
    "        f, Phi = predict_basis(w, basis, x, num_basis, **basis_args)\n",
    "        predline.set_xdata(x[:, 0])\n",
    "        predline.set_ydata(f)\n",
    "        for i in range(num_basis):\n",
    "            basislines[i].set_xdata(x[:, 0])\n",
    "            basislines[i].set_ydata(Phi[:, i])\n",
    "\n",
    "        if display_basis:\n",
    "            for i in range(num_basis):\n",
    "                basislines[i].set_alpha(1) # make visible\n",
    "        else:\n",
    "            for i in range(num_basis):\n",
    "                basislines[i].set_alpha(0) \n",
    "        display(fig)\n",
    "    if type(basis) is not dict:\n",
    "        basis = fixed(basis)\n",
    "\n",
    "    plt.close(fig)\n",
    "    interact(generate_function, \n",
    "             basis=basis,\n",
    "             num_basis=fixed(num_basis),\n",
    "             predline=fixed(predline),\n",
    "             basislines=fixed(basislines),\n",
    "             basis_args=fixed(kwargs),\n",
    "             offset = fixed(offset),\n",
    "             display_basis = False,\n",
    "             **param_args)"
   ]
  },
  {
   "cell_type": "markdown",
   "metadata": {},
   "source": [
    "## Basis Functions\n",
    "\n",
    "We've now seen how we may perform linear regression. Now, we are going to consider how we can perform *non-linear* regression. However, before we get into the details of how to do that we first need to consider in what ways the regression can be non-linear. \n",
    "\n",
    "Multivariate linear regression allows us to build models that take many features into account when making our prediction. In this session we are going to introduce *basis functions*. The term seems complicated, but they are actually based on rather a simple idea. If we are doing a multivariate linear regression, we get extra features that *might* help us predict our required response variable (or target value), $y$. But what if we only have one input value? We can actually artificially generate more input values with basis functions.\n",
    "\n",
    "### Non-linear in the Inputs\n",
    "\n",
    "When we refer to non-linear regression, we are normally referring to whether the regression is non-linear in the input space, or non-linear in the *covariates*. The covariates are the observations that move with the target (or *response*) variable. In our notation we have been using $\\mathbf{x}_i$ to represent a vector of the covariates associated with the $i$th observation. The coresponding response variable is $y_i$. If a model is non-linear in the inputs, it means that there is a non-linear function between the inputs and the response variable. Linear functions are functions that only involve multiplication and addition, in other words they can be represented through *linear algebra*. Linear regression involves assuming that a function takes the form\n",
    "$$\n",
    "f(\\mathbf{x}) = \\mathbf{w}^\\top \\mathbf{x}\n",
    "$$\n",
    "where $\\mathbf{w}$ are our regression weights. A very easy way to make the linear regression non-linear is to introduce non-linear functions. When we are introducing non-linear regression these functions are known as *basis functions*.\n",
    "\n",
    "### Basis Functions\n",
    "\n",
    "Here's the idea, instead of working directly on the original input space, $\\mathbf{x}$, we build models in a new space, $\\boldsymbol{\\phi}(\\mathbf{x})$ where $\\boldsymbol{\\phi}(\\cdot)$ is a *vector valued* function that is defined on the space $\\mathbf{x}$. \n",
    "\n",
    "Remember, that a vector valued function is just a vector that contains functions instead of values. Here's an example for a one dimensional input space, $x$, being projected to a *quadratic* basis. First we consider each basis function in turn, we can think of the elements of our vector as being indexed so that we have\n",
    "\\begin{align*}\n",
    "\\phi_1(x) = 1, \\\\\n",
    "\\phi_2(x) = x, \\\\\n",
    "\\phi_3(x) = x^2.\n",
    "\\end{align*}\n",
    "Now we can consider them together by placing them in a vector,\n",
    "$$\n",
    "\\boldsymbol{\\phi}(x) = \\begin{bmatrix} 1\\\\ x \\\\ x^2\\end{bmatrix}.\n",
    "$$\n",
    "This is the idea of the vector valued function, we have simply collected the different functions together in the same vector making them notationally easier to deal with in our mathematics. \n",
    "\n",
    "When we consider the vector valued function for each data point, then we place all the data into a matrix. The result is a matrix valued function,\n",
    "$$\n",
    "\\boldsymbol{\\Phi}(\\mathbf{x}) = \n",
    "\\begin{bmatrix} 1 & x_1 & x_1^2 \\\\\n",
    "1 & x_2 & x_2^2\\\\\n",
    "\\vdots & \\vdots & \\vdots \\\\\n",
    "1 & x_n & x_n^2\n",
    "\\end{bmatrix}\n",
    "$$\n",
    "where we are still in the one dimensional input setting so $\\mathbf{x}$ here represents a vector of our inputs with $n$ elements. \n"
   ]
  },
  {
   "cell_type": "markdown",
   "metadata": {},
   "source": [
    "The polynomial basis extends the quadratic basis to arbitrary degree, so we might define the $j$th basis function associated with the model as\n",
    "$$\n",
    "\\phi_j(x_i) = x_i^j\n",
    "$$\n",
    "which can be implemented as a function in code as follows"
   ]
  },
  {
   "cell_type": "code",
   "execution_count": 38,
   "metadata": {},
   "outputs": [],
   "source": [
    "def polynomial(x, num_basis=4, data_limits=[-1., 1.]):\n",
    "    Phi = np.zeros((x.shape[0], num_basis))\n",
    "    for i in range(num_basis):\n",
    "        Phi[:, i:i+1] = x**i\n",
    "    return Phi"
   ]
  },
  {
   "cell_type": "markdown",
   "metadata": {},
   "source": [
    "To aid in understanding how a basis works, we've provided you with a small interactive tool for exploring this polynomial basis. The tool can be summoned with the following command."
   ]
  },
  {
   "cell_type": "code",
   "execution_count": 39,
   "metadata": {},
   "outputs": [
    {
     "data": {
      "application/vnd.jupyter.widget-view+json": {
       "model_id": "828666869a9d4071b274e885f4594cf9",
       "version_major": 2,
       "version_minor": 0
      },
      "text/plain": [
       "interactive(children=(Checkbox(value=False, description='display_basis'), FloatSlider(value=0.0, description='…"
      ]
     },
     "metadata": {},
     "output_type": "display_data"
    }
   ],
   "source": [
    "display_prediction(basis=polynomial, num_basis=4, ylim=[-3.,3])"
   ]
  },
  {
   "cell_type": "markdown",
   "metadata": {},
   "source": [
    "Try moving the sliders around to change the weight of each basis function. Click the control box `display_basis` to show the underlying basis functions (in red). The prediction function is shown in a thick blue line. *Warning* the sliders aren't presented quite in the correct order. `w_0` is associated with the bias, `w_1` is the linear term, `w_2` the quadratic and here (because we have four basis functions) we have `w_3` for the *cubic* term. So the subscript of the weight parameter is always associated with the corresponding polynomial's degree."
   ]
  },
  {
   "cell_type": "markdown",
   "metadata": {},
   "source": [
    "### Question 5\n",
    "\n",
    "Try increasing the number of basis functions (thereby increasing the *degree* of the resulting polynomial). Describe what you see as you increase number of basis up to 10. Is it easy to change the function in intuitive ways? For example, if you want to manually set the weights $\\mathbf{w}$ for a particular training dataset?"
   ]
  },
  {
   "cell_type": "markdown",
   "metadata": {},
   "source": [
    "#### Question 5 Answer\n",
    "\n",
    "Write your answer to the question in this box."
   ]
  },
  {
   "cell_type": "markdown",
   "metadata": {},
   "source": [
    "### Fitting to Data\n",
    "\n",
    "Now we are going to consider how these basis functions can be adjusted to fit to a particular data set. We return to the olympic marathon data. First we will scale the output of the data to be zero mean and variance 1."
   ]
  },
  {
   "cell_type": "code",
   "execution_count": 40,
   "metadata": {},
   "outputs": [],
   "source": [
    "data = pd.read_csv('https://raw.githubusercontent.com/maalvarezl/MLAI/master/Labs/datasets/olympic_marathon_men.csv', header=None, encoding= 'unicode_escape')\n",
    "x = np.array(data.iloc[:, 0].values).reshape(-1,1)\n",
    "y = np.array(data.iloc[:, 1].values).reshape(-1,1)\n",
    "y -= y.mean()\n",
    "y /= y.std()"
   ]
  },
  {
   "cell_type": "markdown",
   "metadata": {},
   "source": [
    "### Question 6\n",
    "\n",
    "Now we are going to redefine our polynomial basis. Have a careful look at the operations we perform on `x` to create `z`. We use `z` in the polynomial computation. What are we doing to the inputs? Why do you think we are changing `x` in this manner?"
   ]
  },
  {
   "cell_type": "markdown",
   "metadata": {},
   "source": [
    "#### Question 6 Answer\n",
    "\n",
    "Write your answer to the question in this box."
   ]
  },
  {
   "cell_type": "code",
   "execution_count": 41,
   "metadata": {},
   "outputs": [],
   "source": [
    "# %load -s polynomial mlai.py\n",
    "def polynomial(x, num_basis=4, data_limits=[-1., 1.]):\n",
    "    \"Polynomial basis\"\n",
    "    centre = data_limits[0]/2. + data_limits[1]/2.\n",
    "    span = data_limits[1] - data_limits[0]\n",
    "    z = x - centre\n",
    "    z = 2*z/span\n",
    "    Phi = np.zeros((x.shape[0], num_basis))\n",
    "    for i in range(num_basis):\n",
    "        Phi[:, i:i+1] = z**i\n",
    "    return Phi"
   ]
  },
  {
   "cell_type": "markdown",
   "metadata": {},
   "source": [
    "We like to make use of *design* matrices for our data. Design matrices, as you will recall, involve placing the data points into rows of the matrix and data features into the columns of the matrix. By convention, we are referencing a vector with a bold lower case letter, and a matrix with a bold upper case letter. The design matrix is therefore given by\n",
    "$$\n",
    "\\boldsymbol{\\Phi} = \\begin{bmatrix} 1 & \\mathbf{x} & \\mathbf{x}^2\\end{bmatrix}\n",
    "$$\n",
    "\n",
    "\n",
    "### Non-linear but linear in the Parameters\n",
    "\n",
    "One rather nice aspect of our model is that whilst it is non-linear in the inputs, it is still linear in the parameters $\\mathbf{w}$. This means that our derivations from before continue to operate to allow us to work with this model. In fact, although this is a non-linear regression it is still known as a *linear model* because it is linear in the parameters, \n",
    "$$\n",
    "f(\\mathbf{x}) = \\mathbf{w}^\\top \\boldsymbol{\\phi}(\\mathbf{x})\n",
    "$$\n",
    "where the vector $\\mathbf{x}$ appears inside the basis functions, making our result, $f(\\mathbf{x})$ non-linear in the inputs, but $\\mathbf{w}$ appears outside our basis function, making our result *linear* in the parameters. In practice, our basis function itself may contain its own set of parameters,\n",
    "$$\n",
    "f(\\mathbf{x}) = \\mathbf{w}^\\top \\boldsymbol{\\phi}(\\mathbf{x}; \\boldsymbol{\\theta}),\n",
    "$$\n",
    "that we've denoted here as $\\boldsymbol{\\theta}$. If these parameters appear inside the basis function then our model is *non-linear* in these parameters."
   ]
  },
  {
   "cell_type": "markdown",
   "metadata": {},
   "source": [
    "### Question 7\n",
    "For the following prediction functions state whether the model is linear in the inputs, the parameters or both.\n",
    "\n",
    "(a) $f(x) = w_1x_1 + w_2$\n",
    "\n",
    "(b) $f(x) = w_1\\exp(x_1) + w_2x_2 + w_3$\n",
    "\n",
    "(c) $f(x) = \\log(x_1^{w_1}) + w_2x_2^2 + w_3$\n",
    "\n",
    "(d) $f(x) = \\exp(-\\sum_i(x_i - w_i)^2)$\n",
    "\n",
    "(e) $f(x) = \\exp(-\\mathbf{w}^\\top \\mathbf{x})$"
   ]
  },
  {
   "cell_type": "markdown",
   "metadata": {},
   "source": [
    "#### Question 7 Answer\n",
    "\n",
    "Write your answer to the question in this box."
   ]
  },
  {
   "cell_type": "markdown",
   "metadata": {},
   "source": [
    "### Fitting the Model Yourself\n",
    "\n",
    "You now have everything you need to fit a non-linear (in the inputs) basis function model to the marathon data. "
   ]
  },
  {
   "cell_type": "markdown",
   "metadata": {},
   "source": [
    "### Question 8\n",
    "\n",
    "For this question, use the polynomial basis function. Compute the design matrix on the covariates (or input data), `x`. Use the design matrix and the response variable `y` to solve the following linear system for the model parameters `w`.\n",
    "$$\n",
    "\\boldsymbol{\\Phi}^\\top\\boldsymbol{\\Phi}\\mathbf{w} = \\boldsymbol{\\Phi}^\\top \\mathbf{y}\n",
    "$$\n",
    "Compute the corresponding error on the training data. How does it compare to the error you were able to achieve using the linear model with respect to the inputs? Plot the form of your prediction function from the least squares estimate."
   ]
  },
  {
   "cell_type": "code",
   "execution_count": null,
   "metadata": {},
   "outputs": [],
   "source": [
    "# Question 8 Answer Code\n",
    "# Write code for you answer to this question in this box"
   ]
  }
 ],
 "metadata": {
  "kernelspec": {
   "display_name": "Python 3",
   "language": "python",
   "name": "python3"
  },
  "language_info": {
   "codemirror_mode": {
    "name": "ipython",
    "version": 3
   },
   "file_extension": ".py",
   "mimetype": "text/x-python",
   "name": "python",
   "nbconvert_exporter": "python",
   "pygments_lexer": "ipython3",
   "version": "3.7.3"
  }
 },
 "nbformat": 4,
 "nbformat_minor": 1
}
