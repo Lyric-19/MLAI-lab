{
 "cells": [
  {
   "cell_type": "markdown",
   "metadata": {},
   "source": [
    "# [COM6513] Assignment 1: Sentiment Analysis with Logistic Regression\n",
    "\n",
    "### Instructor: Nikos Aletras\n",
    "\n",
    "\n",
    "The goal of this assignment is to develop and test a **text classification** system for **sentiment analysis**, in particular to predict the sentiment of movie reviews, i.e. positive or negative (binary classification).\n",
    "\n",
    "\n",
    "\n",
    "For that purpose, you will implement:\n",
    "\n",
    "\n",
    "- Text processing methods for extracting Bag-Of-Word features, using \n",
    "    - n-grams (BOW), i.e. unigrams, bigrams and trigrams to obtain vector representations of documents where n=1,2,3 respectively. Two vector weighting schemes should be tested: (1) raw frequencies (**1 mark**); (2) tf.idf (**1 mark**). \n",
    "    - character n-grams (BOCN). A character n-gram is a contiguous sequence of characters given a word, e.g. for n=2, 'coffee' is split into {'co', 'of', 'ff', 'fe', 'ee'}. Two vector weighting schemes should be tested: (1) raw frequencies (**1 mark**); (2) tf.idf (**1 mark**). **Tip: Note the large vocabulary size!** \n",
    "    - a combination of the two vector spaces (n-grams and character n-grams) choosing your best performing wighting respectively (i.e. raw or tfidf). (**1 mark**) **Tip: you should merge the two representations**\n",
    "\n",
    "\n",
    "\n",
    "- Binary Logistic Regression (LR) classifiers that will be able to accurately classify movie reviews trained with: \n",
    "    - (1) BOW-count (raw frequencies) \n",
    "    - (2) BOW-tfidf (tf.idf weighted)\n",
    "    - (3) BOCN-count\n",
    "    - (4) BOCN-tfidf\n",
    "    - (5) BOW+BOCN (best performing weighting; raw or tfidf)\n",
    "\n",
    "\n",
    "\n",
    "- The Stochastic Gradient Descent (SGD) algorithm to estimate the parameters of your Logistic Regression models. Your SGD algorithm should:\n",
    "    - Minimise the Binary Cross-entropy loss function (**1 mark**)\n",
    "    - Use L2 regularisation (**1 mark**)\n",
    "    - Perform multiple passes (epochs) over the training data (**1 mark**)\n",
    "    - Randomise the order of training data after each pass (**1 mark**)\n",
    "    - Stop training if the difference between the current and previous development loss is smaller than a threshold (**1 mark**)\n",
    "    - After each epoch print the training and development loss (**1 mark**)\n",
    "\n",
    "\n",
    "\n",
    "- Discuss how did you choose hyperparameters (e.g. learning rate and regularisation strength) for each LR model? You should use a table showing model performance using different set of hyperparameter values. (**2 marks). **Tip: Instead of using all possible combinations, you could perform a random sampling of combinations.**\n",
    "\n",
    "\n",
    "- After training each LR model, plot the learning process (i.e. training and validation loss in each epoch) using a line plot. Does your model underfit, overfit or is it about right? Explain why. (**1 mark**). \n",
    "\n",
    "\n",
    "- Identify and show the most important features (model interpretability) for each class (i.e. top-10 most positive and top-10 negative weights). Give the top 10 for each class and comment on whether they make sense (if they don't you might have a bug!). If you were to apply the classifier into a different domain such laptop reviews or restaurant reviews, do you think these features would generalise well? Can you propose what features the classifier could pick up as important in the new domain? (**2 marks**)\n",
    "\n",
    "\n",
    "- Provide well documented and commented code describing all of your choices. In general, you are free to make decisions about text processing (e.g. punctuation, numbers, vocabulary size) and hyperparameter values. We expect to see justifications and discussion for all of your choices (**2 marks**). \n",
    "\n",
    "\n",
    "- Provide efficient solutions by using Numpy arrays when possible (you can find tips in Lab 1 sheet). Executing the whole notebook with your code should not take more than 5 minutes on a any standard computer (e.g. Intel Core i5 CPU, 8 or 16GB RAM) excluding hyperparameter tuning runs (**2 marks**). \n",
    "\n",
    "\n",
    "\n",
    "\n",
    "\n",
    "\n",
    "### Data \n",
    "\n",
    "The data you will use are taken from here: [http://www.cs.cornell.edu/people/pabo/movie-review-data/](http://www.cs.cornell.edu/people/pabo/movie-review-data/) and you can find it in the `./data_sentiment` folder in CSV format:\n",
    "\n",
    "- `data_sentiment/train.csv`: contains 1,400 reviews, 700 positive (label: 1) and 700 negative (label: 0) to be used for training.\n",
    "- `data_sentiment/dev.csv`: contains 200 reviews, 100 positive and 100 negative to be used for hyperparameter selection and monitoring the training process.\n",
    "- `data_sentiment/test.csv`: contains 400 reviews, 200 positive and 200 negative to be used for testing.\n",
    "\n",
    "\n",
    "\n",
    "\n",
    "### Submission Instructions\n",
    "\n",
    "You should submit a Jupyter Notebook file (assignment1.ipynb) and an exported PDF version (you can do it from Jupyter: `File->Download as->PDF via Latex` or you can print it as PDF using your browser).\n",
    "\n",
    "You are advised to follow the code structure given in this notebook by completing all given funtions. You can also write any auxilliary/helper functions (and arguments for the functions) that you might need but note that you can provide a full solution without any such functions. Similarly, you can just use only the packages imported below but you are free to use any functionality from the [Python Standard Library](https://docs.python.org/2/library/index.html), NumPy, SciPy (excluding built-in softmax funtcions) and Pandas. You are not allowed to use any third-party library such as Scikit-learn (apart from metric functions already provided), NLTK, Spacy, Keras etc.. \n",
    "\n",
    "There is no single correct answer on what your accuracy should be, but correct implementations usually achieve F1-scores around 80\\% or higher. The quality of the analysis of the results is as important as the accuracy itself. \n",
    "\n",
    "This assignment will be marked out of 20. It is worth 20\\% of your final grade in the module.\n",
    "\n",
    "The deadline for this assignment is **23:59 on Mon, 14 Mar 2022** and it needs to be submitted via Blackboard. Standard departmental penalties for lateness will be applied. We use a range of strategies to **detect [unfair means](https://www.sheffield.ac.uk/ssid/unfair-means/index)**, including Turnitin which helps detect plagiarism. Use of unfair means would result in getting a failing grade.\n",
    "\n"
   ]
  },
  {
   "cell_type": "code",
   "execution_count": 1,
   "metadata": {
    "ExecuteTime": {
     "end_time": "2020-03-27T13:41:17.642162Z",
     "start_time": "2020-03-27T13:41:16.891940Z"
    }
   },
   "outputs": [],
   "source": [
    "import pandas as pd\n",
    "import numpy as np\n",
    "from collections import Counter\n",
    "import re\n",
    "import matplotlib.pyplot as plt\n",
    "from sklearn.metrics import accuracy_score, precision_score, recall_score, f1_score\n",
    "import random\n",
    "\n",
    "# fixing random seed for reproducibility\n",
    "random.seed(123)\n",
    "np.random.seed(123)\n"
   ]
  },
  {
   "cell_type": "markdown",
   "metadata": {},
   "source": [
    "## Load Raw texts and labels into arrays\n",
    "\n",
    "First, you need to load the training, development and test sets from their corresponding CSV files (tip: you can use Pandas dataframes)."
   ]
  },
  {
   "cell_type": "code",
   "execution_count": 113,
   "metadata": {
    "ExecuteTime": {
     "end_time": "2020-02-15T14:17:28.145788Z",
     "start_time": "2020-02-15T14:17:28.066100Z"
    }
   },
   "outputs": [
    {
     "data": {
      "text/html": [
       "<div>\n",
       "<style scoped>\n",
       "    .dataframe tbody tr th:only-of-type {\n",
       "        vertical-align: middle;\n",
       "    }\n",
       "\n",
       "    .dataframe tbody tr th {\n",
       "        vertical-align: top;\n",
       "    }\n",
       "\n",
       "    .dataframe thead th {\n",
       "        text-align: right;\n",
       "    }\n",
       "</style>\n",
       "<table border=\"1\" class=\"dataframe\">\n",
       "  <thead>\n",
       "    <tr style=\"text-align: right;\">\n",
       "      <th></th>\n",
       "      <th>lable</th>\n",
       "    </tr>\n",
       "  </thead>\n",
       "  <tbody>\n",
       "    <tr>\n",
       "      <th>count</th>\n",
       "      <td>1400.000000</td>\n",
       "    </tr>\n",
       "    <tr>\n",
       "      <th>mean</th>\n",
       "      <td>0.500000</td>\n",
       "    </tr>\n",
       "    <tr>\n",
       "      <th>std</th>\n",
       "      <td>0.500179</td>\n",
       "    </tr>\n",
       "    <tr>\n",
       "      <th>min</th>\n",
       "      <td>0.000000</td>\n",
       "    </tr>\n",
       "    <tr>\n",
       "      <th>25%</th>\n",
       "      <td>0.000000</td>\n",
       "    </tr>\n",
       "    <tr>\n",
       "      <th>50%</th>\n",
       "      <td>0.500000</td>\n",
       "    </tr>\n",
       "    <tr>\n",
       "      <th>75%</th>\n",
       "      <td>1.000000</td>\n",
       "    </tr>\n",
       "    <tr>\n",
       "      <th>max</th>\n",
       "      <td>1.000000</td>\n",
       "    </tr>\n",
       "  </tbody>\n",
       "</table>\n",
       "</div>"
      ],
      "text/plain": [
       "             lable\n",
       "count  1400.000000\n",
       "mean      0.500000\n",
       "std       0.500179\n",
       "min       0.000000\n",
       "25%       0.000000\n",
       "50%       0.500000\n",
       "75%       1.000000\n",
       "max       1.000000"
      ]
     },
     "execution_count": 113,
     "metadata": {},
     "output_type": "execute_result"
    }
   ],
   "source": [
    "train_data = pd.read_csv('data_sentiment/train.csv', encoding= 'unicode_escape',names=['text','lable'])\n",
    "val_data = pd.read_csv('data_sentiment/dev.csv', encoding= 'unicode_escape',names=['text','lable'])\n",
    "test_data = pd.read_csv('data_sentiment/test.csv', encoding= 'unicode_escape',names=['text','lable'])\n",
    "\n",
    "train_data.describe()"
   ]
  },
  {
   "cell_type": "markdown",
   "metadata": {},
   "source": [
    "If you use Pandas you can see a sample of the data."
   ]
  },
  {
   "cell_type": "code",
   "execution_count": 115,
   "metadata": {
    "ExecuteTime": {
     "end_time": "2020-02-15T14:17:28.900892Z",
     "start_time": "2020-02-15T14:17:28.891221Z"
    }
   },
   "outputs": [
    {
     "data": {
      "text/html": [
       "<div>\n",
       "<style scoped>\n",
       "    .dataframe tbody tr th:only-of-type {\n",
       "        vertical-align: middle;\n",
       "    }\n",
       "\n",
       "    .dataframe tbody tr th {\n",
       "        vertical-align: top;\n",
       "    }\n",
       "\n",
       "    .dataframe thead th {\n",
       "        text-align: right;\n",
       "    }\n",
       "</style>\n",
       "<table border=\"1\" class=\"dataframe\">\n",
       "  <thead>\n",
       "    <tr style=\"text-align: right;\">\n",
       "      <th></th>\n",
       "      <th>text</th>\n",
       "      <th>lable</th>\n",
       "    </tr>\n",
       "  </thead>\n",
       "  <tbody>\n",
       "    <tr>\n",
       "      <th>782</th>\n",
       "      <td>\" i would appreciate it if you didn't do that...</td>\n",
       "      <td>0</td>\n",
       "    </tr>\n",
       "    <tr>\n",
       "      <th>680</th>\n",
       "      <td>it might surprise some to know that joel and e...</td>\n",
       "      <td>1</td>\n",
       "    </tr>\n",
       "    <tr>\n",
       "      <th>212</th>\n",
       "      <td>when bulworth ended , i allowed myself a sigh ...</td>\n",
       "      <td>1</td>\n",
       "    </tr>\n",
       "    <tr>\n",
       "      <th>157</th>\n",
       "      <td>richard linklater's \" slacker , \" made in 1991...</td>\n",
       "      <td>1</td>\n",
       "    </tr>\n",
       "    <tr>\n",
       "      <th>1242</th>\n",
       "      <td>\" first rule of fight club is , don't talk ab...</td>\n",
       "      <td>0</td>\n",
       "    </tr>\n",
       "  </tbody>\n",
       "</table>\n",
       "</div>"
      ],
      "text/plain": [
       "                                                   text  lable\n",
       "782    \" i would appreciate it if you didn't do that...      0\n",
       "680   it might surprise some to know that joel and e...      1\n",
       "212   when bulworth ended , i allowed myself a sigh ...      1\n",
       "157   richard linklater's \" slacker , \" made in 1991...      1\n",
       "1242   \" first rule of fight club is , don't talk ab...      0"
      ]
     },
     "execution_count": 115,
     "metadata": {},
     "output_type": "execute_result"
    }
   ],
   "source": [
    "train_data.sample(5)"
   ]
  },
  {
   "cell_type": "markdown",
   "metadata": {},
   "source": [
    "The next step is to put the raw texts into Python lists and their corresponding labels into NumPy arrays:\n"
   ]
  },
  {
   "cell_type": "code",
   "execution_count": 116,
   "metadata": {
    "ExecuteTime": {
     "end_time": "2020-02-15T14:17:31.115577Z",
     "start_time": "2020-02-15T14:17:31.108038Z"
    }
   },
   "outputs": [
    {
     "data": {
      "text/plain": [
       "200"
      ]
     },
     "execution_count": 116,
     "metadata": {},
     "output_type": "execute_result"
    }
   ],
   "source": [
    "train_data_text = train_data['text'].tolist()\n",
    "train_data_label = train_data['lable'].to_numpy()\n",
    "\n",
    "val_data_text = val_data['text'].tolist()\n",
    "val_data_label = val_data['lable'].to_numpy()\n",
    "\n",
    "test_data_text = test_data['text'].tolist()\n",
    "test_data_label = test_data['lable'].to_numpy()\n",
    "\n",
    "len(val_data_text)"
   ]
  },
  {
   "cell_type": "code",
   "execution_count": 117,
   "metadata": {},
   "outputs": [
    {
     "data": {
      "text/plain": [
       "array([1, 1, 1, 1, 1, 1, 1, 1, 1, 1, 1, 1, 1, 1, 1, 1, 1, 1, 1, 1, 1, 1,\n",
       "       1, 1, 1, 1, 1, 1, 1, 1, 1, 1, 1, 1, 1, 1, 1, 1, 1, 1, 1, 1, 1, 1,\n",
       "       1, 1, 1, 1, 1, 1, 1, 1, 1, 1, 1, 1, 1, 1, 1, 1, 1, 1, 1, 1, 1, 1,\n",
       "       1, 1, 1, 1, 1, 1, 1, 1, 1, 1, 1, 1, 1, 1, 1, 1, 1, 1, 1, 1, 1, 1,\n",
       "       1, 1, 1, 1, 1, 1, 1, 1, 1, 1, 1, 1, 0, 0, 0, 0, 0, 0, 0, 0, 0, 0,\n",
       "       0, 0, 0, 0, 0, 0, 0, 0, 0, 0, 0, 0, 0, 0, 0, 0, 0, 0, 0, 0, 0, 0,\n",
       "       0, 0, 0, 0, 0, 0, 0, 0, 0, 0, 0, 0, 0, 0, 0, 0, 0, 0, 0, 0, 0, 0,\n",
       "       0, 0, 0, 0, 0, 0, 0, 0, 0, 0, 0, 0, 0, 0, 0, 0, 0, 0, 0, 0, 0, 0,\n",
       "       0, 0, 0, 0, 0, 0, 0, 0, 0, 0, 0, 0, 0, 0, 0, 0, 0, 0, 0, 0, 0, 0,\n",
       "       0, 0], dtype=int64)"
      ]
     },
     "execution_count": 117,
     "metadata": {},
     "output_type": "execute_result"
    }
   ],
   "source": [
    "val_data_label"
   ]
  },
  {
   "cell_type": "markdown",
   "metadata": {},
   "source": [
    "# Vector Representations of Text \n",
    "\n",
    "\n",
    "To train and test Logisitc Regression models, you first need to obtain vector representations for all documents given a vocabulary of features (unigrams, bigrams, trigrams).\n",
    "\n",
    "\n",
    "## Text Pre-Processing Pipeline\n",
    "\n",
    "To obtain a vocabulary of features, you should: \n",
    "- tokenise all texts into a list of unigrams (tip: using a regular expression) \n",
    "- remove stop words (using the one provided or one of your preference) \n",
    "- compute bigrams, trigrams given the remaining unigrams (or character ngrams from the unigrams)\n",
    "- remove ngrams appearing in less than K documents\n",
    "- use the remaining to create a vocabulary of unigrams, bigrams and trigrams (or character n-grams). You can keep top N if you encounter memory issues.\n"
   ]
  },
  {
   "cell_type": "code",
   "execution_count": null,
   "metadata": {},
   "outputs": [],
   "source": []
  },
  {
   "cell_type": "code",
   "execution_count": 118,
   "metadata": {
    "ExecuteTime": {
     "end_time": "2020-02-15T14:17:31.860420Z",
     "start_time": "2020-02-15T14:17:31.855439Z"
    }
   },
   "outputs": [],
   "source": [
    "stop_words = ['a','in','on','at','and','or', \n",
    "              'to', 'the', 'of', 'an', 'by', \n",
    "              'as', 'is', 'was', 'were', 'been', 'be', \n",
    "              'are','for', 'this', 'that', 'these', 'those', 'you', 'i',\n",
    "             'it', 'he', 'she', 'we', 'they', 'will', 'have', 'has',\n",
    "              'do', 'did', 'can', 'could', 'who', 'which', 'what', \n",
    "             'his', 'her', 'they', 'them', 'from', 'with', 'its']\n",
    "# care about the punctuation like ',' '--'"
   ]
  },
  {
   "cell_type": "markdown",
   "metadata": {},
   "source": [
    "### N-gram extraction from a document\n",
    "\n",
    "You first need to implement the `extract_ngrams` function. It takes as input:\n",
    "- `x_raw`: a string corresponding to the raw text of a document\n",
    "- `ngram_range`: a tuple of two integers denoting the type of ngrams you want to extract, e.g. (1,2) denotes extracting unigrams and bigrams.\n",
    "- `token_pattern`: a string to be used within a regular expression to extract all tokens. Note that data is already tokenised so you could opt for a simple white space tokenisation.\n",
    "- `stop_words`: a list of stop words\n",
    "- `vocab`: a given vocabulary. It should be used to extract specific features.\n",
    "- `char_ngrams`: boolean. If true the function extracts character n-grams\n",
    "\n",
    "and returns:\n",
    "\n",
    "- `x': a list of all extracted features.\n",
    "\n",
    "See the examples below to see how this function should work."
   ]
  },
  {
   "cell_type": "code",
   "execution_count": 6,
   "metadata": {
    "ExecuteTime": {
     "end_time": "2020-02-15T14:17:33.169090Z",
     "start_time": "2020-02-15T14:17:33.161268Z"
    }
   },
   "outputs": [],
   "source": [
    "def extract_ngrams(x_raw, ngram_range=(1,3), token_pattern=r'', \n",
    "                   stop_words=[], vocab=set(), char_ngrams=False):\n",
    "    \n",
    "    x = []\n",
    "    if(char_ngrams == False):        \n",
    "        k=0\n",
    "        for i,word in enumerate(split_text):\n",
    "            #if word in vocab:\n",
    "            temp = [word]\n",
    "            for j in range(ngram_range[0],ngram_range[1]):\n",
    "                temp.append(split_text[i:i+j+1])\n",
    "            x.append(temp)\n",
    "            k+=1\n",
    "    \n",
    "    else:\n",
    "        split_text = re.split(r'\\W*', x_raw)\n",
    "        for char in split_text:\n",
    "            if(char == ''):\n",
    "                split_text.remove(char)\n",
    "        \n",
    "        for i,char in enumerate(split_text):\n",
    "            for j in range(ngram_range[0],ngram_range[1]+1):\n",
    "                if(i+j<len(split_text)):\n",
    "                    x.append(''.join(split_text[i:i+j]))\n",
    "                \n",
    "        \n",
    "    return x\n",
    "\n",
    "\n"
   ]
  },
  {
   "cell_type": "code",
   "execution_count": 110,
   "metadata": {},
   "outputs": [],
   "source": [
    "x = dict()\n",
    "ngram_range = (1,3)\n",
    "split_text = re.split(r'\\W+', train_data_text[0])\n",
    "for word in split_text:\n",
    "    if word in stop_words:\n",
    "        split_text.remove(word)\n",
    "\n",
    "for i in range(ngram_range[0],ngram_range[1]+1):\n",
    "    x[i]=[]\n",
    "\n",
    "text = ''.join(split_text)\n",
    "split_text = re.split(r'\\W*', text)\n",
    "for char in split_text:\n",
    "    if(char == ''):\n",
    "        split_text.remove(char)\n",
    "        \n",
    "\n",
    "for i,char in enumerate(split_text):\n",
    "    for j in range(ngram_range[0],ngram_range[1]+1):\n",
    "        x[j].append(''.join(split_text[i:i+j]))"
   ]
  },
  {
   "cell_type": "code",
   "execution_count": 32,
   "metadata": {},
   "outputs": [],
   "source": [
    "x = dict()\n",
    "ngram_range = (1,3)\n",
    "split_text = re.split(r'\\W+', train_data_text[0])\n",
    "for word in split_text:\n",
    "    if word in stop_words:\n",
    "        split_text.remove(word)\n",
    "for i in range(ngram_range[0],ngram_range[1]+1):\n",
    "    x[i]=[]\n",
    "for i,word in enumerate(split_text):\n",
    "    for j in range(ngram_range[0],ngram_range[1]+1):\n",
    "        x[j].append(' '.join(split_text[i:i+j])) \n"
   ]
  },
  {
   "cell_type": "code",
   "execution_count": 6,
   "metadata": {},
   "outputs": [],
   "source": [
    "def extract_ngrams_list(x_raw, ngram_range=(1,3), token_pattern=r'', \n",
    "                   stop_words=[], vocab=set(), char_ngrams=False):\n",
    "    \n",
    "    x_dict = dict()\n",
    "    x = []\n",
    "    x_temp = []\n",
    "    for i in range(ngram_range[0],ngram_range[1]+1):\n",
    "        x_dict[i]=[]\n",
    "    \n",
    "    split_text = re.split(r'\\W+',x_raw)\n",
    "    for word in split_text:\n",
    "        if word in stop_words:\n",
    "            split_text.remove(word)\n",
    "\n",
    "    if(char_ngrams == False):\n",
    "        for i,word in enumerate(split_text):\n",
    "            for j in range(ngram_range[0],ngram_range[1]+1):\n",
    "                x_dict[j].append(' '.join(split_text[i:i+j]))\n",
    "        for key,values in x_dict.items():\n",
    "            x_temp.append(values)        \n",
    "\n",
    "    else:\n",
    "        text = ''.join(split_text)\n",
    "        split_text = re.split(r'\\W*', text)\n",
    "        for char in split_text:\n",
    "            if(char == ''):\n",
    "                split_text.remove(char)\n",
    "\n",
    "        for i,char in enumerate(split_text):\n",
    "            for j in range(ngram_range[0],ngram_range[1]+1):\n",
    "                x_dict[j].append(''.join(split_text[i:i+j]))\n",
    "                \n",
    "        for key,values in x_dict.items():\n",
    "            x_temp.append(values)\n",
    "        \n",
    "    x_temp = [i for k in x_temp for i in k]\n",
    "    if len(vocab)>0:\n",
    "        for voc in x_temp:\n",
    "            if voc in vocab:\n",
    "                x.append(voc)\n",
    "    else:\n",
    "        x = x_temp \n",
    "                \n",
    "        \n",
    "    return x"
   ]
  },
  {
   "cell_type": "code",
   "execution_count": 17,
   "metadata": {},
   "outputs": [],
   "source": [
    "ngram_range = (1,3)\n",
    "split_text = re.split(r'\\W*', train_data_text[0])\n",
    "for char in split_text:\n",
    "    if(char == ''):\n",
    "        split_text.remove(char)\n",
    "\n",
    "xx = dict()\n",
    "for i in range(ngram_range[0],ngram_range[1]+1):\n",
    "    xx[i]=[]\n",
    "for i,word in enumerate(split_text):\n",
    "    for j in range(ngram_range[0],ngram_range[1]+1):\n",
    "            xx[j].append(''.join(split_text[i:i+j]))\n"
   ]
  },
  {
   "cell_type": "markdown",
   "metadata": {},
   "source": [
    "Note that it is OK to represent n-grams using lists instead of tuples: e.g. `['great', ['great', 'movie']]`"
   ]
  },
  {
   "cell_type": "markdown",
   "metadata": {},
   "source": [
    "For extracting character n-grams the function should work as follows:"
   ]
  },
  {
   "cell_type": "code",
   "execution_count": null,
   "metadata": {},
   "outputs": [],
   "source": [
    "extract_ngrams(\"movie\", \n",
    "               ngram_range=(2,4), \n",
    "               stop_words=[],\n",
    "               char_ngrams=True)"
   ]
  },
  {
   "cell_type": "markdown",
   "metadata": {},
   "source": [
    "### Create a vocabulary \n",
    "\n",
    "The `get_vocab` function will be used to (1) create a vocabulary of ngrams; (2) count the document frequencies of ngrams; (3) their raw frequency. It takes as input:\n",
    "- `X_raw`: a list of strings each corresponding to the raw text of a document\n",
    "- `ngram_range`: a tuple of two integers denoting the type of ngrams you want to extract, e.g. (1,2) denotes extracting unigrams and bigrams.\n",
    "- `token_pattern`: a string to be used within a regular expression to extract all tokens. Note that data is already tokenised so you could opt for a simple white space tokenisation.\n",
    "- `stop_words`: a list of stop words\n",
    "- `min_df`: keep ngrams with a minimum document frequency.\n",
    "- `keep_topN`: keep top-N more frequent ngrams.\n",
    "\n",
    "and returns:\n",
    "\n",
    "- `vocab`: a set of the n-grams that will be used as features.\n",
    "- `df`: a Counter (or dict) that contains ngrams as keys and their corresponding document frequency as values.\n",
    "- `ngram_counts`: counts of each ngram in vocab\n",
    "\n",
    "Hint: it should make use of the `extract_ngrams` function."
   ]
  },
  {
   "cell_type": "code",
   "execution_count": 44,
   "metadata": {
    "ExecuteTime": {
     "end_time": "2020-02-15T14:17:35.821240Z",
     "start_time": "2020-02-15T14:17:35.814722Z"
    }
   },
   "outputs": [],
   "source": [
    "def get_vocab_dict(X_raw, ngram_range=(1,3), token_pattern=r'', \n",
    "              min_df=0, keep_topN=0, \n",
    "              stop_words=[],char_ngrams=False):\n",
    "    \n",
    "    ngram_counts = dict()\n",
    "    ngram_counts_temp = dict()\n",
    "    df = dict()\n",
    "    df_temp = dict()\n",
    "    ngrams = []\n",
    "    vocab = dict()\n",
    "\n",
    "    for i in range(ngram_range[0],ngram_range[1]+1):\n",
    "        ngram_counts_temp[i] = []\n",
    "        ngram_counts[i]=[]\n",
    "        df_temp[i] =[]\n",
    "        df[i] = []\n",
    "        vocab[i]=[]\n",
    "        \n",
    "    for text in X_raw:\n",
    "        split_text = re.split(r'\\W+',text)\n",
    "        for word in split_text:\n",
    "            if word in stop_words:\n",
    "                split_text.remove(word)\n",
    "        \n",
    "        docs = extract_ngrams_dict(split_text,ngram_range,token_pattern=r'\\W*',char_ngrams=char_ngrams)\n",
    "        for i in range(ngram_range[0],ngram_range[1]+1):\n",
    "            ngram_counts_temp[i] += docs[i]\n",
    "            df_temp[i] += set(docs[i])\n",
    "        \n",
    "    for i in range(ngram_range[0],ngram_range[1]+1):\n",
    "        ngram_counts[i] = Counter(ngram_counts_temp[i])\n",
    "        temp = Counter(df_temp[i])\n",
    "        for ngram,num in dict(temp).items():\n",
    "            if num < min_df:\n",
    "                temp.pop(ngram)\n",
    "                ngram_counts[i].pop(ngram)\n",
    "        df[i]=temp\n",
    "        vocab[i]=list(df[i].keys())\n",
    "    \n",
    "    \n",
    "    return vocab, df, ngram_counts"
   ]
  },
  {
   "cell_type": "code",
   "execution_count": 7,
   "metadata": {},
   "outputs": [],
   "source": [
    "def get_vocab_list(X_raw, ngram_range=(1,3), token_pattern=r'', \n",
    "              min_df=0, keep_topN=0, \n",
    "              stop_words=[],char_ngrams=False):\n",
    "    \n",
    "    df = []\n",
    "    df_save =[]\n",
    "    ngram_counts_temp = []\n",
    "    vocab = []\n",
    "\n",
    "    for text in X_raw:\n",
    "        docs = extract_ngrams_list(text,ngram_range,stop_words =stop_words,char_ngrams=char_ngrams)\n",
    "        ngram_counts_temp.append(docs)\n",
    "        df_save.append(set(docs)) \n",
    "\n",
    "    df_save = [i for k in df_save for i in k]\n",
    "    ngram_counts_temp = [i for k in ngram_counts_temp for i in k]\n",
    "    ngram_counts = Counter(ngram_counts_temp)\n",
    "    temp = Counter(df_save)\n",
    "    for ngram,num in dict(temp).items():\n",
    "        if num < min_df:\n",
    "            temp.pop(ngram)\n",
    "            ngram_counts.pop(ngram)\n",
    "        if num == len(X_raw):\n",
    "            temp.pop(ngram)\n",
    "            ngram_counts.pop(ngram)\n",
    "    df=temp\n",
    "    vocab=list(df.keys())\n",
    "    \n",
    "    \n",
    "    return vocab, df, ngram_counts"
   ]
  },
  {
   "cell_type": "code",
   "execution_count": 49,
   "metadata": {},
   "outputs": [
    {
     "data": {
      "text/plain": [
       "['s', 'e', 'c']"
      ]
     },
     "execution_count": 49,
     "metadata": {},
     "output_type": "execute_result"
    }
   ],
   "source": [
    "l = ['s',['e'],['c']]\n",
    "b =[]\n",
    "for _ in l:\n",
    "    b += _\n",
    "b"
   ]
  },
  {
   "cell_type": "code",
   "execution_count": null,
   "metadata": {},
   "outputs": [],
   "source": [
    "    if(char_ngrams == False):\n",
    "        token_pattern = r'\\W+'\n",
    "    else:\n",
    "        token_pattern = r'\\W*'"
   ]
  },
  {
   "cell_type": "code",
   "execution_count": 97,
   "metadata": {},
   "outputs": [
    {
     "data": {
      "text/plain": [
       "'schreck nosferatu using'"
      ]
     },
     "execution_count": 97,
     "metadata": {},
     "output_type": "execute_result"
    }
   ],
   "source": [
    "ngram_counts_temp=[]\n",
    "split_text = re.split(r'\\W+',train_data_text[0])\n",
    "for word in split_text:\n",
    "    if word in stop_words:\n",
    "        split_text.remove(word)\n",
    "\n",
    "docs = extract_ngrams_dict(split_text,ngram_range,token_pattern=r'\\W*',char_ngrams=False)\n",
    "ngram_counts_temp.append(docs)\n",
    "ngram_counts_temp[0][2003]"
   ]
  },
  {
   "cell_type": "code",
   "execution_count": 21,
   "metadata": {},
   "outputs": [
    {
     "data": {
      "text/plain": [
       "'ali'"
      ]
     },
     "execution_count": 21,
     "metadata": {},
     "output_type": "execute_result"
    }
   ],
   "source": [
    "\n",
    "docs = extract_ngrams_list(train_data_text[0],ngram_range,char_ngrams=True)\n",
    "\n",
    "docs[6000]"
   ]
  },
  {
   "cell_type": "code",
   "execution_count": 73,
   "metadata": {},
   "outputs": [
    {
     "name": "stdout",
     "output_type": "stream",
     "text": [
      "18060\n",
      "18060\n",
      "18060\n"
     ]
    }
   ],
   "source": [
    "# contain the number!!!!  keep_topN\n",
    "ngram_range = (2,4)\n",
    "\n",
    "df = []\n",
    "df_save =[]\n",
    "ngram_counts_temp = []\n",
    "vocab = []\n",
    "            \n",
    "for text in train_data_text:\n",
    "    split_text = re.split(r'\\W+',text)\n",
    "    for word in split_text:\n",
    "        if word in stop_words:\n",
    "            split_text.remove(word)\n",
    "            \n",
    "    docs = extract_ngrams_dict(split_text,ngram_range,token_pattern=r'\\W*',char_ngrams=True)\n",
    "    ngram_counts_temp.append(docs)\n",
    "    df_save.append(set(docs)) \n",
    "        \n",
    "df_save = [i for k in df_save for i in k]\n",
    "ngram_counts_temp = [i for k in ngram_counts_temp for i in k]\n",
    "ngram_counts = Counter(ngram_counts_temp)\n",
    "temp = Counter(df_save)\n",
    "for ngram,num in dict(temp).items():\n",
    "    if num < 50:\n",
    "        temp.pop(ngram)\n",
    "        ngram_counts.pop(ngram)\n",
    "df=temp\n",
    "vocab=list(df.keys())\n",
    "\n",
    "\n",
    "print(len(df))\n",
    "print(len(ngram_counts))\n",
    "print(len(vocab))"
   ]
  },
  {
   "cell_type": "markdown",
   "metadata": {},
   "source": [
    "Now you should use `get_vocab` to create your vocabulary and get document and raw frequencies of n-grams:"
   ]
  },
  {
   "cell_type": "code",
   "execution_count": 119,
   "metadata": {
    "ExecuteTime": {
     "end_time": "2020-02-15T14:17:39.319793Z",
     "start_time": "2020-02-15T14:17:36.836545Z"
    }
   },
   "outputs": [
    {
     "data": {
      "text/plain": [
       "2036"
      ]
     },
     "execution_count": 119,
     "metadata": {},
     "output_type": "execute_result"
    }
   ],
   "source": [
    "ngram_range=(1,3)\n",
    "min_df = 50\n",
    "char_ngrams=False\n",
    "vocab,df,ngram_counts = get_vocab_list(train_data_text, ngram_range=ngram_range, min_df=min_df,keep_topN=0,stop_words=stop_words,char_ngrams=char_ngrams)\n",
    "len(vocab)  \n",
    "# (1,3) word 20 5421\n",
    "# (1,3) word 50 2034\n",
    "#(2,4) char 50 18060\n",
    "#(2,4) char 100 11038"
   ]
  },
  {
   "cell_type": "code",
   "execution_count": 10,
   "metadata": {},
   "outputs": [
    {
     "data": {
      "text/plain": [
       "Counter({'important': 129,\n",
       "         'every': 483,\n",
       "         'often': 215,\n",
       "         'keep': 214,\n",
       "         'offer': 71,\n",
       "         'but s': 203,\n",
       "         's all': 87,\n",
       "         'appears': 140,\n",
       "         'we': 292,\n",
       "         'looking': 266,\n",
       "         'many': 561,\n",
       "         'age': 123,\n",
       "         'bad': 549,\n",
       "         'clever': 110,\n",
       "         'one': 1246,\n",
       "         'that': 801,\n",
       "         'happens': 160,\n",
       "         'already': 176,\n",
       "         'scene': 555,\n",
       "         'mr': 110,\n",
       "         'system': 65,\n",
       "         'likable': 52,\n",
       "         'cinematography': 91,\n",
       "         'front': 88,\n",
       "         't': 1175,\n",
       "         'ones': 106,\n",
       "         'a': 1383,\n",
       "         'his': 1045,\n",
       "         'one s': 51,\n",
       "         'couldn t': 118,\n",
       "         'close': 162,\n",
       "         'him': 789,\n",
       "         'helps': 52,\n",
       "         'the film': 818,\n",
       "         'edge': 64,\n",
       "         'into a': 138,\n",
       "         'note': 155,\n",
       "         'called': 237,\n",
       "         'overall': 98,\n",
       "         'while': 677,\n",
       "         'same': 444,\n",
       "         'virtually': 68,\n",
       "         'computer': 126,\n",
       "         'film the': 173,\n",
       "         'protagonist': 51,\n",
       "         'black': 215,\n",
       "         'once': 354,\n",
       "         'over': 629,\n",
       "         'through': 579,\n",
       "         '000': 71,\n",
       "         'original': 297,\n",
       "         'complex': 94,\n",
       "         'good': 824,\n",
       "         'other': 773,\n",
       "         'directors': 76,\n",
       "         'cool': 119,\n",
       "         'isn t': 441,\n",
       "         'matter': 186,\n",
       "         'away': 349,\n",
       "         'friends': 195,\n",
       "         'which': 371,\n",
       "         'nature': 113,\n",
       "         'opening': 180,\n",
       "         'two': 751,\n",
       "         'while the': 77,\n",
       "         'the picture': 58,\n",
       "         'time': 874,\n",
       "         'up': 1020,\n",
       "         'different': 237,\n",
       "         'see': 690,\n",
       "         'equally': 66,\n",
       "         's one': 74,\n",
       "         'example': 192,\n",
       "         'moment': 180,\n",
       "         'least': 370,\n",
       "         'you': 493,\n",
       "         'on': 271,\n",
       "         'than': 911,\n",
       "         'work': 498,\n",
       "         'immediately': 108,\n",
       "         'go': 520,\n",
       "         'goes': 370,\n",
       "         'reasons': 89,\n",
       "         'admit': 77,\n",
       "         'the screen': 75,\n",
       "         'constant': 58,\n",
       "         'know': 541,\n",
       "         'really': 586,\n",
       "         'voice': 143,\n",
       "         's also': 105,\n",
       "         'approach': 82,\n",
       "         'me': 551,\n",
       "         'throughout': 182,\n",
       "         'picture': 285,\n",
       "         'brain': 54,\n",
       "         'always': 314,\n",
       "         'technical': 63,\n",
       "         'the': 1396,\n",
       "         'screen': 403,\n",
       "         'm': 336,\n",
       "         'put': 264,\n",
       "         'life': 582,\n",
       "         'finding': 52,\n",
       "         'being': 606,\n",
       "         'not so': 71,\n",
       "         'matters': 52,\n",
       "         's more': 63,\n",
       "         'he': 659,\n",
       "         'less': 266,\n",
       "         'allow': 54,\n",
       "         'pick': 55,\n",
       "         's a': 259,\n",
       "         'language': 71,\n",
       "         'not': 1169,\n",
       "         'do': 471,\n",
       "         'credit': 84,\n",
       "         'get': 768,\n",
       "         'future': 119,\n",
       "         'development': 76,\n",
       "         'the most': 240,\n",
       "         'real': 441,\n",
       "         'be': 1014,\n",
       "         'high': 304,\n",
       "         'bit': 294,\n",
       "         'since': 399,\n",
       "         'into': 919,\n",
       "         'itself': 244,\n",
       "         'focus': 98,\n",
       "         'want': 313,\n",
       "         'character s': 67,\n",
       "         'following': 113,\n",
       "         'every scene': 52,\n",
       "         'also': 755,\n",
       "         'number': 128,\n",
       "         'believes': 54,\n",
       "         'succeeds': 52,\n",
       "         'my': 530,\n",
       "         'show': 324,\n",
       "         'its': 554,\n",
       "         'hasn t': 69,\n",
       "         'apartment': 57,\n",
       "         'never': 583,\n",
       "         'our': 289,\n",
       "         'more': 1039,\n",
       "         'down': 491,\n",
       "         'would': 775,\n",
       "         'sean': 55,\n",
       "         'shots': 110,\n",
       "         'information': 58,\n",
       "         'made': 536,\n",
       "         'direction': 171,\n",
       "         'year': 419,\n",
       "         'body': 149,\n",
       "         'truly': 163,\n",
       "         'self': 181,\n",
       "         'onto': 74,\n",
       "         'lead': 157,\n",
       "         'the film s': 178,\n",
       "         'way': 707,\n",
       "         'one point': 53,\n",
       "         'mysterious': 80,\n",
       "         'white': 158,\n",
       "         'horror': 166,\n",
       "         'and': 474,\n",
       "         'most': 850,\n",
       "         'case': 240,\n",
       "         'entire': 240,\n",
       "         'to': 768,\n",
       "         'under': 200,\n",
       "         've': 394,\n",
       "         'point': 351,\n",
       "         'this': 1006,\n",
       "         'how': 621,\n",
       "         'character': 742,\n",
       "         'lives': 186,\n",
       "         'creates': 62,\n",
       "         'latter': 72,\n",
       "         'care about': 52,\n",
       "         'there s': 437,\n",
       "         '1998': 77,\n",
       "         'knowledge': 50,\n",
       "         'more than': 323,\n",
       "         'kind': 299,\n",
       "         'in': 672,\n",
       "         'so': 1046,\n",
       "         'tone': 94,\n",
       "         'fun': 310,\n",
       "         'hasn': 69,\n",
       "         'gone': 118,\n",
       "         'plot': 645,\n",
       "         'win': 75,\n",
       "         'couldn': 118,\n",
       "         'films': 577,\n",
       "         'may': 394,\n",
       "         'element': 89,\n",
       "         'single': 155,\n",
       "         'events': 102,\n",
       "         'going': 452,\n",
       "         'create': 114,\n",
       "         'involved': 151,\n",
       "         're': 475,\n",
       "         'film s': 341,\n",
       "         'early': 180,\n",
       "         'care': 179,\n",
       "         'particularly': 154,\n",
       "         'anything': 351,\n",
       "         'an': 935,\n",
       "         'otherwise': 100,\n",
       "         'using': 130,\n",
       "         'incredibly': 86,\n",
       "         's not': 335,\n",
       "         'great': 499,\n",
       "         'convincing': 88,\n",
       "         'among': 142,\n",
       "         'occasionally': 69,\n",
       "         'machine': 71,\n",
       "         'still': 496,\n",
       "         'does': 665,\n",
       "         'both': 438,\n",
       "         'i m': 79,\n",
       "         'no': 844,\n",
       "         'beautiful': 166,\n",
       "         'simple': 167,\n",
       "         'any': 663,\n",
       "         'real life': 71,\n",
       "         'so much': 169,\n",
       "         'but': 1333,\n",
       "         'share': 73,\n",
       "         'consider': 66,\n",
       "         'realistic': 74,\n",
       "         'modern': 89,\n",
       "         'isn': 441,\n",
       "         'far': 354,\n",
       "         'reality': 85,\n",
       "         'attempts': 130,\n",
       "         'journey': 54,\n",
       "         'doubt': 104,\n",
       "         'like': 1043,\n",
       "         'overly': 51,\n",
       "         'because': 633,\n",
       "         'all': 1116,\n",
       "         'much': 801,\n",
       "         's': 1376,\n",
       "         'genius': 52,\n",
       "         'scenes': 535,\n",
       "         'perhaps': 271,\n",
       "         'as': 393,\n",
       "         'puts': 81,\n",
       "         'out': 1079,\n",
       "         'story': 766,\n",
       "         'mood': 53,\n",
       "         'his character': 97,\n",
       "         'day': 331,\n",
       "         'if': 938,\n",
       "         'for': 348,\n",
       "         'series': 232,\n",
       "         'sequence': 188,\n",
       "         'film': 1230,\n",
       "         'disturbing': 62,\n",
       "         'the year': 58,\n",
       "         'about': 1009,\n",
       "         'take': 464,\n",
       "         'key': 96,\n",
       "         'particular': 95,\n",
       "         'score': 129,\n",
       "         'scenes the': 50,\n",
       "         'there': 1045,\n",
       "         're not': 64,\n",
       "         'takes': 381,\n",
       "         'sense': 300,\n",
       "         'i': 617,\n",
       "         'difference': 57,\n",
       "         'stop': 161,\n",
       "         'a film': 185,\n",
       "         'were': 230,\n",
       "         'uses': 122,\n",
       "         'plain': 55,\n",
       "         'central': 83,\n",
       "         'some': 964,\n",
       "         'effective': 121,\n",
       "         'one day': 79,\n",
       "         'then': 612,\n",
       "         'price': 50,\n",
       "         'nothing': 418,\n",
       "         'basically': 133,\n",
       "         'few': 493,\n",
       "         'david': 185,\n",
       "         'where': 657,\n",
       "         'are': 651,\n",
       "         'due': 127,\n",
       "         'less than': 65,\n",
       "         'make': 708,\n",
       "         'completely': 256,\n",
       "         'guys': 153,\n",
       "         'pretty': 285,\n",
       "         'what': 418,\n",
       "         'avoid': 62,\n",
       "         'bottom': 65,\n",
       "         'little': 651,\n",
       "         'it': 944,\n",
       "         'the character': 72,\n",
       "         'human': 214,\n",
       "         'school': 161,\n",
       "         'given': 291,\n",
       "         'old': 416,\n",
       "         'was': 711,\n",
       "         'terrible': 85,\n",
       "         'have': 731,\n",
       "         'relationships': 50,\n",
       "         'best friend': 52,\n",
       "         'girls': 65,\n",
       "         'leads': 134,\n",
       "         'it is': 155,\n",
       "         'job': 289,\n",
       "         'is': 1168,\n",
       "         'together': 283,\n",
       "         'friend': 216,\n",
       "         'offers': 82,\n",
       "         'probably': 290,\n",
       "         'strength': 50,\n",
       "         'had': 620,\n",
       "         'the real': 65,\n",
       "         'word': 124,\n",
       "         'enough': 475,\n",
       "         'well': 761,\n",
       "         'despite': 197,\n",
       "         'the best': 196,\n",
       "         'city': 179,\n",
       "         'can be': 56,\n",
       "         'must': 334,\n",
       "         'the fact': 94,\n",
       "         'is a': 378,\n",
       "         'between the': 84,\n",
       "         'hell': 136,\n",
       "         'line': 256,\n",
       "         'ben': 80,\n",
       "         'seen': 457,\n",
       "         'late': 148,\n",
       "         'career': 146,\n",
       "         'somewhere': 81,\n",
       "         'say': 415,\n",
       "         'movie': 1095,\n",
       "         'doesn t': 591,\n",
       "         'fascinating': 62,\n",
       "         'right': 423,\n",
       "         'will': 384,\n",
       "         'all the': 257,\n",
       "         'main': 233,\n",
       "         'watching': 287,\n",
       "         'robin': 85,\n",
       "         'begin': 122,\n",
       "         'acted': 51,\n",
       "         'tough': 74,\n",
       "         'government': 61,\n",
       "         'before': 511,\n",
       "         'street': 82,\n",
       "         'can': 632,\n",
       "         'knows': 160,\n",
       "         'witty': 58,\n",
       "         'cold': 103,\n",
       "         'fact': 422,\n",
       "         'better': 496,\n",
       "         'buy': 64,\n",
       "         'performances': 247,\n",
       "         'perfect': 175,\n",
       "         'their own': 101,\n",
       "         'best': 605,\n",
       "         'but it': 105,\n",
       "         'ever': 418,\n",
       "         'die': 126,\n",
       "         'a little': 180,\n",
       "         'student': 63,\n",
       "         'they': 514,\n",
       "         'the scenes': 67,\n",
       "         'your': 398,\n",
       "         'though': 445,\n",
       "         's good': 51,\n",
       "         'just a': 78,\n",
       "         'starts': 187,\n",
       "         'roles': 167,\n",
       "         'back': 510,\n",
       "         've seen': 121,\n",
       "         'class': 100,\n",
       "         'van': 73,\n",
       "         'somehow': 127,\n",
       "         'order': 170,\n",
       "         't even': 137,\n",
       "         'turn': 209,\n",
       "         'yes': 153,\n",
       "         'discovers': 78,\n",
       "         'slightly': 95,\n",
       "         'phone': 53,\n",
       "         'named': 216,\n",
       "         'recently': 93,\n",
       "         'ways': 140,\n",
       "         'forget': 79,\n",
       "         'performance': 402,\n",
       "         'down the': 51,\n",
       "         'find': 402,\n",
       "         'williams': 82,\n",
       "         'intriguing': 60,\n",
       "         'even though': 136,\n",
       "         'feel': 276,\n",
       "         'makes': 500,\n",
       "         'could': 344,\n",
       "         'very good': 99,\n",
       "         'likely': 106,\n",
       "         'quick': 97,\n",
       "         'usually': 143,\n",
       "         'll': 305,\n",
       "         'not a': 125,\n",
       "         'when': 1008,\n",
       "         'such': 557,\n",
       "         'problem': 241,\n",
       "         'recommend': 77,\n",
       "         'after': 752,\n",
       "         'top': 222,\n",
       "         'here': 575,\n",
       "         'sounds': 85,\n",
       "         'college': 74,\n",
       "         'younger': 62,\n",
       "         'total': 53,\n",
       "         'kid': 104,\n",
       "         'war': 130,\n",
       "         'feels': 136,\n",
       "         'can t': 219,\n",
       "         'musical': 66,\n",
       "         'this is': 152,\n",
       "         'brought': 105,\n",
       "         'own': 408,\n",
       "         'winning': 77,\n",
       "         'award': 60,\n",
       "         'funny': 342,\n",
       "         'subtle': 94,\n",
       "         'talk': 134,\n",
       "         'too': 658,\n",
       "         'acting': 369,\n",
       "         's really': 52,\n",
       "         'various': 88,\n",
       "         'had a': 59,\n",
       "         'getting': 231,\n",
       "         'doesn': 591,\n",
       "         'just': 924,\n",
       "         'come': 425,\n",
       "         'working': 131,\n",
       "         'seeing': 216,\n",
       "         'highly': 90,\n",
       "         'lover': 63,\n",
       "         'easy': 121,\n",
       "         'ever seen': 67,\n",
       "         'likes': 61,\n",
       "         'review': 173,\n",
       "         'couple': 217,\n",
       "         'off the': 93,\n",
       "         'movies': 499,\n",
       "         'excellent': 97,\n",
       "         'has': 629,\n",
       "         'some the': 152,\n",
       "         'problems': 173,\n",
       "         'intelligent': 114,\n",
       "         'fall': 152,\n",
       "         'even': 898,\n",
       "         'deep': 114,\n",
       "         've ever': 50,\n",
       "         'script': 388,\n",
       "         'british': 68,\n",
       "         'law': 90,\n",
       "         'possible': 153,\n",
       "         'off': 694,\n",
       "         'small': 240,\n",
       "         'meets': 130,\n",
       "         'between': 471,\n",
       "         'chance': 131,\n",
       "         'needs': 133,\n",
       "         'nobody': 57,\n",
       "         'course': 344,\n",
       "         'accept': 51,\n",
       "         'heavy': 99,\n",
       "         'love': 447,\n",
       "         'part': 371,\n",
       "         'match': 58,\n",
       "         'anti': 53,\n",
       "         'part the': 74,\n",
       "         'very': 690,\n",
       "         'serious': 128,\n",
       "         'talking': 116,\n",
       "         'their': 898,\n",
       "         'sound': 141,\n",
       "         'mostly': 147,\n",
       "         'later': 234,\n",
       "         'against': 216,\n",
       "         'audience': 436,\n",
       "         'production': 176,\n",
       "         'cliches': 57,\n",
       "         'o': 118,\n",
       "         'survive': 51,\n",
       "         'bloody': 51,\n",
       "         'impressive': 147,\n",
       "         'death': 210,\n",
       "         'by': 187,\n",
       "         'fire': 86,\n",
       "         'times': 312,\n",
       "         'return': 107,\n",
       "         'began': 53,\n",
       "         'very little': 67,\n",
       "         'actors': 376,\n",
       "         'simply': 224,\n",
       "         'thought': 240,\n",
       "         'definitely': 116,\n",
       "         'money': 249,\n",
       "         'years ago': 66,\n",
       "         'years': 425,\n",
       "         'hero': 137,\n",
       "         'cinema': 118,\n",
       "         'managed': 58,\n",
       "         'played': 383,\n",
       "         'man': 584,\n",
       "         'cover': 66,\n",
       "         'actually': 396,\n",
       "         'boys': 58,\n",
       "         'worst': 162,\n",
       "         'nor': 115,\n",
       "         'don t': 551,\n",
       "         'although': 364,\n",
       "         'bond': 61,\n",
       "         'don': 575,\n",
       "         'manage': 60,\n",
       "         'pay': 79,\n",
       "         'power': 135,\n",
       "         'same time': 68,\n",
       "         'become': 280,\n",
       "         'believable': 82,\n",
       "         'piece': 159,\n",
       "         'bad guys': 56,\n",
       "         'intended': 66,\n",
       "         'turns': 228,\n",
       "         'lots': 79,\n",
       "         'bruce': 77,\n",
       "         'gore': 58,\n",
       "         'damn': 59,\n",
       "         'century': 75,\n",
       "         'is also': 55,\n",
       "         'young': 358,\n",
       "         'john': 355,\n",
       "         'in the': 233,\n",
       "         'a real': 55,\n",
       "         'alone': 133,\n",
       "         'himself': 348,\n",
       "         'end': 524,\n",
       "         'action': 409,\n",
       "         'pleasure': 52,\n",
       "         'plays': 409,\n",
       "         'guns': 52,\n",
       "         'car': 163,\n",
       "         'huge': 109,\n",
       "         'asked': 66,\n",
       "         'his own': 101,\n",
       "         'm not': 105,\n",
       "         'ago': 127,\n",
       "         'hollywood': 262,\n",
       "         'asks': 72,\n",
       "         'the end': 248,\n",
       "         'fighting': 64,\n",
       "         '100': 53,\n",
       "         'sister': 76,\n",
       "         'fan': 92,\n",
       "         'nothing more': 72,\n",
       "         'today': 97,\n",
       "         'hand': 203,\n",
       "         'flick': 121,\n",
       "         'obvious': 182,\n",
       "         'over the': 115,\n",
       "         'used': 222,\n",
       "         'army': 52,\n",
       "         'cheap': 76,\n",
       "         'lines': 193,\n",
       "         'comic': 190,\n",
       "         'comic relief': 50,\n",
       "         'lack': 148,\n",
       "         'those': 310,\n",
       "         'jim': 92,\n",
       "         'whole': 271,\n",
       "         'extremely': 148,\n",
       "         'entertaining': 188,\n",
       "         'aside': 80,\n",
       "         'necessary': 61,\n",
       "         'predictable': 109,\n",
       "         'whether': 135,\n",
       "         'worse': 152,\n",
       "         'spectacular': 54,\n",
       "         'wants': 275,\n",
       "         'but still': 72,\n",
       "         'james': 215,\n",
       "         'thin': 77,\n",
       "         'presence': 124,\n",
       "         'gun': 84,\n",
       "         'bring': 147,\n",
       "         'based': 259,\n",
       "         'lee': 107,\n",
       "         'liked': 93,\n",
       "         'the worst': 59,\n",
       "         'mission': 83,\n",
       "         'typical': 88,\n",
       "         'relief': 64,\n",
       "         'villain': 107,\n",
       "         'other hand': 65,\n",
       "         'shoot': 72,\n",
       "         'only': 922,\n",
       "         'guy': 296,\n",
       "         'natural': 60,\n",
       "         'running': 195,\n",
       "         'including': 200,\n",
       "         'police': 122,\n",
       "         'actor': 285,\n",
       "         'enjoyed': 67,\n",
       "         't like': 52,\n",
       "         'terrific': 71,\n",
       "         'new': 524,\n",
       "         'us': 450,\n",
       "         'shame': 50,\n",
       "         'business': 119,\n",
       "         'appreciate': 61,\n",
       "         'hands': 89,\n",
       "         'nothing more than': 59,\n",
       "         'director': 624,\n",
       "         'up the': 148,\n",
       "         'genre': 147,\n",
       "         'personal': 102,\n",
       "         'elements': 142,\n",
       "         'flaws': 74,\n",
       "         'cinematic': 81,\n",
       "         'myself': 116,\n",
       "         'kill': 167,\n",
       "         'first': 746,\n",
       "         'violent': 80,\n",
       "         'martin': 77,\n",
       "         'continues': 60,\n",
       "         'producer': 73,\n",
       "         'tells': 155,\n",
       "         'meeting': 50,\n",
       "         'along': 319,\n",
       "         'everyone': 262,\n",
       "         'comedy': 345,\n",
       "         'rather': 328,\n",
       "         'even more': 106,\n",
       "         'owner': 59,\n",
       "         'people': 604,\n",
       "         'becoming': 74,\n",
       "         'idea': 224,\n",
       "         'movie the': 91,\n",
       "         'decide': 81,\n",
       "         'a big': 66,\n",
       "         'showing': 100,\n",
       "         'hours': 135,\n",
       "         'wish': 73,\n",
       "         'steve': 87,\n",
       "         'star': 316,\n",
       "         'trip': 75,\n",
       "         'cameo': 61,\n",
       "         'each other': 158,\n",
       "         'each': 317,\n",
       "         'days': 179,\n",
       "         'potential': 118,\n",
       "         'enjoy': 146,\n",
       "         'holds': 62,\n",
       "         'decides': 116,\n",
       "         'eventually': 135,\n",
       "         'upon': 167,\n",
       "         'miss': 63,\n",
       "         'begins': 214,\n",
       "         'happy': 124,\n",
       "         'accident': 54,\n",
       "         'the same': 205,\n",
       "         'shot': 194,\n",
       "         'sure': 291,\n",
       "         'appear': 106,\n",
       "         'theater': 128,\n",
       "         'finally': 197,\n",
       "         'playing': 205,\n",
       "         'a movie': 183,\n",
       "         'deal': 144,\n",
       "         'beginning': 173,\n",
       "         'portrayed': 50,\n",
       "         'ahead': 50,\n",
       "         'agent': 82,\n",
       "         'leave': 135,\n",
       "         'watch': 332,\n",
       "         'inside': 98,\n",
       "         'able': 200,\n",
       "         'parents': 107,\n",
       "         'stand': 99,\n",
       "         'movie is': 97,\n",
       "         'kids': 161,\n",
       "         'spends': 56,\n",
       "         'group': 183,\n",
       "         'list': 80,\n",
       "         'came': 118,\n",
       "         'spend': 97,\n",
       "         'now': 493,\n",
       "         'famous': 83,\n",
       "         'the movie': 482,\n",
       "         'big': 459,\n",
       "         'oh': 128,\n",
       "         'him the': 51,\n",
       "         'team': 145,\n",
       "         'doing': 202,\n",
       "         'gives': 267,\n",
       "         'stars': 225,\n",
       "         'adds': 67,\n",
       "         'impression': 58,\n",
       "         'brilliant': 103,\n",
       "         'done': 278,\n",
       "         'style': 189,\n",
       "         'won t': 161,\n",
       "         'loved': 65,\n",
       "         'sometimes': 139,\n",
       "         'learn': 118,\n",
       "         'l': 69,\n",
       "         'behind': 220,\n",
       "         'follow': 121,\n",
       "         'lot': 358,\n",
       "         'ask': 84,\n",
       "         'worth': 205,\n",
       "         'average': 69,\n",
       "         'd': 303,\n",
       "         'slow': 124,\n",
       "         'girl': 232,\n",
       "         'her': 568,\n",
       "         'fails': 96,\n",
       "         'viewing': 63,\n",
       "         '3': 99,\n",
       "         's just': 148,\n",
       "         'but there': 115,\n",
       "         'anyway': 134,\n",
       "         'proves': 88,\n",
       "         'this film': 315,\n",
       "         's film': 54,\n",
       "         'characters': 697,\n",
       "         'not one': 55,\n",
       "         'certain': 119,\n",
       "         'anyone': 259,\n",
       "         'good but': 55,\n",
       "         'twice': 61,\n",
       "         'brings': 114,\n",
       "         'because s': 76,\n",
       "         'have been': 118,\n",
       "         'coming': 179,\n",
       "         'especially': 269,\n",
       "         'depth': 97,\n",
       "         'public': 59,\n",
       "         'for the': 77,\n",
       "         'girlfriend': 127,\n",
       "         'quite': 334,\n",
       "         '2': 187,\n",
       "         'critics': 71,\n",
       "         'taken': 151,\n",
       "         'role': 430,\n",
       "         'novel': 130,\n",
       "         'fair': 71,\n",
       "         'trouble': 104,\n",
       "         'fans': 121,\n",
       "         'thinking': 120,\n",
       "         'again': 369,\n",
       "         'even the': 98,\n",
       "         'the characters': 169,\n",
       "         'mind': 255,\n",
       "         's nothing': 55,\n",
       "         'something': 499,\n",
       "         'a man': 74,\n",
       "         'tv': 190,\n",
       "         'complete': 119,\n",
       "         'such a': 108,\n",
       "         'hope': 152,\n",
       "         'works': 228,\n",
       "         'bored': 53,\n",
       "         'screenplay': 165,\n",
       "         'expecting': 53,\n",
       "         'would have': 73,\n",
       "         'ok': 54,\n",
       "         'large': 106,\n",
       "         'face': 206,\n",
       "         'cast': 404,\n",
       "         'dialogue': 284,\n",
       "         'telling': 77,\n",
       "         'think': 416,\n",
       "         'not only': 185,\n",
       "         'major': 162,\n",
       "         'becomes': 281,\n",
       "         'too much': 137,\n",
       "         'the script': 134,\n",
       "         'at': 280,\n",
       "         'stands': 77,\n",
       "         'therefore': 61,\n",
       "         'maybe': 190,\n",
       "         'odd': 66,\n",
       "         'makes the': 53,\n",
       "         'pulled': 50,\n",
       "         't think': 69,\n",
       "         'need': 190,\n",
       "         'the story': 223,\n",
       "         'directing': 74,\n",
       "         'truth': 86,\n",
       "         'addition': 68,\n",
       "         'exception': 69,\n",
       "         'wouldn t': 132,\n",
       "         '90': 75,\n",
       "         'year old': 114,\n",
       "         'but the': 281,\n",
       "         'expect': 131,\n",
       "         'cash': 52,\n",
       "         'happen': 125,\n",
       "         'is the': 225,\n",
       "         'wouldn': 132,\n",
       "         'won': 202,\n",
       "         'interested': 75,\n",
       "         'when the': 144,\n",
       "         'supporting': 180,\n",
       "         'making': 352,\n",
       "         'it s': 357,\n",
       "         'four': 154,\n",
       "         'sadly': 60,\n",
       "         'let': 241,\n",
       "         'feet': 61,\n",
       "         'hardly': 69,\n",
       "         'de': 92,\n",
       "         'directed': 207,\n",
       "         'charm': 75,\n",
       "         'if you': 53,\n",
       "         'wrote': 81,\n",
       "         'veteran': 52,\n",
       "         'wasted': 82,\n",
       "         'thing': 425,\n",
       "         's going': 76,\n",
       "         'realize': 102,\n",
       "         'herself': 98,\n",
       "         'out there': 53,\n",
       "         'the first': 201,\n",
       "         'tell': 207,\n",
       "         'another': 561,\n",
       "         'however': 460,\n",
       "         'first time': 70,\n",
       "         'title': 177,\n",
       "         'the only': 198,\n",
       "         'question': 166,\n",
       "         'once again': 71,\n",
       "         '1': 151,\n",
       "         'dollars': 51,\n",
       "         'got': 257,\n",
       "         'a few': 212,\n",
       "         'compared': 59,\n",
       "         'prison': 74,\n",
       "         'robert': 130,\n",
       "         'longer': 89,\n",
       "         'michael': 195,\n",
       "         'effort': 98,\n",
       "         'fight': 144,\n",
       "         'but not': 151,\n",
       "         'dumb': 78,\n",
       "         'plans': 59,\n",
       "         'looks': 251,\n",
       "         'familiar': 115,\n",
       "         'taking': 142,\n",
       "         'company': 95,\n",
       "         'having': 303,\n",
       "         'help': 298,\n",
       "         'eccentric': 50,\n",
       "         'place': 347,\n",
       "         'second': 232,\n",
       "         'million': 114,\n",
       "         'finds': 192,\n",
       "         'superb': 57,\n",
       "         'talented': 97,\n",
       "         'back the': 56,\n",
       "         'boring': 156,\n",
       "         'wonderful': 123,\n",
       "         'a character': 55,\n",
       "         'much the': 54,\n",
       "         'yet': 331,\n",
       "         'person': 203,\n",
       "         'except': 148,\n",
       "         'play': 244,\n",
       "         'rich': 101,\n",
       "         'might': 361,\n",
       "         'view': 99,\n",
       "         'joe': 79,\n",
       "         'but a': 67,\n",
       "         'attention': 151,\n",
       "         'states': 56,\n",
       "         'been': 487,\n",
       "         'true': 235,\n",
       "         'she': 307,\n",
       "         'into the': 180,\n",
       "         'half': 256,\n",
       "         'forever': 64,\n",
       "         'as the': 59,\n",
       "         'etc': 68,\n",
       "         'comes': 421,\n",
       "         'common': 83,\n",
       "         'seemingly': 74,\n",
       "         'disney': 69,\n",
       "         'at least': 64,\n",
       "         'oscar': 123,\n",
       "         't want': 66,\n",
       "         'previous': 104,\n",
       "         'a bit': 101,\n",
       "         'should': 452,\n",
       "         'thanks': 77,\n",
       "         'no one': 117,\n",
       "         'romance': 101,\n",
       "         'after all': 76,\n",
       "         'without': 378,\n",
       "         'with': 305,\n",
       "         'fiction': 100,\n",
       "         'why': 422,\n",
       "         'long': 448,\n",
       "         'steven': 60,\n",
       "         'if the': 85,\n",
       "         'present': 118,\n",
       "         'red': 90,\n",
       "         'became': 66,\n",
       "         'b': 101,\n",
       "         'unless': 62,\n",
       "         'drug': 65,\n",
       "         'private': 70,\n",
       "         'absolutely': 126,\n",
       "         'killer': 113,\n",
       "         'hard': 309,\n",
       "         'presented': 64,\n",
       "         'genuine': 65,\n",
       "         'solid': 113,\n",
       "         'a scene': 60,\n",
       "         'actual': 88,\n",
       "         'saving': 56,\n",
       "         'yourself': 79,\n",
       "         'stone': 55,\n",
       "         'there a': 76,\n",
       "         'ryan': 61,\n",
       "         'brief': 90,\n",
       "         'almost': 402,\n",
       "         'understand': 103,\n",
       "         'full': 232,\n",
       "         'the acting': 82,\n",
       "         'men': 223,\n",
       "         'confusing': 64,\n",
       "         'visually': 53,\n",
       "         'jones': 80,\n",
       "         'lost': 205,\n",
       "         'officer': 68,\n",
       "         'exactly': 190,\n",
       "         's hard': 57,\n",
       "         'decade': 52,\n",
       "         'final': 206,\n",
       "         'thinks': 87,\n",
       "         'drawn': 62,\n",
       "         'week': 62,\n",
       "         'until': 260,\n",
       "         'calls': 63,\n",
       "         'impact': 59,\n",
       "         'powerful': 100,\n",
       "         'dog': 100,\n",
       "         'portrayal': 53,\n",
       "         'theme': 78,\n",
       "         'see the': 88,\n",
       "         'blue': 73,\n",
       "         'fantasy': 59,\n",
       "         'side': 196,\n",
       "         'process': 56,\n",
       "         'am': 110,\n",
       "         'surprisingly': 132,\n",
       "         'nice': 193,\n",
       "         'near': 117,\n",
       "         'artist': 59,\n",
       "         'from': 114,\n",
       "         'may not': 51,\n",
       "         'these': 264,\n",
       "         'dead': 210,\n",
       "         'keeping': 51,\n",
       "         'creative': 50,\n",
       "         'issues': 56,\n",
       "         'either': 228,\n",
       "         'last': 416,\n",
       "         'the other': 169,\n",
       "         'utterly': 54,\n",
       "         'sex': 192,\n",
       "         'creating': 65,\n",
       "         'light': 145,\n",
       "         'turned': 108,\n",
       "         'premise': 127,\n",
       "         's so': 50,\n",
       "         'political': 61,\n",
       "         'about the': 169,\n",
       "         'he s': 144,\n",
       "         'level': 149,\n",
       "         'just about': 57,\n",
       "         's character': 132,\n",
       "         'supporting cast': 79,\n",
       "         'notice': 57,\n",
       "         'rate': 77,\n",
       "         'beauty': 67,\n",
       "         'c': 59,\n",
       "         ...})"
      ]
     },
     "execution_count": 10,
     "metadata": {},
     "output_type": "execute_result"
    }
   ],
   "source": [
    "df"
   ]
  },
  {
   "cell_type": "markdown",
   "metadata": {},
   "source": [
    "Then, you need to create 2 dictionaries: (1) vocabulary id -> word; and  (2) word -> vocabulary id so you can use them for reference:"
   ]
  },
  {
   "cell_type": "code",
   "execution_count": 120,
   "metadata": {
    "ExecuteTime": {
     "end_time": "2020-02-15T14:17:39.326811Z",
     "start_time": "2020-02-15T14:17:39.322256Z"
    }
   },
   "outputs": [],
   "source": [
    "vocID_word = dict()\n",
    "word_vocID = dict()\n",
    "\n",
    "for i,voc in enumerate(vocab):\n",
    "    vocID_word[i] = voc\n",
    "    word_vocID[voc] = i"
   ]
  },
  {
   "cell_type": "markdown",
   "metadata": {},
   "source": [
    "Now you should be able to extract n-grams for each text in the training, development and test sets:"
   ]
  },
  {
   "cell_type": "code",
   "execution_count": 121,
   "metadata": {
    "ExecuteTime": {
     "end_time": "2020-02-15T14:17:40.213253Z",
     "start_time": "2020-02-15T14:17:39.329147Z"
    }
   },
   "outputs": [],
   "source": [
    "ngram_range=(1,3)\n",
    "char_ngrams=False\n",
    "ngram_train=[]\n",
    "ngram_val=[]\n",
    "ngram_test=[]\n",
    "for text in train_data_text:\n",
    "    docs = extract_ngrams_list(text,ngram_range,vocab = vocab,char_ngrams = char_ngrams)\n",
    "    ngram_train.append(docs)\n",
    "for text in val_data_text:\n",
    "    docs = extract_ngrams_list(text,ngram_range,vocab = vocab,char_ngrams = char_ngrams)\n",
    "    ngram_val.append(docs)\n",
    "for text in test_data_text:\n",
    "    docs = extract_ngrams_list(text,ngram_range,vocab = vocab,char_ngrams = char_ngrams)\n",
    "    ngram_test.append(docs)\n"
   ]
  },
  {
   "cell_type": "code",
   "execution_count": 22,
   "metadata": {},
   "outputs": [
    {
     "data": {
      "text/plain": [
       "2024"
      ]
     },
     "execution_count": 22,
     "metadata": {},
     "output_type": "execute_result"
    }
   ],
   "source": [
    "X_ngram_train = [i for k in ngram_train for i in k]\n",
    "X_ngram_val = [i for k in ngram_val for i in k]\n",
    "X_ngram_test = [i for k in ngram_test for i in k]\n",
    "len(Counter(X_ngram_train))"
   ]
  },
  {
   "cell_type": "markdown",
   "metadata": {},
   "source": [
    "## Vectorise documents "
   ]
  },
  {
   "cell_type": "markdown",
   "metadata": {},
   "source": [
    "Next, write a function `vectoriser` to obtain Bag-of-ngram representations for a list of documents. The function should take as input:\n",
    "- `X_ngram`: a list of texts (documents), where each text is represented as list of n-grams in the `vocab`\n",
    "- `vocab`: a set of n-grams to be used for representing the documents\n",
    "\n",
    "and return:\n",
    "- `X_vec`: an array with dimensionality Nx|vocab| where N is the number of documents and |vocab| is the size of the vocabulary. Each element of the array should represent the frequency of a given n-gram in a document.\n"
   ]
  },
  {
   "cell_type": "code",
   "execution_count": 122,
   "metadata": {
    "ExecuteTime": {
     "end_time": "2020-02-15T14:17:40.219201Z",
     "start_time": "2020-02-15T14:17:40.215129Z"
    }
   },
   "outputs": [],
   "source": [
    "def vectorise(X_ngram, vocab):\n",
    "    rows, cols = len(X_ngram),len(vocab)\n",
    "    X_vec = [([]*cols) for i in range(rows)]\n",
    "    for i,doc in enumerate(X_ngram):\n",
    "        doc_fre = Counter(doc)\n",
    "        for j,word in enumerate(vocab):\n",
    "            if doc_fre[word]>0:\n",
    "                X_vec[i].append(doc_fre[word])\n",
    "            else:\n",
    "                X_vec[i].append(0)\n",
    "    X_vec = np.squeeze(np.asarray(X_vec))\n",
    "    return X_vec"
   ]
  },
  {
   "cell_type": "markdown",
   "metadata": {},
   "source": [
    "Finally, use `vectorise` to obtain document vectors for each document in the train, development and test set. You should extract both count and tf.idf vectors respectively:"
   ]
  },
  {
   "cell_type": "code",
   "execution_count": 56,
   "metadata": {},
   "outputs": [
    {
     "data": {
      "text/plain": [
       "array([[30,  1,  1, ...,  0,  0,  0],\n",
       "       [31,  0,  0, ...,  0,  0,  0],\n",
       "       [12,  0,  0, ...,  0,  0,  0],\n",
       "       ...,\n",
       "       [17,  0,  0, ...,  0,  0,  0],\n",
       "       [28,  0,  1, ...,  0,  0,  0],\n",
       "       [24,  0,  0, ...,  0,  0,  0]])"
      ]
     },
     "execution_count": 56,
     "metadata": {},
     "output_type": "execute_result"
    }
   ],
   "source": [
    "X_vec = [([]*2034) for i in range(1399)]\n",
    "for i,doc in enumerate(ngram_train):\n",
    "    doc_fre = Counter(doc)\n",
    "    for j,word in enumerate(vocab):\n",
    "        if doc_fre[word]>0:\n",
    "            X_vec[i].append(doc_fre[word])\n",
    "        else:\n",
    "            X_vec[i].append(0)\n",
    "X_vec = np.squeeze(np.asarray(X_vec))\n",
    "X_vec"
   ]
  },
  {
   "cell_type": "markdown",
   "metadata": {},
   "source": [
    "#### Count vectors"
   ]
  },
  {
   "cell_type": "code",
   "execution_count": 123,
   "metadata": {
    "ExecuteTime": {
     "end_time": "2020-02-15T14:17:41.999574Z",
     "start_time": "2020-02-15T14:17:40.376534Z"
    }
   },
   "outputs": [],
   "source": [
    "X_trian = vectorise(ngram_train,vocab)\n",
    "X_dev = vectorise(ngram_val,vocab)\n",
    "X_test = vectorise(ngram_test,vocab)"
   ]
  },
  {
   "cell_type": "code",
   "execution_count": 59,
   "metadata": {},
   "outputs": [
    {
     "data": {
      "text/plain": [
       "array([12,  0,  0, ...,  0,  0,  0])"
      ]
     },
     "execution_count": 59,
     "metadata": {},
     "output_type": "execute_result"
    }
   ],
   "source": [
    "X_trian[2]"
   ]
  },
  {
   "cell_type": "markdown",
   "metadata": {},
   "source": [
    "#### TF.IDF vectors\n",
    "\n",
    "First compute `idfs` an array containing inverted document frequencies (Note: its elements should correspond to your `vocab`)"
   ]
  },
  {
   "cell_type": "code",
   "execution_count": 14,
   "metadata": {
    "ExecuteTime": {
     "end_time": "2020-02-15T14:17:42.022692Z",
     "start_time": "2020-02-15T14:17:42.012315Z"
    }
   },
   "outputs": [],
   "source": [
    "idf_dict = dict()\n",
    "\n",
    "for word in vocab:\n",
    "    idf_dict[word] = np.log10(len(ngram_train)/df[word])\n"
   ]
  },
  {
   "cell_type": "code",
   "execution_count": null,
   "metadata": {},
   "outputs": [],
   "source": []
  },
  {
   "cell_type": "markdown",
   "metadata": {},
   "source": [
    "Then transform your count vectors to tf.idf vectors:"
   ]
  },
  {
   "cell_type": "code",
   "execution_count": 28,
   "metadata": {
    "ExecuteTime": {
     "end_time": "2020-02-15T14:17:42.802265Z",
     "start_time": "2020-02-15T14:17:42.752448Z"
    }
   },
   "outputs": [],
   "source": [
    "idf_list = list(idf_dict.values())\n",
    "idf_arr = np.array(idf_list)\n"
   ]
  },
  {
   "cell_type": "code",
   "execution_count": 29,
   "metadata": {},
   "outputs": [
    {
     "data": {
      "text/plain": [
       "array([[1.035228  , 0.46187058, 0.81337925, ..., 0.        , 0.        ,\n",
       "        0.        ],\n",
       "       [0.        , 0.46187058, 0.        , ..., 0.        , 0.        ,\n",
       "        0.        ],\n",
       "       [0.        , 0.        , 0.        , ..., 0.        , 0.        ,\n",
       "        0.        ],\n",
       "       ...,\n",
       "       [3.10568401, 0.46187058, 0.        , ..., 0.        , 0.        ,\n",
       "        0.        ],\n",
       "       [0.        , 0.        , 0.        , ..., 0.        , 0.        ,\n",
       "        0.        ],\n",
       "       [0.        , 0.        , 0.        , ..., 0.        , 0.        ,\n",
       "        0.        ]])"
      ]
     },
     "execution_count": 29,
     "metadata": {},
     "output_type": "execute_result"
    }
   ],
   "source": [
    "tf_idf = X_trian * idf_arr\n",
    "tf_idf"
   ]
  },
  {
   "cell_type": "markdown",
   "metadata": {},
   "source": [
    "# Binary Logistic Regression\n",
    "\n",
    "After obtaining vector representations of the data, now you are ready to implement Binary Logistic Regression for classifying sentiment."
   ]
  },
  {
   "cell_type": "markdown",
   "metadata": {},
   "source": [
    "First, you need to implement the `sigmoid` function. It takes as input:\n",
    "\n",
    "- `z`: a real number or an array of real numbers \n",
    "\n",
    "and returns:\n",
    "\n",
    "- `sig`: the sigmoid of `z`"
   ]
  },
  {
   "cell_type": "code",
   "execution_count": 124,
   "metadata": {
    "ExecuteTime": {
     "end_time": "2020-02-15T14:17:44.160661Z",
     "start_time": "2020-02-15T14:17:44.157902Z"
    }
   },
   "outputs": [],
   "source": [
    "def sigmoid(z):\n",
    "    \n",
    "    sig = 1/(1+np.exp(-z))\n",
    "    \n",
    "    return sig"
   ]
  },
  {
   "cell_type": "markdown",
   "metadata": {},
   "source": [
    "Then, implement the `predict_proba` function to obtain prediction probabilities. It takes as input:\n",
    "\n",
    "- `X`: an array of inputs, i.e. documents represented by bag-of-ngram vectors ($N \\times |vocab|$)\n",
    "- `weights`: a 1-D array of the model's weights $(1, |vocab|)$\n",
    "\n",
    "and returns:\n",
    "\n",
    "- `preds_proba`: the prediction probabilities of X given the weights"
   ]
  },
  {
   "cell_type": "code",
   "execution_count": 187,
   "metadata": {
    "ExecuteTime": {
     "end_time": "2020-02-15T14:17:44.718566Z",
     "start_time": "2020-02-15T14:17:44.715017Z"
    }
   },
   "outputs": [],
   "source": [
    "def predict_proba(X, weights):\n",
    "    \n",
    "    \n",
    "    preds_proba = sigmoid(weights@X.T) \n",
    "    print(np.shape(preds_proba))\n",
    "    \n",
    "    return preds_proba"
   ]
  },
  {
   "cell_type": "markdown",
   "metadata": {},
   "source": [
    "Then, implement the `predict_class` function to obtain the most probable class for each vector in an array of input vectors. It takes as input:\n",
    "\n",
    "- `X`: an array of documents represented by bag-of-ngram vectors ($N \\times |vocab|$)\n",
    "- `weights`: a 1-D array of the model's weights $(1, |vocab|)$\n",
    "\n",
    "and returns:\n",
    "\n",
    "- `preds_class`: the predicted class for each x in X given the weights"
   ]
  },
  {
   "cell_type": "code",
   "execution_count": 206,
   "metadata": {
    "ExecuteTime": {
     "end_time": "2020-02-15T14:17:45.002125Z",
     "start_time": "2020-02-15T14:17:44.998668Z"
    }
   },
   "outputs": [],
   "source": [
    "def predict_class(X, weights):\n",
    "    y = np.dot(weights,X.T)\n",
    "    y_class = []\n",
    "    for p in y:\n",
    "        if(p>0.5):\n",
    "            y_class.append(1)\n",
    "        else:\n",
    "            y_class.append(0)\n",
    "    return np.array(y_class)"
   ]
  },
  {
   "cell_type": "markdown",
   "metadata": {},
   "source": [
    "To learn the weights from data, we need to minimise the binary cross-entropy loss. Implement `binary_loss` that takes as input:\n",
    "\n",
    "- `X`: input vectors\n",
    "- `Y`: labels\n",
    "- `weights`: model weights\n",
    "- `alpha`: regularisation strength\n",
    "\n",
    "and return:\n",
    "\n",
    "- `l`: the loss score"
   ]
  },
  {
   "cell_type": "code",
   "execution_count": 221,
   "metadata": {
    "ExecuteTime": {
     "end_time": "2020-02-15T14:17:45.455533Z",
     "start_time": "2020-02-15T14:17:45.451475Z"
    }
   },
   "outputs": [],
   "source": [
    "def binary_loss(X, Y, Y_pre, weights, alpha=0.00001):\n",
    "    '''\n",
    "    Binary Cross-entropy Loss\n",
    "\n",
    "    X:(len(X),len(vocab))\n",
    "    Y: array len(Y)\n",
    "    weights: array len(X)\n",
    "    '''\n",
    "\n",
    "    l = (-Y*np.log(Y_pre)-(1-Y)*np.log(1-Y_pre)+alpha*np.dot(weights.T,weights)).mean()\n",
    "    \n",
    "    return l\n",
    "\n",
    "# attention: derivation of W?"
   ]
  },
  {
   "cell_type": "code",
   "execution_count": null,
   "metadata": {},
   "outputs": [],
   "source": [
    "l = (-Y*np.log(Y_pre)-(1-Y)*np.log(1-Y_pre)+alpha*np.dot(weights.T,weights)).mean()"
   ]
  },
  {
   "cell_type": "code",
   "execution_count": null,
   "metadata": {},
   "outputs": [],
   "source": [
    "    l = 0\n",
    "    for i,e in enumerate(Y):\n",
    "        if Y[i]==1:\n",
    "            l += (-np.log(Y_pre[i]))\n",
    "        else:\n",
    "            l += (-np.log(1-Y_pre[i]))\n",
    "        "
   ]
  },
  {
   "cell_type": "markdown",
   "metadata": {},
   "source": [
    "Now, you can implement Stochastic Gradient Descent to learn the weights of your sentiment classifier. The `SGD` function takes as input:\n",
    "\n",
    "- `X_tr`: array of training data (vectors)\n",
    "- `Y_tr`: labels of `X_tr`\n",
    "- `X_dev`: array of development (i.e. validation) data (vectors)\n",
    "- `Y_dev`: labels of `X_dev`\n",
    "- `lr`: learning rate\n",
    "- `alpha`: regularisation strength\n",
    "- `epochs`: number of full passes over the training data\n",
    "- `tolerance`: stop training if the difference between the current and previous validation loss is smaller than a threshold\n",
    "- `print_progress`: flag for printing the training progress (train/validation loss)\n",
    "\n",
    "\n",
    "and returns:\n",
    "\n",
    "- `weights`: the weights learned\n",
    "- `training_loss_history`: an array with the average losses of the whole training set after each epoch\n",
    "- `validation_loss_history`: an array with the average losses of the whole development set after each epoch"
   ]
  },
  {
   "cell_type": "code",
   "execution_count": 189,
   "metadata": {},
   "outputs": [],
   "source": [
    "def update_W(x,weights,yTrue,yPred,lr,alpha):\n",
    "    new_w = weights - lr*((yPred - yTrue)@x + 2*alpha*weights)\n",
    "    return new_w"
   ]
  },
  {
   "cell_type": "code",
   "execution_count": 237,
   "metadata": {
    "ExecuteTime": {
     "end_time": "2020-02-15T14:17:45.968510Z",
     "start_time": "2020-02-15T14:17:45.958185Z"
    }
   },
   "outputs": [],
   "source": [
    "def SGD(X_tr, Y_tr, X_dev=[], Y_dev=[], lr=0.00001, \n",
    "        alpha=0.00001, epochs=10, \n",
    "        tolerance=0.00001, print_progress=True):\n",
    "    \n",
    "    training_loss_history = []\n",
    "    validation_loss_history = []\n",
    "    weights = np.zeros(np.shape(X_tr)[1])\n",
    "    for i in range(epochs):\n",
    "        indices = np.array(range(len(X_tr)))\n",
    "        np.random.shuffle(indices)\n",
    "        x_tr = X_tr[indices]\n",
    "        y_tr = Y_tr[indices]\n",
    "        Y_tr_pre = predict_proba(x_tr,weights)\n",
    "        weights = update_W(x_tr,weights,y_tr,Y_tr_pre,lr,alpha)\n",
    "            \n",
    "        training_loss_history.append(binary_loss(x_tr,y_tr,Y_tr_pre,weights,alpha))    \n",
    "        Y_dev_pre = predict_proba(X_dev,weights)\n",
    "        validation_loss_history.append(binary_loss(X_dev,Y_dev,Y_dev_pre,weights,alpha))\n",
    "    \n",
    "        #if i>0:\n",
    "            #if(validation_loss_history[i]-validation_loss_history[i-1]<tolerance):\n",
    "                #break\n",
    "    \n",
    "    \n",
    "    return weights, training_loss_history, validation_loss_history"
   ]
  },
  {
   "cell_type": "markdown",
   "metadata": {},
   "source": [
    "## Train and Evaluate Logistic Regression with Count vectors\n",
    "\n",
    "First train the model using SGD:"
   ]
  },
  {
   "cell_type": "code",
   "execution_count": 238,
   "metadata": {},
   "outputs": [
    {
     "name": "stdout",
     "output_type": "stream",
     "text": [
      "(1400,)\n",
      "(200,)\n",
      "(1400,)\n",
      "(200,)\n",
      "(1400,)\n",
      "(200,)\n",
      "(1400,)\n",
      "(200,)\n",
      "(1400,)\n",
      "(200,)\n",
      "(1400,)\n",
      "(200,)\n",
      "(1400,)\n",
      "(200,)\n",
      "(1400,)\n",
      "(200,)\n",
      "(1400,)\n",
      "(200,)\n",
      "(1400,)\n",
      "(200,)\n"
     ]
    },
    {
     "name": "stderr",
     "output_type": "stream",
     "text": [
      "<ipython-input-221-963947c62c70>:10: RuntimeWarning: divide by zero encountered in log\n",
      "  l = (-Y*np.log(Y_pre)-(1-Y)*np.log(1-Y_pre)+alpha*np.dot(weights.T,weights)).mean()\n",
      "<ipython-input-221-963947c62c70>:10: RuntimeWarning: invalid value encountered in multiply\n",
      "  l = (-Y*np.log(Y_pre)-(1-Y)*np.log(1-Y_pre)+alpha*np.dot(weights.T,weights)).mean()\n"
     ]
    },
    {
     "data": {
      "text/plain": [
       "array([ 0.00262644,  0.00070779,  0.0001334 , ..., -0.00061601,\n",
       "       -0.00284893, -0.00180517])"
      ]
     },
     "execution_count": 238,
     "metadata": {},
     "output_type": "execute_result"
    }
   ],
   "source": [
    "weights, training_loss_history, validation_loss_history = SGD(X_trian,train_data_label,X_dev,val_data_label)\n",
    "weights"
   ]
  },
  {
   "cell_type": "code",
   "execution_count": 239,
   "metadata": {},
   "outputs": [
    {
     "name": "stdout",
     "output_type": "stream",
     "text": [
      "[-0.97234605 -0.88773889 -2.58563636 -0.16669081 -1.86471486 -0.83427216\n",
      " -2.73451352 -1.29913201 -2.34306333 -0.71129975 -0.90864383 -5.56385478\n",
      " -3.42551417 -0.9321981  -1.47591311 -0.12236719 -2.05808496 -0.56626991\n",
      " -0.85781952 -2.17658473 -1.49582415 -0.74492034 -2.7205256  -1.68641246\n",
      " -0.62224065 -1.99582622 -2.06337398 -0.75927147 -2.08564165 -0.79939319\n",
      " -1.51276473 -0.47212473 -1.09407397 -1.80788751 -1.25649498 -4.75911082\n",
      " -2.4504026  -2.7773717  -0.50183546 -2.35966793 -0.89928116 -1.61165381\n",
      " -1.55982966 -1.41953274 -0.70833415 -1.63457286 -0.615413   -1.00372295\n",
      " -3.7928747  -3.01584197 -1.58986025 -0.73876929 -1.48073257 -1.21168033\n",
      " -1.33825693 -3.9340089  -1.11138335 -0.82221357 -2.54590612 -2.34785352\n",
      " -2.73565243 -1.64293966 -1.03356684 -2.05005918 -4.98847569 -0.17508039\n",
      " -1.49774917 -1.81249037 -1.93726834 -4.2269838  -0.72535674  0.29509536\n",
      " -1.13001567 -0.44674131 -4.13301981 -0.82883205 -3.88822982 -0.16446604\n",
      " -0.42880367 -4.62735451 -2.4156255  -0.21411576  1.08032082 -1.82134526\n",
      " -2.67880951 -0.58283123 -1.92772351 -1.91266556 -0.28689332 -2.14995207\n",
      " -3.3816191  -0.59569748 -1.12792391 -3.54656875 -3.34726147 -2.72682791\n",
      " -1.23278377 -1.09122277 -2.11267283 -0.62311729 -0.11870111 -0.70553991\n",
      " -2.73713693 -2.13557002 -2.15248905 -1.73722126 -3.67002088  0.21742731\n",
      " -1.36881199 -1.58141846 -0.57189677 -1.93674642 -1.27800468 -2.05853805\n",
      " -0.67251391 -0.48547832 -0.45158757 -0.47573624 -1.40839668 -6.22771809\n",
      " -1.91548135 -0.42235825 -1.80074393 -1.09038712 -2.59593772 -1.3977947\n",
      " -0.98148832 -0.73775816 -2.81267442 -1.38202964 -1.37117233 -1.60915689\n",
      " -1.71470438 -0.01165188 -2.18327083 -2.00091937 -3.33276189 -2.65671659\n",
      " -3.30121899 -0.90239649 -1.50859334 -3.1637596  -1.47064054 -1.33027516\n",
      " -1.88357379 -2.89282303 -3.17983583 -0.81461556 -1.11501106 -1.34000898\n",
      " -3.22993845 -4.52618584 -1.26580185 -2.18009861 -1.18042576 -5.08567754\n",
      " -0.78112215 -0.18758128 -0.43321997 -0.28993891 -2.8949131   0.24428999\n",
      " -0.71753875 -2.36400916 -2.1435303  -1.41036081 -1.53936092 -0.91296151\n",
      " -4.01568743 -1.99519338 -0.58870834 -0.64217475 -0.40398655 -1.49035758\n",
      " -0.58814305 -0.33366539 -4.35463695 -1.40144881 -1.33197949 -1.79971989\n",
      " -0.68368847 -0.86911294 -0.84242872 -1.4028026  -1.09694279 -1.80240026\n",
      " -0.91008071 -0.41382288 -2.85595094 -0.42768968 -2.15222724 -3.6460046\n",
      " -2.66027383 -3.14882639 -6.13320652 -1.85062779 -1.74332366 -4.02611236\n",
      " -2.94100528 -4.29164984 -1.61598462 -3.58338805 -1.22841498 -1.05993517\n",
      " -1.90160414 -0.27204405 -2.49552735 -1.30977973 -2.61485476 -1.28243009\n",
      " -2.73979392 -2.08505021 -1.46137895 -1.44914538 -3.78862415 -5.63432791\n",
      " -2.17541405 -2.54831336 -1.19259172 -1.91493934 -3.13556395 -1.6126422\n",
      " -1.2313308  -2.17139832 -0.81200768 -1.74682853 -1.20233525 -3.04257456\n",
      " -1.64543055 -4.16464309 -1.96596092 -1.82739603 -1.33952798 -2.25467533\n",
      " -1.52948298 -1.79863171 -0.85087882 -1.58019672 -1.81097895 -3.29314832\n",
      " -0.7136718  -2.44592988 -4.62895962 -3.30980218 -1.83454304 -3.1859109\n",
      " -0.95013103 -2.96733171 -1.14026047 -4.86618338 -3.79063078 -2.09697094\n",
      " -3.10091809 -1.54225545 -2.62527984 -4.39655137 -1.47618506 -2.70427616\n",
      " -5.30545943 -1.07924507 -1.505143   -1.4110499  -6.81451957 -0.61647447\n",
      " -4.27551021 -0.66968381 -3.70644224 -2.46547968 -2.77264928 -2.84726935\n",
      " -0.20968329 -0.22979771 -2.98885973 -4.2292851  -4.56222686 -4.10452843\n",
      " -6.76049814 -1.71598581 -2.184527   -1.80635914 -2.56437961 -2.39507395\n",
      " -3.08465594 -2.59789711 -2.47747835 -2.0254801  -2.87464068 -1.46297618\n",
      " -1.47889383  0.18909666 -1.59260184 -3.8029528  -3.45264213 -1.89065963\n",
      " -0.74223392 -1.19815588 -0.50508945 -2.93011186 -2.93758884 -0.72004639\n",
      " -2.54273406 -1.30351552 -3.91862382 -1.34079457 -1.14114603 -0.83556843\n",
      " -2.98332541 -1.91896455 -4.45564709 -1.4359938  -4.07446228 -2.0347176\n",
      " -3.28513223 -1.01297907 -4.79405717 -1.73604246 -3.28067769 -1.07241672\n",
      " -1.69951298 -2.47351318 -2.63428933 -3.06930545 -1.67481319 -1.42277074\n",
      " -2.40256748 -0.98406985 -1.47612388 -1.11033217 -1.78726439 -2.76611443\n",
      " -2.50315431 -2.09026523 -2.04868391 -1.98903561 -3.60071896 -1.71278992\n",
      " -1.60056099 -2.15415671 -4.78939854 -4.70438626 -1.1310563  -2.40350094\n",
      " -2.22463881 -1.59482771 -1.97580178 -2.03808181 -0.83770996 -2.98595208\n",
      " -1.19762395 -2.13044284 -2.82230015 -1.96183749 -2.3859276  -2.03237129\n",
      " -0.37000068 -2.2858887  -4.67279617 -2.66576904 -2.73776994 -4.96629025\n",
      " -3.24098155 -4.5613854  -2.21140172 -4.40727509 -1.22423714 -2.21404661\n",
      " -1.03430797 -1.3058201  -8.17442568 -2.73425688 -3.17362191 -2.68980199\n",
      " -2.14651169 -3.10707251 -1.19538576 -2.3237151  -0.36129058 -0.83433019\n",
      " -2.77084128 -3.00998094 -2.88016074 -2.63403607 -1.50509772 -1.52569906\n",
      " -4.55997263 -1.18309369 -2.85083851 -1.35626099 -0.92858724 -1.04671966\n",
      " -1.45177029 -1.18473545 -3.22351425 -2.99820814 -2.90209701 -1.16638446\n",
      " -4.38984395 -5.33820913 -2.36518926 -3.77764463]\n"
     ]
    },
    {
     "data": {
      "text/plain": [
       "0.5025"
      ]
     },
     "execution_count": 239,
     "metadata": {},
     "output_type": "execute_result"
    }
   ],
   "source": [
    "Y_pre_test = predict_class(X_test,weights)\n",
    "accuracy_score(test_data_label,Y_pre_test)\n"
   ]
  },
  {
   "cell_type": "markdown",
   "metadata": {},
   "source": [
    "Now plot the training and validation history per epoch for the best hyperparameter combination. Does your model underfit, overfit or is it about right? Explain why."
   ]
  },
  {
   "cell_type": "code",
   "execution_count": null,
   "metadata": {
    "ExecuteTime": {
     "end_time": "2020-02-15T14:17:51.598911Z",
     "start_time": "2020-02-15T14:17:51.482307Z"
    }
   },
   "outputs": [],
   "source": []
  },
  {
   "cell_type": "markdown",
   "metadata": {
    "ExecuteTime": {
     "end_time": "2020-01-21T16:52:26.583150Z",
     "start_time": "2020-01-21T16:52:26.578754Z"
    }
   },
   "source": [
    "Explain here..."
   ]
  },
  {
   "cell_type": "code",
   "execution_count": null,
   "metadata": {},
   "outputs": [],
   "source": []
  },
  {
   "cell_type": "markdown",
   "metadata": {},
   "source": [
    "#### Evaluation\n",
    "\n",
    "Compute accuracy, precision, recall and F1-scores:"
   ]
  },
  {
   "cell_type": "code",
   "execution_count": null,
   "metadata": {
    "ExecuteTime": {
     "end_time": "2020-02-15T14:17:51.607940Z",
     "start_time": "2020-02-15T14:17:51.600272Z"
    }
   },
   "outputs": [],
   "source": [
    "preds_te_count = predict_class(X_te_count, w_count)\n",
    "\n",
    "print('Accuracy:', accuracy_score(Y_te,preds_te_count))\n",
    "print('Precision:', precision_score(Y_te,preds_te_count))\n",
    "print('Recall:', recall_score(Y_te,preds_te_count))\n",
    "print('F1-Score:', f1_score(Y_te,preds_te_count))"
   ]
  },
  {
   "cell_type": "markdown",
   "metadata": {},
   "source": [
    "Finally, print the top-10 words for the negative and positive class respectively."
   ]
  },
  {
   "cell_type": "code",
   "execution_count": null,
   "metadata": {
    "ExecuteTime": {
     "end_time": "2020-02-15T14:17:51.613935Z",
     "start_time": "2020-02-15T14:17:51.610660Z"
    }
   },
   "outputs": [],
   "source": [
    "top_neg = w_count.argsort()[:10]\n",
    "for i in top_neg:\n",
    "    print(id2word[i])"
   ]
  },
  {
   "cell_type": "code",
   "execution_count": null,
   "metadata": {
    "ExecuteTime": {
     "end_time": "2020-02-15T14:17:51.624122Z",
     "start_time": "2020-02-15T14:17:51.615674Z"
    }
   },
   "outputs": [],
   "source": [
    "top_pos = w_count.argsort()[::-1][:10]\n",
    "for i in top_pos:\n",
    "    print(id2word[i])"
   ]
  },
  {
   "cell_type": "markdown",
   "metadata": {},
   "source": [
    "If we were to apply the classifier we've learned into a different domain such laptop reviews or restaurant reviews, do you think these features would generalise well? Can you propose what features the classifier could pick up as important in the new domain?"
   ]
  },
  {
   "cell_type": "markdown",
   "metadata": {},
   "source": [
    "Provide your answer here..."
   ]
  },
  {
   "cell_type": "markdown",
   "metadata": {},
   "source": [
    "### Discuss how did you choose model hyperparameters (e.g. learning rate and regularisation strength)? What is the relation between training epochs and learning rate? How the regularisation strength affects performance?"
   ]
  },
  {
   "cell_type": "markdown",
   "metadata": {},
   "source": [
    "Enter your answer here..."
   ]
  },
  {
   "cell_type": "markdown",
   "metadata": {},
   "source": [
    "## Train and Evaluate Logistic Regression with TF.IDF vectors\n",
    "\n",
    "Follow the same steps as above (i.e. evaluating count n-gram representations).\n"
   ]
  },
  {
   "cell_type": "markdown",
   "metadata": {},
   "source": [
    "### Now repeat the training and evaluation process for BOW-tfidf, BOCN-count, BOCN-tfidf, BOW+BOCN including hyperparameter tuning for each model..."
   ]
  },
  {
   "cell_type": "code",
   "execution_count": null,
   "metadata": {},
   "outputs": [],
   "source": []
  },
  {
   "cell_type": "markdown",
   "metadata": {},
   "source": [
    "\n",
    "\n",
    "## Full Results\n",
    "\n",
    "Add here your results:\n",
    "\n",
    "| LR | Precision  | Recall  | F1-Score  |\n",
    "|:-:|:-:|:-:|:-:|\n",
    "| BOW-count  |   |   |   |\n",
    "| BOW-tfidf  |   |   |   |\n",
    "| BOCN-count  |   |   |   |\n",
    "| BOCN-tfidf  |   |   |   |\n",
    "| BOW+BOCN  |   |   |   |\n",
    "\n",
    "Please discuss why your best performing model is better than the rest."
   ]
  },
  {
   "cell_type": "code",
   "execution_count": null,
   "metadata": {},
   "outputs": [],
   "source": []
  },
  {
   "cell_type": "code",
   "execution_count": null,
   "metadata": {},
   "outputs": [],
   "source": []
  }
 ],
 "metadata": {
  "kernelspec": {
   "display_name": "Python 3",
   "language": "python",
   "name": "python3"
  },
  "language_info": {
   "codemirror_mode": {
    "name": "ipython",
    "version": 3
   },
   "file_extension": ".py",
   "mimetype": "text/x-python",
   "name": "python",
   "nbconvert_exporter": "python",
   "pygments_lexer": "ipython3",
   "version": "3.8.8"
  }
 },
 "nbformat": 4,
 "nbformat_minor": 2
}
