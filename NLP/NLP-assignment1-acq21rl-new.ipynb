{
 "cells": [
  {
   "cell_type": "markdown",
   "metadata": {},
   "source": [
    "# [COM6513] Assignment 1: Sentiment Analysis with Logistic Regression\n",
    "\n",
    "### Instructor: Nikos Aletras\n",
    "\n",
    "\n",
    "The goal of this assignment is to develop and test a **text classification** system for **sentiment analysis**, in particular to predict the sentiment of movie reviews, i.e. positive or negative (binary classification).\n",
    "\n",
    "\n",
    "\n",
    "For that purpose, you will implement:\n",
    "\n",
    "\n",
    "- Text processing methods for extracting Bag-Of-Word features, using \n",
    "    - n-grams (BOW), i.e. unigrams, bigrams and trigrams to obtain vector representations of documents where n=1,2,3 respectively. Two vector weighting schemes should be tested: (1) raw frequencies (**1 mark**); (2) tf.idf (**1 mark**). \n",
    "    - character n-grams (BOCN). A character n-gram is a contiguous sequence of characters given a word, e.g. for n=2, 'coffee' is split into {'co', 'of', 'ff', 'fe', 'ee'}. Two vector weighting schemes should be tested: (1) raw frequencies (**1 mark**); (2) tf.idf (**1 mark**). **Tip: Note the large vocabulary size!** \n",
    "    - a combination of the two vector spaces (n-grams and character n-grams) choosing your best performing wighting respectively (i.e. raw or tfidf). (**1 mark**) **Tip: you should merge the two representations**\n",
    "\n",
    "\n",
    "\n",
    "- Binary Logistic Regression (LR) classifiers that will be able to accurately classify movie reviews trained with: \n",
    "    - (1) BOW-count (raw frequencies) \n",
    "    - (2) BOW-tfidf (tf.idf weighted)\n",
    "    - (3) BOCN-count\n",
    "    - (4) BOCN-tfidf\n",
    "    - (5) BOW+BOCN (best performing weighting; raw or tfidf)\n",
    "\n",
    "\n",
    "\n",
    "- The Stochastic Gradient Descent (SGD) algorithm to estimate the parameters of your Logistic Regression models. Your SGD algorithm should:\n",
    "    - Minimise the Binary Cross-entropy loss function (**1 mark**)\n",
    "    - Use L2 regularisation (**1 mark**)\n",
    "    - Perform multiple passes (epochs) over the training data (**1 mark**)\n",
    "    - Randomise the order of training data after each pass (**1 mark**)\n",
    "    - Stop training if the difference between the current and previous development loss is smaller than a threshold (**1 mark**)\n",
    "    - After each epoch print the training and development loss (**1 mark**)\n",
    "\n",
    "\n",
    "\n",
    "- Discuss how did you choose hyperparameters (e.g. learning rate and regularisation strength) for each LR model? You should use a table showing model performance using different set of hyperparameter values. (**2 marks). **Tip: Instead of using all possible combinations, you could perform a random sampling of combinations.**\n",
    "\n",
    "\n",
    "- After training each LR model, plot the learning process (i.e. training and validation loss in each epoch) using a line plot. Does your model underfit, overfit or is it about right? Explain why. (**1 mark**). \n",
    "\n",
    "\n",
    "- Identify and show the most important features (model interpretability) for each class (i.e. top-10 most positive and top-10 negative weights). Give the top 10 for each class and comment on whether they make sense (if they don't you might have a bug!). If you were to apply the classifier into a different domain such laptop reviews or restaurant reviews, do you think these features would generalise well? Can you propose what features the classifier could pick up as important in the new domain? (**2 marks**)\n",
    "\n",
    "\n",
    "- Provide well documented and commented code describing all of your choices. In general, you are free to make decisions about text processing (e.g. punctuation, numbers, vocabulary size) and hyperparameter values. We expect to see justifications and discussion for all of your choices (**2 marks**). \n",
    "\n",
    "\n",
    "- Provide efficient solutions by using Numpy arrays when possible (you can find tips in Lab 1 sheet). Executing the whole notebook with your code should not take more than 5 minutes on a any standard computer (e.g. Intel Core i5 CPU, 8 or 16GB RAM) excluding hyperparameter tuning runs (**2 marks**). \n",
    "\n",
    "\n",
    "\n",
    "\n",
    "\n",
    "\n",
    "### Data \n",
    "\n",
    "The data you will use are taken from here: [http://www.cs.cornell.edu/people/pabo/movie-review-data/](http://www.cs.cornell.edu/people/pabo/movie-review-data/) and you can find it in the `./data_sentiment` folder in CSV format:\n",
    "\n",
    "- `data_sentiment/train.csv`: contains 1,400 reviews, 700 positive (label: 1) and 700 negative (label: 0) to be used for training.\n",
    "- `data_sentiment/dev.csv`: contains 200 reviews, 100 positive and 100 negative to be used for hyperparameter selection and monitoring the training process.\n",
    "- `data_sentiment/test.csv`: contains 400 reviews, 200 positive and 200 negative to be used for testing.\n",
    "\n",
    "\n",
    "\n",
    "\n",
    "### Submission Instructions\n",
    "\n",
    "You should submit a Jupyter Notebook file (assignment1.ipynb) and an exported PDF version (you can do it from Jupyter: `File->Download as->PDF via Latex` or you can print it as PDF using your browser).\n",
    "\n",
    "You are advised to follow the code structure given in this notebook by completing all given funtions. You can also write any auxilliary/helper functions (and arguments for the functions) that you might need but note that you can provide a full solution without any such functions. Similarly, you can just use only the packages imported below but you are free to use any functionality from the [Python Standard Library](https://docs.python.org/2/library/index.html), NumPy, SciPy (excluding built-in softmax funtcions) and Pandas. You are not allowed to use any third-party library such as Scikit-learn (apart from metric functions already provided), NLTK, Spacy, Keras etc.. \n",
    "\n",
    "There is no single correct answer on what your accuracy should be, but correct implementations usually achieve F1-scores around 80\\% or higher. The quality of the analysis of the results is as important as the accuracy itself. \n",
    "\n",
    "This assignment will be marked out of 20. It is worth 20\\% of your final grade in the module.\n",
    "\n",
    "The deadline for this assignment is **23:59 on Mon, 14 Mar 2022** and it needs to be submitted via Blackboard. Standard departmental penalties for lateness will be applied. We use a range of strategies to **detect [unfair means](https://www.sheffield.ac.uk/ssid/unfair-means/index)**, including Turnitin which helps detect plagiarism. Use of unfair means would result in getting a failing grade.\n",
    "\n"
   ]
  },
  {
   "cell_type": "code",
   "execution_count": 1,
   "metadata": {
    "ExecuteTime": {
     "end_time": "2020-03-27T13:41:17.642162Z",
     "start_time": "2020-03-27T13:41:16.891940Z"
    }
   },
   "outputs": [],
   "source": [
    "import pandas as pd\n",
    "import numpy as np\n",
    "from collections import Counter\n",
    "import re\n",
    "import matplotlib.pyplot as plt\n",
    "from sklearn.metrics import accuracy_score, precision_score, recall_score, f1_score\n",
    "import random\n",
    "\n",
    "# fixing random seed for reproducibility\n",
    "random.seed(123)\n",
    "np.random.seed(123)\n"
   ]
  },
  {
   "cell_type": "markdown",
   "metadata": {},
   "source": [
    "## Load Raw texts and labels into arrays\n",
    "\n",
    "First, you need to load the training, development and test sets from their corresponding CSV files (tip: you can use Pandas dataframes)."
   ]
  },
  {
   "cell_type": "code",
   "execution_count": 2,
   "metadata": {
    "ExecuteTime": {
     "end_time": "2020-02-15T14:17:28.145788Z",
     "start_time": "2020-02-15T14:17:28.066100Z"
    }
   },
   "outputs": [
    {
     "data": {
      "text/html": [
       "<div>\n",
       "<style scoped>\n",
       "    .dataframe tbody tr th:only-of-type {\n",
       "        vertical-align: middle;\n",
       "    }\n",
       "\n",
       "    .dataframe tbody tr th {\n",
       "        vertical-align: top;\n",
       "    }\n",
       "\n",
       "    .dataframe thead th {\n",
       "        text-align: right;\n",
       "    }\n",
       "</style>\n",
       "<table border=\"1\" class=\"dataframe\">\n",
       "  <thead>\n",
       "    <tr style=\"text-align: right;\">\n",
       "      <th></th>\n",
       "      <th>lable</th>\n",
       "    </tr>\n",
       "  </thead>\n",
       "  <tbody>\n",
       "    <tr>\n",
       "      <th>count</th>\n",
       "      <td>1400.000000</td>\n",
       "    </tr>\n",
       "    <tr>\n",
       "      <th>mean</th>\n",
       "      <td>0.500000</td>\n",
       "    </tr>\n",
       "    <tr>\n",
       "      <th>std</th>\n",
       "      <td>0.500179</td>\n",
       "    </tr>\n",
       "    <tr>\n",
       "      <th>min</th>\n",
       "      <td>0.000000</td>\n",
       "    </tr>\n",
       "    <tr>\n",
       "      <th>25%</th>\n",
       "      <td>0.000000</td>\n",
       "    </tr>\n",
       "    <tr>\n",
       "      <th>50%</th>\n",
       "      <td>0.500000</td>\n",
       "    </tr>\n",
       "    <tr>\n",
       "      <th>75%</th>\n",
       "      <td>1.000000</td>\n",
       "    </tr>\n",
       "    <tr>\n",
       "      <th>max</th>\n",
       "      <td>1.000000</td>\n",
       "    </tr>\n",
       "  </tbody>\n",
       "</table>\n",
       "</div>"
      ],
      "text/plain": [
       "             lable\n",
       "count  1400.000000\n",
       "mean      0.500000\n",
       "std       0.500179\n",
       "min       0.000000\n",
       "25%       0.000000\n",
       "50%       0.500000\n",
       "75%       1.000000\n",
       "max       1.000000"
      ]
     },
     "execution_count": 2,
     "metadata": {},
     "output_type": "execute_result"
    }
   ],
   "source": [
    "train_data = pd.read_csv('data_sentiment/train.csv', encoding= 'unicode_escape',names=['text','lable'])\n",
    "dev_data = pd.read_csv('data_sentiment/dev.csv', encoding= 'unicode_escape',names=['text','lable'])\n",
    "test_data = pd.read_csv('data_sentiment/test.csv', encoding= 'unicode_escape',names=['text','lable'])\n",
    "\n",
    "train_data.describe()"
   ]
  },
  {
   "cell_type": "markdown",
   "metadata": {},
   "source": [
    "If you use Pandas you can see a sample of the data."
   ]
  },
  {
   "cell_type": "code",
   "execution_count": 3,
   "metadata": {
    "ExecuteTime": {
     "end_time": "2020-02-15T14:17:28.900892Z",
     "start_time": "2020-02-15T14:17:28.891221Z"
    }
   },
   "outputs": [
    {
     "data": {
      "text/html": [
       "<div>\n",
       "<style scoped>\n",
       "    .dataframe tbody tr th:only-of-type {\n",
       "        vertical-align: middle;\n",
       "    }\n",
       "\n",
       "    .dataframe tbody tr th {\n",
       "        vertical-align: top;\n",
       "    }\n",
       "\n",
       "    .dataframe thead th {\n",
       "        text-align: right;\n",
       "    }\n",
       "</style>\n",
       "<table border=\"1\" class=\"dataframe\">\n",
       "  <thead>\n",
       "    <tr style=\"text-align: right;\">\n",
       "      <th></th>\n",
       "      <th>text</th>\n",
       "      <th>lable</th>\n",
       "    </tr>\n",
       "  </thead>\n",
       "  <tbody>\n",
       "    <tr>\n",
       "      <th>952</th>\n",
       "      <td>you know that a movie has issues when most eve...</td>\n",
       "      <td>0</td>\n",
       "    </tr>\n",
       "    <tr>\n",
       "      <th>908</th>\n",
       "      <td>while watching loser , it occurred to me that ...</td>\n",
       "      <td>0</td>\n",
       "    </tr>\n",
       "    <tr>\n",
       "      <th>221</th>\n",
       "      <td>richard gere can be a commanding actor , but h...</td>\n",
       "      <td>1</td>\n",
       "    </tr>\n",
       "    <tr>\n",
       "      <th>310</th>\n",
       "      <td>though it is a fine piece of filmmaking , ther...</td>\n",
       "      <td>1</td>\n",
       "    </tr>\n",
       "    <tr>\n",
       "      <th>218</th>\n",
       "      <td>if there is one thing that bothers me about ho...</td>\n",
       "      <td>1</td>\n",
       "    </tr>\n",
       "  </tbody>\n",
       "</table>\n",
       "</div>"
      ],
      "text/plain": [
       "                                                  text  lable\n",
       "952  you know that a movie has issues when most eve...      0\n",
       "908  while watching loser , it occurred to me that ...      0\n",
       "221  richard gere can be a commanding actor , but h...      1\n",
       "310  though it is a fine piece of filmmaking , ther...      1\n",
       "218  if there is one thing that bothers me about ho...      1"
      ]
     },
     "execution_count": 3,
     "metadata": {},
     "output_type": "execute_result"
    }
   ],
   "source": [
    "train_data.sample(5)"
   ]
  },
  {
   "cell_type": "markdown",
   "metadata": {},
   "source": [
    "The next step is to put the raw texts into Python lists and their corresponding labels into NumPy arrays:\n"
   ]
  },
  {
   "cell_type": "code",
   "execution_count": 4,
   "metadata": {
    "ExecuteTime": {
     "end_time": "2020-02-15T14:17:31.115577Z",
     "start_time": "2020-02-15T14:17:31.108038Z"
    }
   },
   "outputs": [
    {
     "data": {
      "text/plain": [
       "200"
      ]
     },
     "execution_count": 4,
     "metadata": {},
     "output_type": "execute_result"
    }
   ],
   "source": [
    "train_data_text = train_data['text'].tolist()\n",
    "Y_tr = train_data['lable'].to_numpy()\n",
    "\n",
    "dev_data_text = dev_data['text'].tolist()\n",
    "Y_dev = dev_data['lable'].to_numpy()\n",
    "\n",
    "test_data_text = test_data['text'].tolist()\n",
    "Y_te = test_data['lable'].to_numpy()\n",
    "\n",
    "len(dev_data_text)"
   ]
  },
  {
   "cell_type": "markdown",
   "metadata": {},
   "source": [
    "# Vector Representations of Text \n",
    "\n",
    "\n",
    "To train and test Logisitc Regression models, you first need to obtain vector representations for all documents given a vocabulary of features (unigrams, bigrams, trigrams).\n",
    "\n",
    "\n",
    "## Text Pre-Processing Pipeline\n",
    "\n",
    "To obtain a vocabulary of features, you should: \n",
    "- tokenise all texts into a list of unigrams (tip: using a regular expression) \n",
    "- remove stop words (using the one provided or one of your preference) \n",
    "- compute bigrams, trigrams given the remaining unigrams (or character ngrams from the unigrams)\n",
    "- remove ngrams appearing in less than K documents\n",
    "- use the remaining to create a vocabulary of unigrams, bigrams and trigrams (or character n-grams). You can keep top N if you encounter memory issues.\n"
   ]
  },
  {
   "cell_type": "code",
   "execution_count": null,
   "metadata": {},
   "outputs": [],
   "source": []
  },
  {
   "cell_type": "code",
   "execution_count": 5,
   "metadata": {
    "ExecuteTime": {
     "end_time": "2020-02-15T14:17:31.860420Z",
     "start_time": "2020-02-15T14:17:31.855439Z"
    }
   },
   "outputs": [],
   "source": [
    "stop_words = ['a','in','on','at','and','or', \n",
    "              'to', 'the', 'of', 'an', 'by', \n",
    "              'as', 'is', 'was', 'were', 'been', 'be', \n",
    "              'are','for', 'this', 'that', 'these', 'those', 'you', 'i',\n",
    "             'it', 'he', 'she', 'we', 'they', 'will', 'have', 'has',\n",
    "              'do', 'did', 'can', 'could', 'who', 'which', 'what', \n",
    "             'his', 'her', 'they', 'them', 'from', 'with', 'its',\n",
    "              '4','8','t','d','s','b','ve','','dr','l','x','your','mother','woman'] \n",
    "\n",
    "# add some high frequent but meaningless word like the '4','8','t','d','s','b','ve','dr','x'"
   ]
  },
  {
   "cell_type": "markdown",
   "metadata": {},
   "source": [
    "### N-gram extraction from a document\n",
    "\n",
    "You first need to implement the `extract_ngrams` function. It takes as input:\n",
    "- `x_raw`: a string corresponding to the raw text of a document\n",
    "- `ngram_range`: a tuple of two integers denoting the type of ngrams you want to extract, e.g. (1,2) denotes extracting unigrams and bigrams.\n",
    "- `token_pattern`: a string to be used within a regular expression to extract all tokens. Note that data is already tokenised so you could opt for a simple white space tokenisation.\n",
    "- `stop_words`: a list of stop words\n",
    "- `vocab`: a given vocabulary. It should be used to extract specific features.\n",
    "- `char_ngrams`: boolean. If true the function extracts character n-grams\n",
    "\n",
    "and returns:\n",
    "\n",
    "- `x': a list of all extracted features.\n",
    "\n",
    "See the examples below to see how this function should work."
   ]
  },
  {
   "cell_type": "code",
   "execution_count": 6,
   "metadata": {},
   "outputs": [],
   "source": [
    "def extract_ngrams(x_raw, ngram_range=(1,3), token_pattern=r'', \n",
    "                   stop_words=[], vocab=set(), char_ngrams=False):\n",
    "    \n",
    "    x = []\n",
    "    \n",
    "    split_text = re.split(r'\\W+',x_raw)                      # separate docs to word to drop the stop_words\n",
    "    \n",
    "    for word in split_text:\n",
    "        if word in stop_words:\n",
    "            split_text.remove(word)\n",
    "\n",
    "    if(char_ngrams == False):                                # if it's BOW \n",
    "        if len(vocab)>0:                                     # if give the vocab, just extract the ngrams in vocab\n",
    "            x = [''.join(split_text[i:i+j]) for i in range(len(split_text)) \n",
    "                    for j in range(ngram_range[0],ngram_range[1]+1) \n",
    "                 if(i+j<=len(split_text) and ''.join(split_text[i:i+j]) in vocab)]\n",
    "        \n",
    "            \n",
    "        else:                                                # when do not give a vocab, save all ngrams\n",
    "            \n",
    "            x = [' '.join(split_text[i:i+j]) for i in range(len(split_text)) \n",
    "                          for j in range(ngram_range[0],ngram_range[1]+1) \n",
    "                 if(i+j<=len(split_text) and ''.join(split_text[i:i+j]) not in stop_words)]       \n",
    "\n",
    "    else:                                                    # if it's BOCN\n",
    "        text = ''.join(split_text)                           # jiont the word to a list\n",
    "        split_text = re.split(r'\\W*', text)                  # separate it to characters\n",
    "        split_text.remove(split_text[0])                     # remove the signal of string\n",
    "        split_text.remove(split_text[-1])\n",
    "        \n",
    "        if len(vocab)>0:                                     # when give a vocab, just extract the ngrams in vocab\n",
    "    \n",
    "            x = [''.join(split_text[i:i+j]) for i in range(len(split_text)) \n",
    "                    for j in range(ngram_range[0],ngram_range[1]+1) \n",
    "                 if(i+j<=len(split_text) and ''.join(split_text[i:i+j]) in vocab)]\n",
    "        \n",
    "        else:\n",
    "            \n",
    "            x = [''.join(split_text[i:i+j]) for i in range(len(split_text)) \n",
    "                    for j in range(ngram_range[0],ngram_range[1]+1) \n",
    "                 if(i+j<=len(split_text) and ''.join(split_text[i:i+j]) not in stop_words)]\n",
    "        \n",
    "                            \n",
    "                        \n",
    "    return x"
   ]
  },
  {
   "cell_type": "markdown",
   "metadata": {},
   "source": [
    "Note that it is OK to represent n-grams using lists instead of tuples: e.g. `['great', ['great', 'movie']]`"
   ]
  },
  {
   "cell_type": "markdown",
   "metadata": {},
   "source": [
    "For extracting character n-grams the function should work as follows:"
   ]
  },
  {
   "cell_type": "code",
   "execution_count": 7,
   "metadata": {},
   "outputs": [
    {
     "data": {
      "text/plain": [
       "['mo',\n",
       " 'mov',\n",
       " 'movi',\n",
       " 'ov',\n",
       " 'ovi',\n",
       " 'ovie',\n",
       " 'vi',\n",
       " 'vie',\n",
       " 'vieg',\n",
       " 'ie',\n",
       " 'ieg',\n",
       " 'iego',\n",
       " 'eg',\n",
       " 'ego',\n",
       " 'egoo',\n",
       " 'go',\n",
       " 'goo',\n",
       " 'good',\n",
       " 'oo',\n",
       " 'ood',\n",
       " 'od']"
      ]
     },
     "execution_count": 7,
     "metadata": {},
     "output_type": "execute_result"
    }
   ],
   "source": [
    "extract_ngrams(\"movie good\", \n",
    "               ngram_range=(2,4), \n",
    "               stop_words=[],\n",
    "               char_ngrams=True)"
   ]
  },
  {
   "cell_type": "markdown",
   "metadata": {},
   "source": [
    "### Create a vocabulary \n",
    "\n",
    "The `get_vocab` function will be used to (1) create a vocabulary of ngrams; (2) count the document frequencies of ngrams; (3) their raw frequency. It takes as input:\n",
    "- `X_raw`: a list of strings each corresponding to the raw text of a document\n",
    "- `ngram_range`: a tuple of two integers denoting the type of ngrams you want to extract, e.g. (1,2) denotes extracting unigrams and bigrams.\n",
    "- `token_pattern`: a string to be used within a regular expression to extract all tokens. Note that data is already tokenised so you could opt for a simple white space tokenisation.\n",
    "- `stop_words`: a list of stop words\n",
    "- `min_df`: keep ngrams with a minimum document frequency.\n",
    "- `keep_topN`: keep top-N more frequent ngrams.\n",
    "\n",
    "and returns:\n",
    "\n",
    "- `vocab`: a set of the n-grams that will be used as features.\n",
    "- `df`: a Counter (or dict) that contains ngrams as keys and their corresponding document frequency as values.\n",
    "- `ngram_counts`: counts of each ngram in vocab\n",
    "\n",
    "Hint: it should make use of the `extract_ngrams` function."
   ]
  },
  {
   "cell_type": "code",
   "execution_count": 8,
   "metadata": {},
   "outputs": [],
   "source": [
    "# get_vocab function to get the train dataset vocab\n",
    "\n",
    "def get_vocab(X_raw, ngram_range=(1,3), \n",
    "              min_df=0, keep_topN=0, \n",
    "              stop_words=[],char_ngrams=False):\n",
    "    \n",
    "    df = []\n",
    "    vocab = []\n",
    "    df_save =[]\n",
    "    ngram_counts = []                                   # do not use in after procedure, so not calculate \n",
    "    ngram_counts_temp = []                              # for saving runtime\n",
    "    x_ngram = [[] for i in range(len(X_raw))]\n",
    "    \n",
    "    for text in X_raw:                                  # extract the ngram from each doc \n",
    "        docs = extract_ngrams(text,ngram_range,stop_words =stop_words,char_ngrams=char_ngrams)\n",
    "        ngram_counts_temp.append(docs)\n",
    "        df_save.append(set(docs)) \n",
    "\n",
    "    df_save = [i for k in df_save for i in k]\n",
    "    temp = Counter(df_save)\n",
    "    if keep_topN == 0:                                  # if drop less minimum frequent ngram \n",
    "        temp.pop(ngram for ngram,num in dict(temp).items() if num < min_df)\n",
    "        \n",
    "    else:                                               # if extract topN frequent ngram\n",
    "        sort_temp = sorted(dict(temp).items(), key=lambda item: item[1], reverse=True)\n",
    "        temp = sort_temp[:keep_topN]\n",
    "            \n",
    "                \n",
    "    df=dict(temp)\n",
    "    vocab=list(df.keys())\n",
    "    \n",
    "    for i in range(len(X_raw)):                        # calculate the training dataset ngram list\n",
    "        x_ngram[i] = [word for word in ngram_counts_temp[i] if word in vocab]\n",
    "    \n",
    "    return vocab, df, ngram_counts,x_ngram             # increase the train ngram list for saving the runtime"
   ]
  },
  {
   "cell_type": "markdown",
   "metadata": {},
   "source": [
    "Now you should use `get_vocab` to create your vocabulary and get document and raw frequencies of n-grams:"
   ]
  },
  {
   "cell_type": "code",
   "execution_count": 9,
   "metadata": {
    "ExecuteTime": {
     "end_time": "2020-02-15T14:17:39.319793Z",
     "start_time": "2020-02-15T14:17:36.836545Z"
    }
   },
   "outputs": [
    {
     "data": {
      "text/plain": [
       "2000"
      ]
     },
     "execution_count": 9,
     "metadata": {},
     "output_type": "execute_result"
    }
   ],
   "source": [
    "ngram_range=(1,3)\n",
    "min_df = 50\n",
    "#keep_topN = 0                                         # if using min_df\n",
    "keep_topN = 2000\n",
    "char_ngrams=False\n",
    "\n",
    "vocab,df,ngram_counts,ngram_train = get_vocab(train_data_text, ngram_range, min_df,\n",
    "                                              keep_topN,stop_words=stop_words,char_ngrams=char_ngrams)\n",
    "len(vocab)"
   ]
  },
  {
   "cell_type": "markdown",
   "metadata": {},
   "source": [
    "Then, you need to create 2 dictionaries: (1) vocabulary id -> word; and  (2) word -> vocabulary id so you can use them for reference:"
   ]
  },
  {
   "cell_type": "code",
   "execution_count": 10,
   "metadata": {
    "ExecuteTime": {
     "end_time": "2020-02-15T14:17:39.326811Z",
     "start_time": "2020-02-15T14:17:39.322256Z"
    }
   },
   "outputs": [],
   "source": [
    "def createDict(vocab):\n",
    "    \n",
    "    id2word = dict()\n",
    "    word2id = dict()\n",
    "    \n",
    "    for i,voc in enumerate(vocab):\n",
    "        id2word[i] = voc\n",
    "        word2id[voc] = i\n",
    "        \n",
    "    return id2word,word2id"
   ]
  },
  {
   "cell_type": "code",
   "execution_count": 11,
   "metadata": {},
   "outputs": [],
   "source": [
    "id2word,word2id = createDict(vocab)"
   ]
  },
  {
   "cell_type": "markdown",
   "metadata": {},
   "source": [
    "Now you should be able to extract n-grams for each text in the training, development and test sets:"
   ]
  },
  {
   "cell_type": "code",
   "execution_count": 12,
   "metadata": {
    "ExecuteTime": {
     "end_time": "2020-02-15T14:17:40.213253Z",
     "start_time": "2020-02-15T14:17:39.329147Z"
    }
   },
   "outputs": [],
   "source": [
    "# extract the features in development dataset and test dataset, the features in training dataset has already save \n",
    "# when call the get_vocab for saving the runtime.\n",
    "\n",
    "def ext_all_ngrams(dev,test,stop_words,vocab,char_ngrams):   \n",
    "    \n",
    "    ngram_dev=[]\n",
    "    ngram_test=[]\n",
    "    \n",
    "    for text in dev:\n",
    "        docs = extract_ngrams(text,ngram_range,stop_words = stop_words,vocab = vocab,char_ngrams=char_ngrams)\n",
    "        ngram_dev.append(docs)\n",
    "        \n",
    "    for text in test:\n",
    "        docs = extract_ngrams(text,ngram_range,stop_words = stop_words,vocab = vocab,char_ngrams=char_ngrams)\n",
    "        ngram_test.append(docs)\n",
    "        \n",
    "    return ngram_dev,ngram_test"
   ]
  },
  {
   "cell_type": "code",
   "execution_count": 13,
   "metadata": {},
   "outputs": [],
   "source": [
    "ngram_dev,ngram_test = ext_all_ngrams(dev_data_text,test_data_text,stop_words,vocab,char_ngrams)"
   ]
  },
  {
   "cell_type": "markdown",
   "metadata": {},
   "source": [
    "## Vectorise documents "
   ]
  },
  {
   "cell_type": "markdown",
   "metadata": {},
   "source": [
    "Next, write a function `vectoriser` to obtain Bag-of-ngram representations for a list of documents. The function should take as input:\n",
    "- `X_ngram`: a list of texts (documents), where each text is represented as list of n-grams in the `vocab`\n",
    "- `vocab`: a set of n-grams to be used for representing the documents\n",
    "\n",
    "and return:\n",
    "- `X_vec`: an array with dimensionality Nx|vocab| where N is the number of documents and |vocab| is the size of the vocabulary. Each element of the array should represent the frequency of a given n-gram in a document.\n"
   ]
  },
  {
   "cell_type": "code",
   "execution_count": 14,
   "metadata": {
    "ExecuteTime": {
     "end_time": "2020-02-15T14:17:40.219201Z",
     "start_time": "2020-02-15T14:17:40.215129Z"
    }
   },
   "outputs": [],
   "source": [
    "def vectorise(X_ngram, vocab):\n",
    "    \n",
    "    rows, cols = len(X_ngram),len(vocab)                   \n",
    "    X_vec = [([]*cols) for i in range(rows)]         # create an empty matrix to save the vectors\n",
    "    \n",
    "    for i,doc in enumerate(X_ngram):\n",
    "        doc_fre = Counter(doc)                       # the word frequency in a documents\n",
    "        for j,word in enumerate(vocab):              # save the word frequency according to the order of vocab\n",
    "            if doc_fre[word]>0:\n",
    "                X_vec[i].append(doc_fre[word])\n",
    "            else:\n",
    "                X_vec[i].append(0)\n",
    "                \n",
    "    X_vec = np.squeeze(np.asarray(X_vec))            # matrix transfer to array\n",
    "    \n",
    "    return X_vec"
   ]
  },
  {
   "cell_type": "markdown",
   "metadata": {},
   "source": [
    "Finally, use `vectorise` to obtain document vectors for each document in the train, development and test set. You should extract both count and tf.idf vectors respectively:"
   ]
  },
  {
   "cell_type": "markdown",
   "metadata": {},
   "source": [
    "#### Count vectors"
   ]
  },
  {
   "cell_type": "code",
   "execution_count": 15,
   "metadata": {
    "ExecuteTime": {
     "end_time": "2020-02-15T14:17:41.999574Z",
     "start_time": "2020-02-15T14:17:40.376534Z"
    }
   },
   "outputs": [],
   "source": [
    "def vec_all_data(ngram_train,ngram_dev,ngram_test,vocab):       # make a counts matrix of features with documents\n",
    "    X_tr = vectorise(ngram_train,vocab)\n",
    "    X_dev = vectorise(ngram_dev,vocab)\n",
    "    X_te = vectorise(ngram_test,vocab)\n",
    "    return X_tr,X_dev,X_te"
   ]
  },
  {
   "cell_type": "code",
   "execution_count": 16,
   "metadata": {},
   "outputs": [],
   "source": [
    "x_tr_count_w,x_dev_count_w,x_te_count_w = vec_all_data(ngram_train,ngram_dev,ngram_test,vocab)"
   ]
  },
  {
   "cell_type": "markdown",
   "metadata": {},
   "source": [
    "#### TF.IDF vectors\n",
    "\n",
    "First compute `idfs` an array containing inverted document frequencies (Note: its elements should correspond to your `vocab`)"
   ]
  },
  {
   "cell_type": "markdown",
   "metadata": {},
   "source": [
    "Then transform your count vectors to tf.idf vectors:"
   ]
  },
  {
   "cell_type": "code",
   "execution_count": 17,
   "metadata": {},
   "outputs": [],
   "source": [
    "def vec_tfidf(X_tr_count,X_dev_count,X_te_count,vocab,df):\n",
    "    \n",
    "    idf_dict = dict()                                 # to save the idf of word\n",
    "\n",
    "    for word in vocab:                                # calculate the idf\n",
    "        idf_dict[word] = np.log10(np.shape(X_tr_count)[0]/df[word])\n",
    "    \n",
    "    idf_list = list(idf_dict.values())\n",
    "    idf_arr = np.array(idf_list)\n",
    "\n",
    "    X_tr_tfidf = X_tr_count*idf_arr                   # tfidf = tf * idf\n",
    "    X_dev_tfidf = X_dev_count*idf_arr\n",
    "    X_te_tfidf = X_te_count*idf_arr\n",
    "    \n",
    "    return X_tr_tfidf,X_dev_tfidf,X_te_tfidf"
   ]
  },
  {
   "cell_type": "code",
   "execution_count": 18,
   "metadata": {},
   "outputs": [],
   "source": [
    "X_tr_tfidf,X_dev_tfidf,X_te_tfidf = vec_tfidf(x_tr_count_w,x_dev_count_w,x_te_count_w,vocab,df)"
   ]
  },
  {
   "cell_type": "markdown",
   "metadata": {},
   "source": [
    "# Binary Logistic Regression\n",
    "\n",
    "After obtaining vector representations of the data, now you are ready to implement Binary Logistic Regression for classifying sentiment."
   ]
  },
  {
   "cell_type": "markdown",
   "metadata": {},
   "source": [
    "First, you need to implement the `sigmoid` function. It takes as input:\n",
    "\n",
    "- `z`: a real number or an array of real numbers \n",
    "\n",
    "and returns:\n",
    "\n",
    "- `sig`: the sigmoid of `z`"
   ]
  },
  {
   "cell_type": "code",
   "execution_count": 19,
   "metadata": {
    "ExecuteTime": {
     "end_time": "2020-02-15T14:17:44.160661Z",
     "start_time": "2020-02-15T14:17:44.157902Z"
    }
   },
   "outputs": [],
   "source": [
    "def sigmoid(z):\n",
    "    \n",
    "    sig = 1/(1+np.exp(-z))\n",
    "    \n",
    "    return sig"
   ]
  },
  {
   "cell_type": "markdown",
   "metadata": {},
   "source": [
    "Then, implement the `predict_proba` function to obtain prediction probabilities. It takes as input:\n",
    "\n",
    "- `X`: an array of inputs, i.e. documents represented by bag-of-ngram vectors ($N \\times |vocab|$)\n",
    "- `weights`: a 1-D array of the model's weights $(1, |vocab|)$\n",
    "\n",
    "and returns:\n",
    "\n",
    "- `preds_proba`: the prediction probabilities of X given the weights"
   ]
  },
  {
   "cell_type": "code",
   "execution_count": 20,
   "metadata": {
    "ExecuteTime": {
     "end_time": "2020-02-15T14:17:44.718566Z",
     "start_time": "2020-02-15T14:17:44.715017Z"
    }
   },
   "outputs": [],
   "source": [
    "def predict_proba(X, weights):\n",
    "    \n",
    "    preds_proba = sigmoid(weights@X.T) \n",
    "    \n",
    "    return preds_proba"
   ]
  },
  {
   "cell_type": "markdown",
   "metadata": {},
   "source": [
    "Then, implement the `predict_class` function to obtain the most probable class for each vector in an array of input vectors. It takes as input:\n",
    "\n",
    "- `X`: an array of documents represented by bag-of-ngram vectors ($N \\times |vocab|$)\n",
    "- `weights`: a 1-D array of the model's weights $(1, |vocab|)$\n",
    "\n",
    "and returns:\n",
    "\n",
    "- `preds_class`: the predicted class for each x in X given the weights"
   ]
  },
  {
   "cell_type": "code",
   "execution_count": 21,
   "metadata": {
    "ExecuteTime": {
     "end_time": "2020-02-15T14:17:45.002125Z",
     "start_time": "2020-02-15T14:17:44.998668Z"
    }
   },
   "outputs": [],
   "source": [
    "def predict_class(X, weights):\n",
    "    \n",
    "    y = weights@(X.T)               # predict the probability\n",
    "    \n",
    "    y_class = []\n",
    "    \n",
    "    for p in y:\n",
    "        if(p>0.5):\n",
    "            y_class.append(1)\n",
    "        else:\n",
    "            y_class.append(0)\n",
    "            \n",
    "    return np.array(y_class)        # return the most probable class"
   ]
  },
  {
   "cell_type": "code",
   "execution_count": null,
   "metadata": {},
   "outputs": [],
   "source": []
  },
  {
   "cell_type": "markdown",
   "metadata": {},
   "source": [
    "To learn the weights from data, we need to minimise the binary cross-entropy loss. Implement `binary_loss` that takes as input:\n",
    "\n",
    "- `X`: input vectors\n",
    "- `Y`: labels\n",
    "- `weights`: model weights\n",
    "- `alpha`: regularisation strength\n",
    "\n",
    "and return:\n",
    "\n",
    "- `l`: the loss score"
   ]
  },
  {
   "cell_type": "code",
   "execution_count": 22,
   "metadata": {
    "ExecuteTime": {
     "end_time": "2020-02-15T14:17:45.455533Z",
     "start_time": "2020-02-15T14:17:45.451475Z"
    }
   },
   "outputs": [],
   "source": [
    "def binary_loss(X, Y, Y_pre, weights, alpha=0.00001):\n",
    "    '''\n",
    "    Binary Cross-entropy Loss\n",
    "\n",
    "    X:(len(X),len(vocab))\n",
    "    Y: array len(Y)\n",
    "    weights: array len(X)\n",
    "    '''\n",
    "    l = (-Y*np.log(Y_pre)-(1-Y)*np.log(1-Y_pre)).mean()+alpha*np.dot(weights.T,weights)\n",
    "\n",
    "    return l\n",
    "\n",
    "# attention: derivation of W?"
   ]
  },
  {
   "cell_type": "markdown",
   "metadata": {},
   "source": [
    "Now, you can implement Stochastic Gradient Descent to learn the weights of your sentiment classifier. The `SGD` function takes as input:\n",
    "\n",
    "- `X_tr`: array of training data (vectors)\n",
    "- `Y_tr`: labels of `X_tr`\n",
    "- `X_dev`: array of development (i.e. validation) data (vectors)\n",
    "- `Y_dev`: labels of `X_dev`\n",
    "- `lr`: learning rate\n",
    "- `alpha`: regularisation strength\n",
    "- `epochs`: number of full passes over the training data\n",
    "- `tolerance`: stop training if the difference between the current and previous validation loss is smaller than a threshold\n",
    "- `print_progress`: flag for printing the training progress (train/validation loss)\n",
    "\n",
    "\n",
    "and returns:\n",
    "\n",
    "- `weights`: the weights learned\n",
    "- `training_loss_history`: an array with the average losses of the whole training set after each epoch\n",
    "- `validation_loss_history`: an array with the average losses of the whole development set after each epoch"
   ]
  },
  {
   "cell_type": "code",
   "execution_count": 23,
   "metadata": {},
   "outputs": [],
   "source": [
    "def SGD(X_tr, Y_tr, X_dev=[], Y_dev=[], lr=0.000001,             # trianing model using SGD\n",
    "        alpha=0.000001, epochs=300, \n",
    "        tolerance = 0.0000001, print_progress=True):\n",
    "    \n",
    "    last_val_loss = 1e+3                   \n",
    "    training_loss_history = []\n",
    "    validation_loss_history = []\n",
    "    weights = np.zeros(np.shape(X_tr)[1])\n",
    "    Y_tr_pre = np.zeros(np.shape(X_tr)[0])\n",
    "    for i in range(epochs):                                      \n",
    "        indices = np.array(range(len(X_tr)))                     # random the training dataset each epochs\n",
    "        np.random.shuffle(indices)\n",
    "        for index in indices:\n",
    "            Y_tr_pre[index] = predict_proba(X_tr[index],weights)                             # predicting \n",
    "            weights -= lr*((Y_tr_pre[index] - Y_tr[index])*X_tr[index] + 2*alpha*weights)    # updating the w\n",
    "        \n",
    "        training_loss_history.append([i,binary_loss(X_tr,Y_tr,Y_tr_pre,weights,alpha)])      # saving the train loss\n",
    "        Y_dev_pre = predict_proba(X_dev,weights)\n",
    "        validation_loss_history.append([i,binary_loss(X_dev,Y_dev,Y_dev_pre,weights,alpha)]) # saving the val loss\n",
    "        if print_progress == True:                               # when need to print the process\n",
    "            if (i+1)%200 ==0:                                    # show the process every 200 epochs \n",
    "                print(\"Epoch: {}. Training_Loss: {:.6f}. Val_Loss: {:.6f}\".       # cause there are too many epochs\n",
    "                      format((i+1),training_loss_history[i][1],validation_loss_history[i][1]))\n",
    "        if (last_val_loss-validation_loss_history[i][1]) < tolerance:             # if the difference between new and \n",
    "            break                                                                 # last val loss, break the loop\n",
    "        last_val_loss = validation_loss_history[i][1]            \n",
    "    \n",
    "    print('Finish training! Epoch: {}. Training_Loss: {:.6f}. Val_Loss: {:.6f}. lr:{:.8f}'.\n",
    "          format((i+1),training_loss_history[i][1],validation_loss_history[i][1],lr))\n",
    "    \n",
    "    return weights, training_loss_history, validation_loss_history"
   ]
  },
  {
   "cell_type": "markdown",
   "metadata": {},
   "source": [
    "## Train and Evaluate Logistic Regression with Count vectors\n",
    "\n",
    "First train the model using SGD:"
   ]
  },
  {
   "cell_type": "code",
   "execution_count": 24,
   "metadata": {},
   "outputs": [
    {
     "name": "stdout",
     "output_type": "stream",
     "text": [
      "Epoch: 200. Training_Loss: 0.485190. Val_Loss: 0.543535\n",
      "Epoch: 400. Training_Loss: 0.412434. Val_Loss: 0.495386\n",
      "Epoch: 600. Training_Loss: 0.368043. Val_Loss: 0.467932\n",
      "Epoch: 800. Training_Loss: 0.336199. Val_Loss: 0.449687\n",
      "Epoch: 1000. Training_Loss: 0.311513. Val_Loss: 0.436656\n",
      "Epoch: 1200. Training_Loss: 0.291472. Val_Loss: 0.426931\n",
      "Epoch: 1400. Training_Loss: 0.274688. Val_Loss: 0.419451\n",
      "Epoch: 1600. Training_Loss: 0.260311. Val_Loss: 0.413550\n",
      "Epoch: 1800. Training_Loss: 0.247785. Val_Loss: 0.408877\n",
      "Epoch: 2000. Training_Loss: 0.236724. Val_Loss: 0.405083\n",
      "Epoch: 2200. Training_Loss: 0.226851. Val_Loss: 0.401985\n",
      "Epoch: 2400. Training_Loss: 0.217958. Val_Loss: 0.399463\n",
      "Epoch: 2600. Training_Loss: 0.209888. Val_Loss: 0.397401\n",
      "Epoch: 2800. Training_Loss: 0.202516. Val_Loss: 0.395702\n",
      "Epoch: 3000. Training_Loss: 0.195746. Val_Loss: 0.394321\n",
      "Finish training! Epoch: 3095. Training_Loss: 0.192716. Val_Loss: 0.393758. lr:0.00000360\n"
     ]
    }
   ],
   "source": [
    "lr = 0.0000036    \n",
    "alpha = 0.0001\n",
    "epochs = 3400\n",
    "tolerance = 0.000001\n",
    "\n",
    "w_count, train_loss, val_loss = SGD(x_tr_count_w,Y_tr,x_dev_count_w,Y_dev,lr,alpha,epochs,tolerance)"
   ]
  },
  {
   "cell_type": "markdown",
   "metadata": {},
   "source": [
    "Now plot the training and validation history per epoch for the best hyperparameter combination. Does your model underfit, overfit or is it about right? Explain why."
   ]
  },
  {
   "cell_type": "code",
   "execution_count": 25,
   "metadata": {},
   "outputs": [],
   "source": [
    "def show_loss(train_loss,val_loss,t):\n",
    "    training_loss_history = np.array(train_loss)\n",
    "    validation_loss_history = np.array(val_loss)\n",
    "\n",
    "    x1 = training_loss_history[:,0]\n",
    "    y1 = training_loss_history[:,1]\n",
    "    x2 = validation_loss_history[:,0]\n",
    "    y2 = validation_loss_history[:,1]\n",
    "\n",
    "    fig = plt.figure(figsize = (7,5))       \n",
    "\n",
    "    p1 = plt.plot(x1, y1,'g-', label = u'Train Loss')\n",
    "    plt.legend()\n",
    "\n",
    "    p2 = plt.plot(x2, y2, 'b-', label = u'Val Loss')\n",
    "    plt.legend()\n",
    "    plt.xlabel(u'Epochs')\n",
    "    plt.ylabel(u'Loss')\n",
    "    plt.title('Compare loss for {}'.format(t))\n",
    "    "
   ]
  },
  {
   "cell_type": "code",
   "execution_count": 26,
   "metadata": {},
   "outputs": [
    {
     "data": {
      "image/png": "[encoded data removed]",
      "text/plain": [
       "<Figure size 504x360 with 1 Axes>"
      ]
     },
     "metadata": {
      "needs_background": "light"
     },
     "output_type": "display_data"
    }
   ],
   "source": [
    "t = 'BOCN-Count'\n",
    "show_loss(train_loss,val_loss,t)"
   ]
  },
  {
   "cell_type": "markdown",
   "metadata": {
    "ExecuteTime": {
     "end_time": "2020-01-21T16:52:26.583150Z",
     "start_time": "2020-01-21T16:52:26.578754Z"
    }
   },
   "source": [
    "Explain here..."
   ]
  },
  {
   "cell_type": "markdown",
   "metadata": {},
   "source": [
    "It's right. Because as the picture shows, both loss decrease slowly and gradually. There no wave and the difference between the new epoch loss is less than the tolenrance finally."
   ]
  },
  {
   "cell_type": "markdown",
   "metadata": {},
   "source": [
    "#### Evaluation\n",
    "\n",
    "Compute accuracy, precision, recall and F1-scores:"
   ]
  },
  {
   "cell_type": "code",
   "execution_count": 27,
   "metadata": {},
   "outputs": [],
   "source": [
    "def evaluation(X_te,Y_te,w_count):\n",
    "    preds_te = predict_class(X_te, w_count)\n",
    "\n",
    "    print('Accuracy:', accuracy_score(Y_te,preds_te))\n",
    "    print('Precision:', precision_score(Y_te,preds_te))\n",
    "    print('Recall:', recall_score(Y_te,preds_te))\n",
    "    print('F1-Score:', f1_score(Y_te,preds_te))"
   ]
  },
  {
   "cell_type": "code",
   "execution_count": 28,
   "metadata": {},
   "outputs": [
    {
     "name": "stdout",
     "output_type": "stream",
     "text": [
      "Accuracy: 0.83\n",
      "Precision: 0.8837209302325582\n",
      "Recall: 0.76\n",
      "F1-Score: 0.8172043010752689\n"
     ]
    }
   ],
   "source": [
    "evaluation(x_te_count_w,Y_te,w_count)"
   ]
  },
  {
   "cell_type": "markdown",
   "metadata": {},
   "source": [
    "Finally, print the top-10 words for the negative and positive class respectively."
   ]
  },
  {
   "cell_type": "code",
   "execution_count": 29,
   "metadata": {
    "ExecuteTime": {
     "end_time": "2020-02-15T14:17:51.613935Z",
     "start_time": "2020-02-15T14:17:51.610660Z"
    }
   },
   "outputs": [
    {
     "name": "stdout",
     "output_type": "stream",
     "text": [
      "bad\n",
      "unfortunately\n",
      "worst\n",
      "boring\n",
      "script\n",
      "why\n",
      "nothing\n",
      "only\n",
      "plot\n",
      "any\n"
     ]
    }
   ],
   "source": [
    "top_neg = w_count.argsort()[:10]\n",
    "for i in top_neg:\n",
    "    print(id2word[i])"
   ]
  },
  {
   "cell_type": "code",
   "execution_count": 30,
   "metadata": {
    "ExecuteTime": {
     "end_time": "2020-02-15T14:17:51.624122Z",
     "start_time": "2020-02-15T14:17:51.615674Z"
    }
   },
   "outputs": [
    {
     "name": "stdout",
     "output_type": "stream",
     "text": [
      "great\n",
      "well\n",
      "fun\n",
      "seen\n",
      "both\n",
      "movies\n",
      "world\n",
      "hilarious\n",
      "also\n",
      "true\n"
     ]
    }
   ],
   "source": [
    "top_pos = w_count.argsort()[::-1][:10]\n",
    "for i in top_pos:\n",
    "    print(id2word[i])"
   ]
  },
  {
   "cell_type": "code",
   "execution_count": 31,
   "metadata": {},
   "outputs": [],
   "source": [
    "# print the top 10 word of each class\n",
    "\n",
    "def print_top10(w,id2word):                          \n",
    "    neg_temp = []\n",
    "    pos_temp = []\n",
    "    top_neg = w.argsort()[:10]\n",
    "    for i in top_neg:\n",
    "        neg_temp.append(id2word[i])\n",
    "    top_pos = w.argsort()[::-1][:10]\n",
    "    for i in top_pos:\n",
    "        pos_temp.append(id2word[i])\n",
    "    print('Top 10 negative word:{}'.format(neg_temp))\n",
    "    print('Top 10 positive word:{}'.format(pos_temp))"
   ]
  },
  {
   "cell_type": "markdown",
   "metadata": {},
   "source": [
    "If we were to apply the classifier we've learned into a different domain such laptop reviews or restaurant reviews, do you think these features would generalise well? Can you propose what features the classifier could pick up as important in the new domain?"
   ]
  },
  {
   "cell_type": "markdown",
   "metadata": {},
   "source": [
    "Answer: In my opinian, the some of negtive word can use in other field like bad, worst,unfortunately,nothing,boring and so on. And some of positive word such as great, well can also use in a different domain but the some of these positive word are neutral like life, movies,both,world. The word like seen movies may not be applied in other field."
   ]
  },
  {
   "cell_type": "markdown",
   "metadata": {},
   "source": [
    "### Discuss how did you choose model hyperparameters (e.g. learning rate and regularisation strength)? What is the relation between training epochs and learning rate? How the regularisation strength affects performance?"
   ]
  },
  {
   "cell_type": "markdown",
   "metadata": {},
   "source": [
    "\n",
    "| LR | lr  | alpha | ngram_range  |  keep_topN  | training epochs | accuracy |\n",
    "|:-:|:-:|:-:|:-:|:-:|:-:|:-:|\n",
    "| BOW-count  | 2e-6  | 0.0001  |(1,3) |  2500 | 3813  |  0.8275  |\n",
    "|            | 2.3e-6  | 0.0001 |(1,3)  | 2500  | 3776  |  0.83  |\n",
    "|            | 2.6e-6  | 0.0001 |(1,3)  | 2500  | 2823  |  0.8275  |\n",
    "|            | 2.3e-6  | 0.0001 | (1,3) | 3000  | 3114   |  0.835  |\n",
    "|            | 2.3e-6  | 0.000001 | (1,3) | 3000 | 3013 | 0.8325|\n",
    "|            | 2.3e-6  | 0.001 | (1,3) | 3000 | 2946 | 0.8225|\n",
    "| BOW-tfidf  |  1e-5 | 0.0001 |(1,3)  | 3000  |  3258  | 0.84 |\n",
    "|            |  1e-5 | 0.0001 | (1,3)  | 2000  | 2523 | 0.8625|\n",
    "| BOCN-count  |  3e-7 | 0.000001 | (3,4)  |  500   |   1140  |  0.7375  |\n",
    "|             | 1.7e-7| 0.000001| (3,4) | 1000 | 2451 | 0.7875|\n",
    "| BOCN-tfidf  |  3e-5 |0.0001 | (3,4) |  500 |  1186  |   0.7  |\n",
    "|             |   3e-5 | 0.0001| (3,4) |  700 |  1483  |   0.75  |\n",
    "|             | 3e-5 | 0.0001|(3,4)| 1000| 596 | 0.775 |\n",
    "|             | 3e-5 | 0.001|(3,4)| 1000| 590 | 0.7725 |\n",
    "|             | 3e-5 | 0.00001|(3,4)| 1000| 636 | 0.7725 |\n"
   ]
  },
  {
   "cell_type": "markdown",
   "metadata": {},
   "source": [
    "Answer: \n",
    "1. When choose the model hyperparameters like learning rate and regularisation strength, I always chooce a common value like 1e-5 or 1e-6, looking at the training epochs. Because we have build a threshold, so when learning rate is too high, it will break fast and the accuracy is not ideal. And when the learning rate is too small, the epochs may become too much and when we set a maximum value of epochs like 3000, it will not break untill 3000 epochs and the accuracy is also not good enough.\n",
    "2. Training epochs will become large when learning rate become smaller.\n",
    "3. According to the equation of the w updating, it influences the speed of w updating, when it become smaller, the more epochs needed because the speed of w updating become slower. So when we tune the regularisation strength smaller, we can tune the learning rate larger to remain the model's performance.The effect of regularisation strength is quite small but when it is 1e-4, the accuracy become higher."
   ]
  },
  {
   "cell_type": "markdown",
   "metadata": {},
   "source": [
    "## Train and Evaluate Logistic Regression with TF.IDF vectors\n",
    "\n",
    "Follow the same steps as above (i.e. evaluating count n-gram representations).\n"
   ]
  },
  {
   "cell_type": "markdown",
   "metadata": {},
   "source": [
    "### Now repeat the training and evaluation process for BOW-tfidf, BOCN-count, BOCN-tfidf, BOW+BOCN including hyperparameter tuning for each model..."
   ]
  },
  {
   "cell_type": "code",
   "execution_count": 32,
   "metadata": {},
   "outputs": [],
   "source": [
    "# packaging the LR model with SGD for reusing\n",
    "\n",
    "def myLRmodel_count(X_tr, Y_tr, X_dev,Y_dev,X_te,Y_te, ngram_range,min_df,keep_topN,\n",
    "                    stop_words,char_ngrams,lr,alpha,print_progress,t,epochs,tolerance):\n",
    "    \n",
    "    vocab,df,ngram_counts,ngram_tr = get_vocab(X_tr, ngram_range=ngram_range, min_df=min_df,\n",
    "                                      keep_topN=keep_topN,stop_words=stop_words,\n",
    "                                               char_ngrams=char_ngrams)             # get vocab\n",
    "    \n",
    "    ngram_dev,ngram_te = ext_all_ngrams(X_dev,X_te,stop_words,vocab,char_ngrams)    # extract the ngrams \n",
    "    \n",
    "    x_tr_c,x_dev_c,x_te_c = vec_all_data(ngram_tr,ngram_dev,ngram_te,vocab)         # vectorise the ngrams\n",
    "    \n",
    "    id2word,word2id = createDict(vocab)\n",
    "    \n",
    "    if isinstance(lr,list):                       # determine if lr is a list, that is, whether tune\n",
    "        \n",
    "        max_score = 0\n",
    "        \n",
    "        for l in lr:\n",
    "            weights_temp,train_loss_temp,val_loss_temp = SGD(x_tr_c,Y_tr,x_dev_c,Y_dev, lr=l, alpha=alpha, \n",
    "                                      epochs=epochs,tolerance = tolerance, print_progress=print_progress)\n",
    "                                                  # train the model\n",
    "                \n",
    "            preds_te = predict_class(x_te_c, weights_temp)\n",
    "            score = accuracy_score(Y_te,preds_te)\n",
    "            \n",
    "            if score > max_score:                 # save the best para and information related to save runtime \n",
    "                best_lr = l                       # or it will train the model again using the best parameter\n",
    "                max_score = score\n",
    "                weights = weights_temp\n",
    "                train_loss = train_loss_temp\n",
    "                val_loss = val_loss_temp\n",
    "                \n",
    "        print('Train finish! The best parameter:{:.8f}, accuracy:{} '.format(best_lr,max_score))\n",
    "                \n",
    "    else:                                          # if lr is not a list, do not need tune\n",
    "        weights,train_loss,val_loss = SGD(x_tr_c,Y_tr,x_dev_c,Y_dev, lr=lr, alpha=alpha, \n",
    "                                      epochs=epochs,tolerance = tolerance, print_progress=print_progress)\n",
    "                                                  # train the model\n",
    "        print('Train finish!')\n",
    "\n",
    "    show_loss(train_loss,val_loss,t)\n",
    "    \n",
    "    evaluation(x_te_c,Y_te,weights)\n",
    "    \n",
    "    print_top10(weights,id2word)\n",
    "    \n",
    "    return x_tr_c,x_dev_c,x_te_c,vocab,df,id2word\n"
   ]
  },
  {
   "cell_type": "code",
   "execution_count": 33,
   "metadata": {},
   "outputs": [],
   "source": [
    "# tfidf LR model, evaluate results and show the loss\n",
    "\n",
    "def myLRmodel_tfidf(x_tr_count,Y_tr,x_dev_count,Y_dev,x_te_count,Y_te, vocab,df,ngram_range,     \n",
    "                    char_ngrams,lr,alpha,epochs,tolerance,print_progress,t,id2word):\n",
    "    \n",
    "    x_tr_tfidf,x_dev_tfidf,x_te_tfidf = vec_tfidf(x_tr_count,x_dev_count,x_te_count,vocab,df)\n",
    "    \n",
    "    \n",
    "    if isinstance(lr,list):                       # determine if lr is a list, that is, whether tune\n",
    "        \n",
    "        max_score = 0\n",
    "        for l in lr:\n",
    "            weights_temp,train_loss_temp,val_loss_temp = SGD(x_tr_tfidf,Y_tr,x_dev_tfidf,Y_dev, lr=l, alpha=alpha, \n",
    "                                          epochs=epochs,tolerance = tolerance, print_progress=print_progress)\n",
    "                                                  # train the model\n",
    "            preds_te = predict_class(x_te_tfidf, weights_temp)\n",
    "            score = accuracy_score(Y_te,preds_te)\n",
    "            \n",
    "            if score > max_score:                 # save the best para and information related to save runtime \n",
    "                best_lr = l                       # or it will train the model again using the best parameter\n",
    "                max_score = score\n",
    "                weights = weights_temp\n",
    "                train_loss = train_loss_temp\n",
    "                val_loss = val_loss_temp\n",
    "                \n",
    "        print('Train finish! The best parameter:{:.8f}, accuracy:{} '.format(best_lr,max_score))\n",
    "                \n",
    "    else:                                          # if lr is not a list, do not need tune\n",
    "        weights,train_loss,val_loss = SGD(x_tr_tfidf,Y_tr,x_dev_tfidf,Y_dev, lr=lr, alpha=alpha, \n",
    "                                          epochs=epochs,tolerance = tolerance, print_progress=print_progress)\n",
    "                                                  # train the model\n",
    "        print('Train finish!')\n",
    "        \n",
    "    show_loss(train_loss,val_loss,t)              # show the loss line\n",
    "    \n",
    "    evaluation(x_te_tfidf,Y_te,weights)           # evaluate the model\n",
    "    \n",
    "    print_top10(weights,id2word)\n",
    "    \n",
    "    return x_tr_tfidf,x_dev_tfidf,x_te_tfidf      # using for BOW+BOCN"
   ]
  },
  {
   "cell_type": "code",
   "execution_count": 34,
   "metadata": {},
   "outputs": [
    {
     "name": "stdout",
     "output_type": "stream",
     "text": [
      "Finish training! Epoch: 2358. Training_Loss: 0.098958. Val_Loss: 0.376396. lr:0.00001500\n",
      "Train finish!\n",
      "Accuracy: 0.855\n",
      "Precision: 0.8622448979591837\n",
      "Recall: 0.845\n",
      "F1-Score: 0.8535353535353536\n",
      "Top 10 negative word:['bad', 'worst', 'boring', 'unfortunately', 'supposed', 'awful', 'nothing', 'minute', 'waste', 'ridiculous']\n",
      "Top 10 positive word:['hilarious', 'great', 'pulp', 'fun', 'perfectly', 'terrific', 'simple', 'truth', 'definitely', 'overall']\n"
     ]
    },
    {
     "data": {
      "image/png": "[encoded data removed]",
      "text/plain": [
       "<Figure size 504x360 with 1 Axes>"
      ]
     },
     "metadata": {
      "needs_background": "light"
     },
     "output_type": "display_data"
    }
   ],
   "source": [
    "lr = 1.5e-5                                 # if no need to tune\n",
    "#lr = list(np.logspace(-5.1, -4.9, 3))      # tuning the lr\n",
    "t='BOW-tfidf'\n",
    "print_progress = False\n",
    "x_tr_tfidf_w,x_dev_tfidf_w,x_te_tfidf_w = myLRmodel_tfidf(x_tr_count_w,Y_tr,x_dev_count_w,Y_dev,x_te_count_w,Y_te,vocab,\n",
    "                df,ngram_range,char_ngrams,lr,alpha,epochs,tolerance,print_progress,t,id2word)\n"
   ]
  },
  {
   "cell_type": "markdown",
   "metadata": {},
   "source": [
    "The word in the top 10 in BOW-tfidf model have more generate features. Such as in negative word, unless 'minute', other words can definitely apply in every domain. There are some positive word can be alse applied as 'hilarious','great','fun','perfectly'. "
   ]
  },
  {
   "cell_type": "code",
   "execution_count": 35,
   "metadata": {},
   "outputs": [
    {
     "ename": "KeyboardInterrupt",
     "evalue": "",
     "output_type": "error",
     "traceback": [
      "\u001b[0;31m---------------------------------------------------------------------------\u001b[0m",
      "\u001b[0;31mKeyboardInterrupt\u001b[0m                         Traceback (most recent call last)",
      "\u001b[0;32m/var/folders/v3/m7r6fd_d4730hzvw8f6cqb0m0000gn/T/ipykernel_90992/757702127.py\u001b[0m in \u001b[0;36m<module>\u001b[0;34m\u001b[0m\n\u001b[1;32m     14\u001b[0m \u001b[0mprint_progress\u001b[0m \u001b[0;34m=\u001b[0m \u001b[0;32mTrue\u001b[0m\u001b[0;34m\u001b[0m\u001b[0;34m\u001b[0m\u001b[0m\n\u001b[1;32m     15\u001b[0m \u001b[0;34m\u001b[0m\u001b[0m\n\u001b[0;32m---> 16\u001b[0;31m x_tr_count_c,x_dev_count_c,x_te_count_c,vocab_c,df_c,id2word_c = myLRmodel_count(train_data_text, Y_tr, dev_data_text,Y_dev,\n\u001b[0m\u001b[1;32m     17\u001b[0m                                                              \u001b[0mtest_data_text\u001b[0m\u001b[0;34m,\u001b[0m\u001b[0mY_te\u001b[0m\u001b[0;34m,\u001b[0m\u001b[0mngram_range\u001b[0m\u001b[0;34m,\u001b[0m\u001b[0mmin_df\u001b[0m\u001b[0;34m,\u001b[0m\u001b[0mkeep_topN\u001b[0m\u001b[0;34m,\u001b[0m\u001b[0;34m\u001b[0m\u001b[0;34m\u001b[0m\u001b[0m\n\u001b[1;32m     18\u001b[0m                                                                 \u001b[0mstop_words\u001b[0m\u001b[0;34m,\u001b[0m\u001b[0mchar_ngrams\u001b[0m\u001b[0;34m,\u001b[0m\u001b[0mlr\u001b[0m\u001b[0;34m,\u001b[0m\u001b[0malpha\u001b[0m\u001b[0;34m,\u001b[0m\u001b[0;34m\u001b[0m\u001b[0;34m\u001b[0m\u001b[0m\n",
      "\u001b[0;32m/var/folders/v3/m7r6fd_d4730hzvw8f6cqb0m0000gn/T/ipykernel_90992/2122801858.py\u001b[0m in \u001b[0;36mmyLRmodel_count\u001b[0;34m(X_tr, Y_tr, X_dev, Y_dev, X_te, Y_te, ngram_range, min_df, keep_topN, stop_words, char_ngrams, lr, alpha, print_progress, t, epochs, tolerance)\u001b[0m\n\u001b[1;32m      4\u001b[0m                     stop_words,char_ngrams,lr,alpha,print_progress,t,epochs,tolerance):\n\u001b[1;32m      5\u001b[0m \u001b[0;34m\u001b[0m\u001b[0m\n\u001b[0;32m----> 6\u001b[0;31m     vocab,df,ngram_counts,ngram_tr = get_vocab(X_tr, ngram_range=ngram_range, min_df=min_df,\n\u001b[0m\u001b[1;32m      7\u001b[0m                                       \u001b[0mkeep_topN\u001b[0m\u001b[0;34m=\u001b[0m\u001b[0mkeep_topN\u001b[0m\u001b[0;34m,\u001b[0m\u001b[0mstop_words\u001b[0m\u001b[0;34m=\u001b[0m\u001b[0mstop_words\u001b[0m\u001b[0;34m,\u001b[0m\u001b[0;34m\u001b[0m\u001b[0;34m\u001b[0m\u001b[0m\n\u001b[1;32m      8\u001b[0m                                                char_ngrams=char_ngrams)             # get vocab\n",
      "\u001b[0;32m/var/folders/v3/m7r6fd_d4730hzvw8f6cqb0m0000gn/T/ipykernel_90992/872502656.py\u001b[0m in \u001b[0;36mget_vocab\u001b[0;34m(X_raw, ngram_range, min_df, keep_topN, stop_words, char_ngrams)\u001b[0m\n\u001b[1;32m     31\u001b[0m \u001b[0;34m\u001b[0m\u001b[0m\n\u001b[1;32m     32\u001b[0m     \u001b[0;32mfor\u001b[0m \u001b[0mi\u001b[0m \u001b[0;32min\u001b[0m \u001b[0mrange\u001b[0m\u001b[0;34m(\u001b[0m\u001b[0mlen\u001b[0m\u001b[0;34m(\u001b[0m\u001b[0mX_raw\u001b[0m\u001b[0;34m)\u001b[0m\u001b[0;34m)\u001b[0m\u001b[0;34m:\u001b[0m                        \u001b[0;31m# calculate the training dataset ngram list\u001b[0m\u001b[0;34m\u001b[0m\u001b[0;34m\u001b[0m\u001b[0m\n\u001b[0;32m---> 33\u001b[0;31m         \u001b[0mx_ngram\u001b[0m\u001b[0;34m[\u001b[0m\u001b[0mi\u001b[0m\u001b[0;34m]\u001b[0m \u001b[0;34m=\u001b[0m \u001b[0;34m[\u001b[0m\u001b[0mword\u001b[0m \u001b[0;32mfor\u001b[0m \u001b[0mword\u001b[0m \u001b[0;32min\u001b[0m \u001b[0mngram_counts_temp\u001b[0m\u001b[0;34m[\u001b[0m\u001b[0mi\u001b[0m\u001b[0;34m]\u001b[0m \u001b[0;32mif\u001b[0m \u001b[0mword\u001b[0m \u001b[0;32min\u001b[0m \u001b[0mvocab\u001b[0m\u001b[0;34m]\u001b[0m\u001b[0;34m\u001b[0m\u001b[0;34m\u001b[0m\u001b[0m\n\u001b[0m\u001b[1;32m     34\u001b[0m \u001b[0;34m\u001b[0m\u001b[0m\n\u001b[1;32m     35\u001b[0m     \u001b[0;32mreturn\u001b[0m \u001b[0mvocab\u001b[0m\u001b[0;34m,\u001b[0m \u001b[0mdf\u001b[0m\u001b[0;34m,\u001b[0m \u001b[0mngram_counts\u001b[0m\u001b[0;34m,\u001b[0m\u001b[0mx_ngram\u001b[0m             \u001b[0;31m# increase the train ngram list for saving the runtime\u001b[0m\u001b[0;34m\u001b[0m\u001b[0;34m\u001b[0m\u001b[0m\n",
      "\u001b[0;32m/var/folders/v3/m7r6fd_d4730hzvw8f6cqb0m0000gn/T/ipykernel_90992/872502656.py\u001b[0m in \u001b[0;36m<listcomp>\u001b[0;34m(.0)\u001b[0m\n\u001b[1;32m     31\u001b[0m \u001b[0;34m\u001b[0m\u001b[0m\n\u001b[1;32m     32\u001b[0m     \u001b[0;32mfor\u001b[0m \u001b[0mi\u001b[0m \u001b[0;32min\u001b[0m \u001b[0mrange\u001b[0m\u001b[0;34m(\u001b[0m\u001b[0mlen\u001b[0m\u001b[0;34m(\u001b[0m\u001b[0mX_raw\u001b[0m\u001b[0;34m)\u001b[0m\u001b[0;34m)\u001b[0m\u001b[0;34m:\u001b[0m                        \u001b[0;31m# calculate the training dataset ngram list\u001b[0m\u001b[0;34m\u001b[0m\u001b[0;34m\u001b[0m\u001b[0m\n\u001b[0;32m---> 33\u001b[0;31m         \u001b[0mx_ngram\u001b[0m\u001b[0;34m[\u001b[0m\u001b[0mi\u001b[0m\u001b[0;34m]\u001b[0m \u001b[0;34m=\u001b[0m \u001b[0;34m[\u001b[0m\u001b[0mword\u001b[0m \u001b[0;32mfor\u001b[0m \u001b[0mword\u001b[0m \u001b[0;32min\u001b[0m \u001b[0mngram_counts_temp\u001b[0m\u001b[0;34m[\u001b[0m\u001b[0mi\u001b[0m\u001b[0;34m]\u001b[0m \u001b[0;32mif\u001b[0m \u001b[0mword\u001b[0m \u001b[0;32min\u001b[0m \u001b[0mvocab\u001b[0m\u001b[0;34m]\u001b[0m\u001b[0;34m\u001b[0m\u001b[0;34m\u001b[0m\u001b[0m\n\u001b[0m\u001b[1;32m     34\u001b[0m \u001b[0;34m\u001b[0m\u001b[0m\n\u001b[1;32m     35\u001b[0m     \u001b[0;32mreturn\u001b[0m \u001b[0mvocab\u001b[0m\u001b[0;34m,\u001b[0m \u001b[0mdf\u001b[0m\u001b[0;34m,\u001b[0m \u001b[0mngram_counts\u001b[0m\u001b[0;34m,\u001b[0m\u001b[0mx_ngram\u001b[0m             \u001b[0;31m# increase the train ngram list for saving the runtime\u001b[0m\u001b[0;34m\u001b[0m\u001b[0;34m\u001b[0m\u001b[0m\n",
      "\u001b[0;31mKeyboardInterrupt\u001b[0m: "
     ]
    }
   ],
   "source": [
    "# BOCN-count\n",
    "\n",
    "t = 'BOCN-count'\n",
    "lr = 1.5e-7               # if don't need to tune the lr\n",
    "#lr = list(np.logspace(-7,-6.8,4))\n",
    "alpha = 0.001\n",
    "min_df = 700\n",
    "epochs = 3000\n",
    "#keep_topN = 0                 # if only drop the df of word less than 700\n",
    "keep_topN = 2000\n",
    "tolerance = 0.000001\n",
    "ngram_range = (3,4)\n",
    "char_ngrams = True\n",
    "print_progress = True\n",
    "\n",
    "x_tr_count_c,x_dev_count_c,x_te_count_c,vocab_c,df_c,id2word_c = myLRmodel_count(train_data_text, Y_tr, dev_data_text,Y_dev,\n",
    "                                                             test_data_text,Y_te,ngram_range,min_df,keep_topN,\n",
    "                                                                stop_words,char_ngrams,lr,alpha,\n",
    "                                                             print_progress,t,epochs,tolerance)\n",
    "\n"
   ]
  },
  {
   "cell_type": "code",
   "execution_count": null,
   "metadata": {},
   "outputs": [],
   "source": [
    "# BOCN-tfidf\n",
    "\n",
    "t='BOCN-tfidf'\n",
    "lr = 4e-6\n",
    "#lr = list(np.logspace(-4.9,-5.1,3))\n",
    "alpha = 0.001\n",
    "epochs = 4000\n",
    "print_progress = False\n",
    "x_tr_tfidf_c,x_dev_tfidf_c,x_te_tfidf_c = myLRmodel_tfidf(x_tr_count_c,Y_tr,x_dev_count_c,Y_dev,x_te_count_c,Y_te,vocab_c,\n",
    "                df_c,ngram_range,char_ngrams,lr,alpha,epochs,tolerance,print_progress,t,id2word_c)\n"
   ]
  },
  {
   "cell_type": "code",
   "execution_count": null,
   "metadata": {},
   "outputs": [],
   "source": [
    "# BOW+BOCN\n",
    "t = 'BOW+BOCN'\n",
    "lr = 7.4e-6\n",
    "epochs = 3000\n",
    "alpha = 0.001\n",
    "print_progress = True\n",
    "\n",
    "x_tr_bb = np.hstack([x_tr_tfidf_w,x_tr_tfidf_c])\n",
    "x_dev_bb = np.hstack([x_dev_tfidf_w,x_dev_tfidf_c])\n",
    "x_te_bb = np.hstack([x_te_tfidf_w,x_te_tfidf_c])\n",
    "vocab_bb = vocab + vocab_c\n",
    "id2wrod_bb,word2id_bb = createDict(vocab_bb)\n",
    "\n",
    "weights,train_loss,val_loss = SGD(x_tr_bb,Y_tr,x_dev_bb,Y_dev, lr=lr, alpha=alpha, \n",
    "                                      epochs=epochs,tolerance = tolerance, print_progress=print_progress)\n",
    "    \n",
    "evaluation(x_te_bb,Y_te,weights)\n",
    "    \n",
    "show_loss(train_loss,val_loss,t) \n",
    "\n",
    "print_top10(weights,id2wrod_bb)"
   ]
  },
  {
   "cell_type": "markdown",
   "metadata": {},
   "source": [
    "\n",
    "\n",
    "## Full Results\n",
    "\n",
    "Add here your results:\n",
    "\n",
    "| LR | Precision  | Recall  | F1-Score  |\n",
    "|:-:|:-:|:-:|:-:|\n",
    "| BOW-count  |  0.883 |  0.760 | 0.817  |\n",
    "| BOW-tfidf  | 0.862  | 0.845  | 0.853  |\n",
    "| BOCN-count  | 0.909  | 0.700  | 0.790  |\n",
    "| BOCN-tfidf  | 0.907  |  0.685 |  0.780 |\n",
    "| BOW+BOCN  | 0.909  | 0.800  | 0.851  |\n",
    "\n",
    "Please discuss why your best performing model is better than the rest."
   ]
  },
  {
   "cell_type": "markdown",
   "metadata": {},
   "source": [
    "Answer : \n",
    "As the table shows, the BOCN model perform not as good as BOW from F1-score, the reason may that the characters may has less meaning than the word or the learning rate and regulation do not fit mostly or it may need more features to train the model. The best model may be the BOW-tdidf or BOW+BOCN model. Because these the F1-score of these two model two model have quite a little difference and it may be changed by the hyperparameters or the size of features. And the reason of these two model having a good perform may be firstly, they are tfidf frequency. What's more ,according to BOW+BOCN, it has the largest features, on the theory of model, it may perform better. And these two model perform better than other may because they have a higher recall, which relate the threshold. When the threshold become higher, the prediction of positive sample may become more conservative, which contribute to a lower recall."
   ]
  },
  {
   "cell_type": "code",
   "execution_count": null,
   "metadata": {},
   "outputs": [],
   "source": []
  }
 ],
 "metadata": {
  "kernelspec": {
   "display_name": "Python 3 (ipykernel)",
   "language": "python",
   "name": "python3"
  },
  "language_info": {
   "codemirror_mode": {
    "name": "ipython",
    "version": 3
   },
   "file_extension": ".py",
   "mimetype": "text/x-python",
   "name": "python",
   "nbconvert_exporter": "python",
   "pygments_lexer": "ipython3",
   "version": "3.9.7"
  }
 },
 "nbformat": 4,
 "nbformat_minor": 2
}
